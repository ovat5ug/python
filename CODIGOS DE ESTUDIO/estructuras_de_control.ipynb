{
 "cells": [
  {
   "cell_type": "code",
   "execution_count": 27,
   "metadata": {},
   "outputs": [],
   "source": [
    "x=10\n",
    "y=34\n",
    "n=0\n",
    "valores = {'A': 4, 'E': 3, 'I': 1, 'O': 0}"
   ]
  },
  {
   "cell_type": "code",
   "execution_count": 28,
   "metadata": {},
   "outputs": [
    {
     "name": "stdout",
     "output_type": "stream",
     "text": [
      "11\n"
     ]
    }
   ],
   "source": [
    "if(x>5 and x<y):\n",
    "    z=x+1\n",
    "    print(z)"
   ]
  },
  {
   "cell_type": "code",
   "execution_count": 29,
   "metadata": {},
   "outputs": [
    {
     "name": "stdout",
     "output_type": "stream",
     "text": [
      "44\n",
      "45\n",
      "46\n",
      "47\n",
      "48\n",
      "49\n",
      "50\n",
      "51\n",
      "52\n",
      "53\n",
      "54\n"
     ]
    }
   ],
   "source": [
    "for i in range(11):##se ejecutara 11 veces el for\n",
    "    r=x+y\n",
    "    print(r+i)"
   ]
  },
  {
   "cell_type": "code",
   "execution_count": 30,
   "metadata": {},
   "outputs": [
    {
     "name": "stdout",
     "output_type": "stream",
     "text": [
      "valores: [ A ]\n",
      "valores: [ E ]\n",
      "valores: [ I ]\n",
      "valores: [ O ]\n",
      "llaves: { 4 }\n",
      "llaves: { 3 }\n",
      "llaves: { 1 }\n",
      "llaves: { 0 }\n"
     ]
    }
   ],
   "source": [
    "\n",
    "for k in valores:\n",
    "    print(\"valores: [\" , k , \"]\")##sobre los valores asignados\n",
    "for v in valores.values():\n",
    "    print(\"llaves: {\" , v , \"}\")##sobre los valores de la llaves"
   ]
  },
  {
   "cell_type": "code",
   "execution_count": 31,
   "metadata": {},
   "outputs": [
    {
     "name": "stdout",
     "output_type": "stream",
     "text": [
      "2 x 1 = 2\n",
      "2 x 2 = 4\n",
      "2 x 3 = 6\n",
      "2 x 4 = 8\n",
      "2 x 5 = 10\n",
      "2 x 6 = 12\n",
      "2 x 7 = 14\n",
      "2 x 8 = 16\n",
      "2 x 9 = 18\n",
      "2 x 10 = 20\n"
     ]
    }
   ],
   "source": [
    "tabla = 2   #En caso de querer la tabla del 2\n",
    "for x in range(1, 11):\n",
    "    print(str(tabla) + ' x ' + str(x) + \" = \" + str(tabla * x))"
   ]
  },
  {
   "cell_type": "code",
   "execution_count": 32,
   "metadata": {},
   "outputs": [
    {
     "name": "stdout",
     "output_type": "stream",
     "text": [
      "2 es la mitad de 4\n",
      "5 es la mitad de 10\n",
      "8 es la mitad de 16\n",
      "11 es la mitad de 22\n",
      "14 es la mitad de 28\n",
      "17 es la mitad de 34\n"
     ]
    }
   ],
   "source": [
    "for x in range(2, 20, 3):#(valor inicial, valor final(no es incluyente), valor incremento)\n",
    "    #print(x) #valor inicial\n",
    "    print(x,\"es la mitad de\", x*2)\n",
    "    #print(x) #valor valor incremento en \"3\""
   ]
  },
  {
   "cell_type": "code",
   "execution_count": 33,
   "metadata": {},
   "outputs": [
    {
     "name": "stdout",
     "output_type": "stream",
     "text": [
      "¿como? 0 0\n",
      "¿como? 0 1\n",
      "¿como? 0 2\n",
      "¿como? 1 0\n",
      "¿como? 1 1\n",
      "¿como? 1 2\n",
      "¿como? 2 0\n",
      "¿como? 2 1\n",
      "¿como? 2 2\n",
      "¿como? 3 0\n",
      "¿como? 3 1\n",
      "¿como? 3 2\n"
     ]
    }
   ],
   "source": [
    "for x in range(4): #se ejecuta 4 veces antes de finalizar el ciclo\n",
    "    for y in range(3):##se ejecuta 3 veces antes de finalizar el ciclo\n",
    "        print(\"¿como?\", x, y)"
   ]
  },
  {
   "cell_type": "code",
   "execution_count": 34,
   "metadata": {},
   "outputs": [
    {
     "name": "stdout",
     "output_type": "stream",
     "text": [
      "¿que? 0 0\n",
      "¿que? 0 1\n",
      "¿que? 0 2\n",
      "\n",
      "¿Cómo? 0 3\n",
      "¿Cómo? 0 2\n",
      "¿Cómo? 0 1\n",
      "\n",
      "¿que? 1 0\n",
      "¿que? 1 1\n",
      "¿que? 1 2\n",
      "\n",
      "¿Cómo? 1 3\n",
      "¿Cómo? 1 2\n",
      "¿Cómo? 1 1\n",
      "\n",
      "¿que? 2 0\n",
      "¿que? 2 1\n",
      "¿que? 2 2\n",
      "\n",
      "¿Cómo? 2 3\n",
      "¿Cómo? 2 2\n",
      "¿Cómo? 2 1\n",
      "\n",
      "¿que? 3 0\n",
      "¿que? 3 1\n",
      "¿que? 3 2\n",
      "\n",
      "¿Cómo? 3 3\n",
      "¿Cómo? 3 2\n",
      "¿Cómo? 3 1\n",
      "\n"
     ]
    }
   ],
   "source": [
    "for x in range(4):##se ejecuta 4 veces antes de finalizar el ciclo\n",
    "    for y in range(3):##se ejecuta 3 veces antes de finalizar el ciclo\n",
    "        print(\"¿que?\",x,y)\n",
    "        \n",
    "    print()\n",
    "    \n",
    "    for y in range(3, 0, -1):##se ejecuta 3 veces antes de finalizar el ciclo\n",
    "        print(\"¿Cómo?\",x,y) \n",
    "        \n",
    "    print()"
   ]
  },
  {
   "cell_type": "code",
   "execution_count": 36,
   "metadata": {},
   "outputs": [
    {
     "name": "stdout",
     "output_type": "stream",
     "text": [
      "\n",
      "Hola. Ingresaste un  11\n",
      "El doble de 11 es 22\n",
      "La mitad de 11 es 5.5\n"
     ]
    }
   ],
   "source": [
    "valor = int(input(\"Ingrese un número: \")) #Lo ingresado va a parar a la variable \"valor\" \n",
    "print()\n",
    "if valor > 10:\n",
    "    print(\"Hola. Ingresaste un \", valor)\n",
    "    print(\"El doble de\", valor , \"es\", valor * 2)\n",
    "    print(\"La mitad de\", valor , \"es\", valor / 2)"
   ]
  },
  {
   "cell_type": "code",
   "execution_count": 37,
   "metadata": {},
   "outputs": [
    {
     "name": "stdout",
     "output_type": "stream",
     "text": [
      "\n",
      "Hola. Ingresaste un  12\n",
      "El doble de 12 es 24\n",
      "La mitad de 12 es 6.0\n"
     ]
    }
   ],
   "source": [
    "valor = int(input(\"Ingrese un número: \")) #Lo ingresado va a parar a la variable \"valor\" \n",
    "print()\n",
    "if valor > 10:\n",
    "    print(\"Hola. Ingresaste un \", valor)\n",
    "    print(\"El doble de\", valor , \"es\", valor * 2)\n",
    "    print(\"La mitad de\", valor , \"es\", valor / 2)"
   ]
  },
  {
   "cell_type": "code",
   "execution_count": 38,
   "metadata": {},
   "outputs": [
    {
     "name": "stdout",
     "output_type": "stream",
     "text": [
      "[-5, 0, 1, 2, 2, 2, 7, 20, 31, 44, 87, 100, 567]\n"
     ]
    }
   ],
   "source": [
    "a = [2,0,-5,20,2,100,31,1,44,2,7,87,567]\n",
    "\n",
    "for x in range(len(a)):\n",
    "    for y in range(len(a)):\n",
    "        if a[x] < a[y]:\n",
    "            a[x], a[y] = a[y], a[x]\n",
    "\n",
    "print(a)"
   ]
  },
  {
   "cell_type": "code",
   "execution_count": 39,
   "metadata": {},
   "outputs": [
    {
     "name": "stdout",
     "output_type": "stream",
     "text": [
      "[-5, 0, 1, 2, 2, 2, 7, 20, 31, 44, 87, 100, 567]\n",
      "[567, 100, 87, 44, 31, 20, 7, 2, 2, 2, 1, 0, -5]\n"
     ]
    }
   ],
   "source": [
    "print(a)\n",
    "a.sort(reverse = True)\n",
    "print(a)"
   ]
  },
  {
   "cell_type": "code",
   "execution_count": 40,
   "metadata": {},
   "outputs": [
    {
     "name": "stdout",
     "output_type": "stream",
     "text": [
      "10\n",
      "9\n",
      "8\n",
      "7\n",
      "6\n",
      "5\n",
      "4\n",
      "3\n",
      "2\n",
      "1\n",
      "Fin\n"
     ]
    }
   ],
   "source": [
    "a = 10\n",
    "while a > 0:    #a > 0 es la condición que debe dar True\n",
    "    print(a)\n",
    "    a -= 1\n",
    "    \n",
    "print(\"Fin\")"
   ]
  },
  {
   "cell_type": "code",
   "execution_count": 41,
   "metadata": {},
   "outputs": [
    {
     "name": "stdout",
     "output_type": "stream",
     "text": [
      "18\n",
      "19\n",
      "20\n",
      "21\n",
      "22\n",
      "23\n",
      "24\n",
      "25\n",
      "26\n",
      "27\n",
      "28\n",
      "29\n",
      "30\n",
      "31\n",
      "32\n",
      "33\n",
      "Fin\n"
     ]
    }
   ],
   "source": [
    "a = 18\n",
    "while True: #¿Qué?\n",
    "    print(a)\n",
    "    a += 1\n",
    "    if a % 17 == 0:   #Si A es múltiplo de 17\n",
    "        break\n",
    "\n",
    "print(\"Fin\")"
   ]
  },
  {
   "cell_type": "code",
   "execution_count": 43,
   "metadata": {},
   "outputs": [
    {
     "name": "stdout",
     "output_type": "stream",
     "text": [
      "2 x 1 = 2\n",
      "2 x 2 = 4\n",
      "2 x 3 = 6\n",
      "2 x 4 = 8\n",
      "2 x 5 = 10\n",
      "2 x 6 = 12\n",
      "2 x 7 = 14\n",
      "2 x 8 = 16\n",
      "2 x 9 = 18\n",
      "2 x 10 = 20\n",
      "Fin\n"
     ]
    }
   ],
   "source": [
    "tabla = 2   #En caso de querer la tabla del 2\n",
    "x=1\n",
    "while x>=1 and x<11:\n",
    "    print(str(tabla) + ' x ' + str(x) + \" = \" + str(tabla * x))\n",
    "    x += 1\n",
    "print(\"Fin\")"
   ]
  },
  {
   "cell_type": "code",
   "execution_count": 42,
   "metadata": {},
   "outputs": [
    {
     "name": "stdout",
     "output_type": "stream",
     "text": [
      "argentino es anagrama de ignorante\n"
     ]
    }
   ],
   "source": [
    "#Dados 2 strings indicar si dichos strings son anagramas\n",
    "a = \"argentino\"\n",
    "b = \"ignorante\"\n",
    "# Poné tu código a partir de acá\n",
    "la = list(a)\n",
    "lb = list(b)\n",
    "la.sort()\n",
    "lb.sort()\n",
    "if la == lb:\n",
    "    print(a,\"es anagrama de\",b)"
   ]
  }
 ],
 "metadata": {
  "kernelspec": {
   "display_name": "Python 3",
   "language": "python",
   "name": "python3"
  },
  "language_info": {
   "codemirror_mode": {
    "name": "ipython",
    "version": 3
   },
   "file_extension": ".py",
   "mimetype": "text/x-python",
   "name": "python",
   "nbconvert_exporter": "python",
   "pygments_lexer": "ipython3",
   "version": "3.10.11"
  },
  "orig_nbformat": 4
 },
 "nbformat": 4,
 "nbformat_minor": 2
}
