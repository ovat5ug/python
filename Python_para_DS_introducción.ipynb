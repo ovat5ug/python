{
  "nbformat": 4,
  "nbformat_minor": 0,
  "metadata": {
    "colab": {
      "provenance": [],
      "collapsed_sections": [
        "XUWT2Go35V_L",
        "0qt1At5tuCfm",
        "dqv3ZTE4xJuu",
        "W3Q6MB7Ez7D2",
        "uZQd2b0MJfj4",
        "DjzOA3ZtUrfM"
      ],
      "authorship_tag": "ABX9TyP3z7CgAz1RF1JJSYkOWBRL",
      "include_colab_link": true
    },
    "kernelspec": {
      "name": "python3",
      "display_name": "Python 3"
    },
    "language_info": {
      "name": "python"
    }
  },
  "cells": [
    {
      "cell_type": "markdown",
      "metadata": {
        "id": "view-in-github",
        "colab_type": "text"
      },
      "source": [
        "<a href=\"https://colab.research.google.com/github/ovat5ug/python/blob/main/Python_para_DS_introducci%C3%B3n.ipynb\" target=\"_parent\"><img src=\"https://colab.research.google.com/assets/colab-badge.svg\" alt=\"Open In Colab\"/></a>"
      ]
    },
    {
      "cell_type": "markdown",
      "source": [
        "#Python para DS - introducción\n",
        "\n"
      ],
      "metadata": {
        "id": "XUWT2Go35V_L"
      }
    },
    {
      "cell_type": "code",
      "execution_count": null,
      "metadata": {
        "colab": {
          "base_uri": "https://localhost:8080/"
        },
        "id": "vHEzWK3J4iLZ",
        "outputId": "dc58bebf-cd4c-4791-88a0-db759c019b98"
      },
      "outputs": [
        {
          "output_type": "stream",
          "name": "stdout",
          "text": [
            "¿Cuál es tu primer nombre? luis\n",
            "¿Cuál es tu apellido? perez\n",
            "luis perez\n"
          ]
        }
      ],
      "source": [
        "def nombre_completo():\n",
        "   primer_nombre = input('¿Cuál es tu primer nombre? ')\n",
        "   apellido = input('¿Cuál es tu apellido? ')\n",
        "   nombre_completo = primer_nombre + ' ' + apellido\n",
        "   print(nombre_completo)\n",
        "nombre_completo()\n"
      ]
    },
    {
      "cell_type": "code",
      "source": [
        "def saludar():\n",
        "   nombre = input('¿Cuál es tu primer nombre? ')\n",
        "   apellido = input('¿Cuál es tu apellido? ')\n",
        "   saludar = nombre + ' ' + apellido\n",
        "   print(f\"Tenga un buen día {saludar}\")\n",
        "saludar()"
      ],
      "metadata": {
        "colab": {
          "base_uri": "https://localhost:8080/"
        },
        "id": "zsMluuZkrw-W",
        "outputId": "231f79eb-f5f3-4b42-e58e-db3717277ef3"
      },
      "execution_count": null,
      "outputs": [
        {
          "output_type": "stream",
          "name": "stdout",
          "text": [
            "¿Cuál es tu primer nombre? luis\n",
            "¿Cuál es tu apellido? perez\n",
            "Tenga un buen día luis perez\n"
          ]
        }
      ]
    },
    {
      "cell_type": "markdown",
      "source": [
        "#Parámetros"
      ],
      "metadata": {
        "id": "0qt1At5tuCfm"
      }
    },
    {
      "cell_type": "code",
      "source": [
        "nombre = \"Martha\"\n",
        "def saludar_con_parametros(nombre):\n",
        "  print(f\"Hola {nombre} sea usted bienbenid@!!!\")\n",
        "saludar_con_parametros(nombre)"
      ],
      "metadata": {
        "colab": {
          "base_uri": "https://localhost:8080/"
        },
        "id": "eAPB9rdauOHJ",
        "outputId": "3e568a48-58c6-474b-d2c3-1155d4bcaaf0"
      },
      "execution_count": null,
      "outputs": [
        {
          "output_type": "stream",
          "name": "stdout",
          "text": [
            "Hola Martha sea usted bienbenid@!!!\n"
          ]
        }
      ]
    },
    {
      "cell_type": "code",
      "source": [
        "def velocidad(espacio, tiempo):\n",
        " v = espacio / tiempo\n",
        " print(f' Velocidad: {v} m/s')\n",
        "velocidad(100, 20)"
      ],
      "metadata": {
        "colab": {
          "base_uri": "https://localhost:8080/"
        },
        "id": "Nnzop3Ahv0gN",
        "outputId": "eb5ffe11-8fe6-4e4a-9aad-98b1018afea4"
      },
      "execution_count": null,
      "outputs": [
        {
          "output_type": "stream",
          "name": "stdout",
          "text": [
            " Velocidad: 5.0 m/s\n"
          ]
        }
      ]
    },
    {
      "cell_type": "markdown",
      "source": [
        "#condicionales"
      ],
      "metadata": {
        "id": "dqv3ZTE4xJuu"
      }
    },
    {
      "cell_type": "code",
      "source": [
        "condicional = \"USANDO IF'S y  con parametros\"\n",
        "edad = 20\n",
        "def verificar_si_puede_conducir(edad):\n",
        "  if edad>=18:\n",
        "    print(\"usted tiene edad suficiente para conducir\")\n",
        "  else:\n",
        "    print(\"usted no tiene edad suficiente para conducir\")\n",
        "verificar_si_puede_conducir(edad)"
      ],
      "metadata": {
        "colab": {
          "base_uri": "https://localhost:8080/"
        },
        "id": "d-NF7ZXgxQiw",
        "outputId": "691b79c9-b21b-48e6-a85b-7fc62c330745"
      },
      "execution_count": null,
      "outputs": [
        {
          "output_type": "stream",
          "name": "stdout",
          "text": [
            "usted tiene edad suficiente para conducir\n"
          ]
        }
      ]
    },
    {
      "cell_type": "markdown",
      "source": [
        "#Conversión de tipos de datos"
      ],
      "metadata": {
        "id": "W3Q6MB7Ez7D2"
      }
    },
    {
      "cell_type": "code",
      "source": [
        "condicional = \"USANDO IF'S, sin parametros y con conversion\"\n",
        "def verificar_si_puede_conducir_sin_parametro():\n",
        "  edad = input(\"digite edad: \")\n",
        "  edad = int(edad)\n",
        "  if edad>=18:\n",
        "    print(\"usted tiene edad suficiente para conducir\")\n",
        "  else:\n",
        "    print(\"usted no tiene edad suficiente para conducir\")\n",
        "verificar_si_puede_conducir_sin_parametro()"
      ],
      "metadata": {
        "colab": {
          "base_uri": "https://localhost:8080/"
        },
        "id": "QUERndZ4z_LZ",
        "outputId": "262a8282-7d30-4b21-8474-4338d079e57e"
      },
      "execution_count": null,
      "outputs": [
        {
          "output_type": "stream",
          "name": "stdout",
          "text": [
            "digite edad: 12\n",
            "usted no tiene edad suficiente para conducir\n"
          ]
        }
      ]
    },
    {
      "cell_type": "markdown",
      "source": [
        "#Declarando una Lista(arreglo)"
      ],
      "metadata": {
        "id": "uZQd2b0MJfj4"
      }
    },
    {
      "cell_type": "code",
      "source": [
        "edades = [12,15,18,65,55]\n",
        "nombre = \"Luis\"\n",
        "edades1 = edades [1]#devuelve el valor de la segunda posicion\n",
        "edades2 = edades [0:3]#devuelve el valor de las pociciones \"0,1,2 excluyendo la posicion 3\"\n",
        "print(edades1)\n",
        "print(edades2)"
      ],
      "metadata": {
        "colab": {
          "base_uri": "https://localhost:8080/"
        },
        "id": "AQJgeub1JwBn",
        "outputId": "eba0ddc2-8383-4803-9b6c-b6c2a4d15291"
      },
      "execution_count": null,
      "outputs": [
        {
          "output_type": "stream",
          "name": "stdout",
          "text": [
            "15\n",
            "[12, 15, 18]\n"
          ]
        }
      ]
    },
    {
      "cell_type": "code",
      "source": [
        "frase_alura = ['Digitales', ' y ', 'Negocios ', ' de ', 'Tecnología', 'Cursos']\n",
        "print(frase_alura[-1] + frase_alura[3] + frase_alura[-2] + frase_alura[1] + frase_alura[2] + frase_alura[0])"
      ],
      "metadata": {
        "colab": {
          "base_uri": "https://localhost:8080/"
        },
        "id": "PWOuMJ2aM5Em",
        "outputId": "b4926bc1-9bca-44fb-86b8-728850e843c7"
      },
      "execution_count": null,
      "outputs": [
        {
          "output_type": "stream",
          "name": "stdout",
          "text": [
            "Cursos de Tecnología y Negocios Digitales\n"
          ]
        }
      ]
    },
    {
      "cell_type": "code",
      "source": [
        "condicional = \"USANDO IF'S, con parametros y lista\"\n",
        "edades = [12,18,65,15,55]\n",
        "#edad = 20\n",
        "def verificar_si_puede_conducir(edad):\n",
        "  if edad>=18:\n",
        "    print(\"usted tiene edad suficiente para conducir\")\n",
        "  else:\n",
        "    print(\"usted no tiene edad suficiente para conducir\")\n",
        "for edad in edades:#para cada una de las edades recorrer la lista y evaluar condiciones\n",
        "  verificar_si_puede_conducir(edad)"
      ],
      "metadata": {
        "id": "WnQY8TL_N4B-",
        "colab": {
          "base_uri": "https://localhost:8080/"
        },
        "outputId": "181801c3-0132-4ddb-b75c-62fa88dbeb9a"
      },
      "execution_count": null,
      "outputs": [
        {
          "output_type": "stream",
          "name": "stdout",
          "text": [
            "usted no tiene edad suficiente para conducir\n",
            "usted tiene edad suficiente para conducir\n",
            "usted tiene edad suficiente para conducir\n",
            "usted no tiene edad suficiente para conducir\n",
            "usted tiene edad suficiente para conducir\n"
          ]
        }
      ]
    },
    {
      "cell_type": "code",
      "source": [
        "condicional = \"USANDO IF'S, con parametros y lista\"\n",
        "edades = [12,18,65,15,55]\n",
        "def verificar_si_puede_conducir_con_bucle(edades):\n",
        "  for edad in edades:#para cada una de las edades recorrer la lista y evaluar condiciones\n",
        "    if edad>=18:\n",
        "      print(\"usted tiene edad suficiente para conducir\")\n",
        "    else:\n",
        "      print(\"usted no tiene edad suficiente para conducir\")\n",
        "verificar_si_puede_conducir_con_bucle(edades)"
      ],
      "metadata": {
        "id": "HXPvk3pnPTYP",
        "colab": {
          "base_uri": "https://localhost:8080/"
        },
        "outputId": "189ecb1f-b72a-42ce-ee8b-bc193b181097"
      },
      "execution_count": null,
      "outputs": [
        {
          "output_type": "stream",
          "name": "stdout",
          "text": [
            "usted no tiene edad suficiente para conducir\n",
            "usted tiene edad suficiente para conducir\n",
            "usted tiene edad suficiente para conducir\n",
            "usted no tiene edad suficiente para conducir\n",
            "usted tiene edad suficiente para conducir\n"
          ]
        }
      ]
    },
    {
      "cell_type": "code",
      "source": [
        "def clasificar_nps(notas):\n",
        "  for nota in notas:\n",
        "    if nota <= 6:\n",
        "      print('El alumno es considerado Detractor')\n",
        "    else:\n",
        "      if nota <= 8: \n",
        "        print('El alumno es considerado Neutro')\n",
        "      else:\n",
        "        print('El alumno es considerado Promotor')\n",
        "\n",
        "clasificar_nps([9,8,10,6,7])"
      ],
      "metadata": {
        "colab": {
          "base_uri": "https://localhost:8080/"
        },
        "id": "J8xAyrEhSuEJ",
        "outputId": "3e9fc1ad-6fbf-45b8-91a9-68850379d699"
      },
      "execution_count": null,
      "outputs": [
        {
          "output_type": "stream",
          "name": "stdout",
          "text": [
            "El alumno es considerado Promotor\n",
            "El alumno es considerado Neutro\n",
            "El alumno es considerado Promotor\n",
            "El alumno es considerado Detractor\n",
            "El alumno es considerado Neutro\n"
          ]
        }
      ]
    },
    {
      "cell_type": "markdown",
      "source": [
        "#Tipo Booleano"
      ],
      "metadata": {
        "id": "DjzOA3ZtUrfM"
      }
    },
    {
      "cell_type": "code",
      "source": [
        "from pickle import TRUE\n",
        "condicional = \"USANDO IF'S, con parametros y lista\"\n",
        "verificaciones = []\n",
        "edades = [12,18,65,15,55]\n",
        "def verificar_si_puede_conducir_con_bool(verificaciones,edades):\n",
        "  for edad in edades:#para cada una de las edades recorrer la lista y evaluar condiciones\n",
        "    if edad>=18:\n",
        "      verificaciones.append(True)\n",
        "      #print(\"usted tiene edad suficiente para conducir\")\n",
        "    else:\n",
        "      verificaciones.append(False)\n",
        "      #print(\"usted no tiene edad suficiente para conducir\")\n",
        "verificar_si_puede_conducir_con_bool(verificaciones,edades)\n",
        "print(verificaciones)\n",
        "for verificacion in verificaciones:#para cada una de las edades recorrer la lista y evaluar condiciones\n",
        "    if verificacion==True:\n",
        "      print(\"usted tiene edad suficiente para conducir\")\n",
        "    else:\n",
        "      print(\"usted no tiene edad suficiente para conducir\")"
      ],
      "metadata": {
        "id": "rd9E885zUwE3",
        "colab": {
          "base_uri": "https://localhost:8080/"
        },
        "outputId": "59cfc0b0-f48e-4667-c869-45c1f86eb666"
      },
      "execution_count": null,
      "outputs": [
        {
          "output_type": "stream",
          "name": "stdout",
          "text": [
            "[False, True, True, False, True]\n",
            "usted no tiene edad suficiente para conducir\n",
            "usted tiene edad suficiente para conducir\n",
            "usted tiene edad suficiente para conducir\n",
            "usted no tiene edad suficiente para conducir\n",
            "usted tiene edad suficiente para conducir\n"
          ]
        }
      ]
    },
    {
      "cell_type": "markdown",
      "source": [
        "#Lista diferentes tipos de datos"
      ],
      "metadata": {
        "id": "pH224RDlY6ft"
      }
    },
    {
      "cell_type": "code",
      "source": [
        "persona = [\"Mariana\",25,True,\"Mexico\"]\n",
        "for datos in persona:\n",
        "  print(f\"El elemnto {datos} de la lista es del tipo\",type(datos))#type retorna el tipo del elemento evaluado"
      ],
      "metadata": {
        "colab": {
          "base_uri": "https://localhost:8080/"
        },
        "id": "oIHKKcD8Y_8z",
        "outputId": "7e14aed8-d658-4a99-de5b-779a75155bf0"
      },
      "execution_count": null,
      "outputs": [
        {
          "output_type": "stream",
          "name": "stdout",
          "text": [
            "El elemnto Mariana de la lista es del tipo <class 'str'>\n",
            "El elemnto 25 de la lista es del tipo <class 'int'>\n",
            "El elemnto True de la lista es del tipo <class 'bool'>\n",
            "El elemnto Mexico de la lista es del tipo <class 'str'>\n"
          ]
        }
      ]
    },
    {
      "cell_type": "markdown",
      "source": [
        "#Importando Bivliotecas"
      ],
      "metadata": {
        "id": "QTxrLa3F8n7r"
      }
    },
    {
      "cell_type": "code",
      "source": [
        "from random import randrange\n",
        "randrange(0,11)"
      ],
      "metadata": {
        "colab": {
          "base_uri": "https://localhost:8080/"
        },
        "id": "xVamaxXt8se3",
        "outputId": "cb430c9d-56da-4e82-bd79-32724edaa7af"
      },
      "execution_count": null,
      "outputs": [
        {
          "output_type": "execute_result",
          "data": {
            "text/plain": [
              "6"
            ]
          },
          "metadata": {},
          "execution_count": 3
        }
      ]
    },
    {
      "cell_type": "code",
      "source": [
        "from random import randrange\n",
        "n_loteria = [14,52,33]\n",
        "n_loteria.append(randrange(0,11))\n",
        "n_loteria"
      ],
      "metadata": {
        "colab": {
          "base_uri": "https://localhost:8080/"
        },
        "id": "2d2tbU1X-fZZ",
        "outputId": "35d3641a-61cd-47b8-bbce-9928e0553d84"
      },
      "execution_count": null,
      "outputs": [
        {
          "output_type": "execute_result",
          "data": {
            "text/plain": [
              "[14, 52, 33, 2]"
            ]
          },
          "metadata": {},
          "execution_count": 15
        }
      ]
    },
    {
      "cell_type": "code",
      "source": [
        "from random import randrange\n",
        "n_loteria = []\n",
        "for loteria in range (6):\n",
        "  n_loteria.append(randrange(0,11))\n",
        "n_loteria"
      ],
      "metadata": {
        "colab": {
          "base_uri": "https://localhost:8080/"
        },
        "id": "AEUTw47D_SIL",
        "outputId": "8652bbe1-e925-474a-c429-25a769e2a9c3"
      },
      "execution_count": null,
      "outputs": [
        {
          "output_type": "execute_result",
          "data": {
            "text/plain": [
              "[9, 5, 10, 5, 6, 8]"
            ]
          },
          "metadata": {},
          "execution_count": 16
        }
      ]
    },
    {
      "cell_type": "code",
      "source": [
        "from random import randrange, seed\n",
        "n_loteria = []\n",
        "seed (8)\n",
        "for loteria in range (6):\n",
        "  n_loteria.append(randrange(0,11))\n",
        "n_loteria"
      ],
      "metadata": {
        "colab": {
          "base_uri": "https://localhost:8080/"
        },
        "id": "jTV1e5l-_7w2",
        "outputId": "2407482b-d5f8-46ba-866f-f9b63b3b782f"
      },
      "execution_count": null,
      "outputs": [
        {
          "output_type": "execute_result",
          "data": {
            "text/plain": [
              "[3, 5, 6, 2, 3, 0]"
            ]
          },
          "metadata": {},
          "execution_count": 22
        }
      ]
    },
    {
      "cell_type": "markdown",
      "source": [
        "#Biblioteca Mathplotlib para gráficos"
      ],
      "metadata": {
        "id": "SByqpBChGaj1"
      }
    },
    {
      "cell_type": "code",
      "source": [
        "from random import randrange, seed\n",
        "import matplotlib.pyplot as plt\n",
        "n_loteria = []\n",
        "seed (8)\n",
        "for loteria in range (6):\n",
        "  n_loteria.append(randrange(0,11))\n",
        "n_loteria\n",
        "#list(range(1,7))\n",
        "x = list(range(1,7))\n",
        "y = n_loteria\n",
        "\n",
        "plt.plot(x,y, marker=\"o\")\n",
        "plt.title(\"Gráfico de posibilidad de ganar loteria de una persona\")\n",
        "plt.xlabel(\"Meses jugables\")\n",
        "plt.ylabel(\"oportunidad de ganar\")\n",
        "plt.show()"
      ],
      "metadata": {
        "colab": {
          "base_uri": "https://localhost:8080/",
          "height": 295
        },
        "id": "RW8HwVeHGqKh",
        "outputId": "c1a1652e-17e6-4d5a-cc83-32c830a6bfe1"
      },
      "execution_count": 40,
      "outputs": [
        {
          "output_type": "display_data",
          "data": {
            "text/plain": [
              "<Figure size 432x288 with 1 Axes>"
            ],
            "image/png": "[encoded data removed]"
          },
          "metadata": {
            "needs_background": "light"
          }
        }
      ]
    }
  ]
}