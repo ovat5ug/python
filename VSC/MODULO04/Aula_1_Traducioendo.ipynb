{
  "cells": [
    {
      "cell_type": "markdown",
      "metadata": {
        "id": "yK7CLCUQp-x4"
      },
      "source": [
        "# Importando base de datos"
      ]
    },
    {
      "cell_type": "code",
      "execution_count": 2,
      "metadata": {
        "id": "1vpvnGT0pdUK"
      },
      "outputs": [],
      "source": [
        "import pandas as pd\n",
        "#pip install Seaborn biblioteca para analisis estadisticos por medio de grafiscos de diseños\n",
        "#variados y coloridos"
      ]
    },
    {
      "cell_type": "code",
      "execution_count": 3,
      "metadata": {
        "colab": {
          "base_uri": "https://localhost:8080/"
        },
        "id": "eo-KjjS8qBIW",
        "outputId": "4922a997-65bb-4965-e297-034658efc967"
      },
      "outputs": [
        {
          "data": {
            "text/html": [
              "<div>\n",
              "<style scoped>\n",
              "    .dataframe tbody tr th:only-of-type {\n",
              "        vertical-align: middle;\n",
              "    }\n",
              "\n",
              "    .dataframe tbody tr th {\n",
              "        vertical-align: top;\n",
              "    }\n",
              "\n",
              "    .dataframe thead th {\n",
              "        text-align: right;\n",
              "    }\n",
              "</style>\n",
              "<table border=\"1\" class=\"dataframe\">\n",
              "  <thead>\n",
              "    <tr style=\"text-align: right;\">\n",
              "      <th></th>\n",
              "      <th>LIMIT_BAL</th>\n",
              "      <th>CHECKING_ACCOUNT</th>\n",
              "      <th>EDUCATION</th>\n",
              "      <th>MARRIAGE</th>\n",
              "      <th>AGE</th>\n",
              "      <th>BILL_AMT</th>\n",
              "      <th>PAY_AMT</th>\n",
              "      <th>DEFAULT</th>\n",
              "    </tr>\n",
              "  </thead>\n",
              "  <tbody>\n",
              "    <tr>\n",
              "      <th>0</th>\n",
              "      <td>6022</td>\n",
              "      <td>Yes</td>\n",
              "      <td>2.University</td>\n",
              "      <td>Married</td>\n",
              "      <td>24</td>\n",
              "      <td>934.0122</td>\n",
              "      <td>0.0000</td>\n",
              "      <td>1</td>\n",
              "    </tr>\n",
              "    <tr>\n",
              "      <th>1</th>\n",
              "      <td>36132</td>\n",
              "      <td>Yes</td>\n",
              "      <td>2.University</td>\n",
              "      <td>Single</td>\n",
              "      <td>26</td>\n",
              "      <td>519.3975</td>\n",
              "      <td>0.0000</td>\n",
              "      <td>1</td>\n",
              "    </tr>\n",
              "    <tr>\n",
              "      <th>2</th>\n",
              "      <td>27099</td>\n",
              "      <td>Yes</td>\n",
              "      <td>2.University</td>\n",
              "      <td>Single</td>\n",
              "      <td>34</td>\n",
              "      <td>4223.5297</td>\n",
              "      <td>457.0698</td>\n",
              "      <td>0</td>\n",
              "    </tr>\n",
              "    <tr>\n",
              "      <th>3</th>\n",
              "      <td>15055</td>\n",
              "      <td>Yes</td>\n",
              "      <td>2.University</td>\n",
              "      <td>Married</td>\n",
              "      <td>37</td>\n",
              "      <td>14522.9563</td>\n",
              "      <td>602.2000</td>\n",
              "      <td>0</td>\n",
              "    </tr>\n",
              "    <tr>\n",
              "      <th>4</th>\n",
              "      <td>150550</td>\n",
              "      <td>No</td>\n",
              "      <td>3.Graduate School</td>\n",
              "      <td>Single</td>\n",
              "      <td>29</td>\n",
              "      <td>124060.1253</td>\n",
              "      <td>16560.5000</td>\n",
              "      <td>0</td>\n",
              "    </tr>\n",
              "    <tr>\n",
              "      <th>...</th>\n",
              "      <td>...</td>\n",
              "      <td>...</td>\n",
              "      <td>...</td>\n",
              "      <td>...</td>\n",
              "      <td>...</td>\n",
              "      <td>...</td>\n",
              "      <td>...</td>\n",
              "      <td>...</td>\n",
              "    </tr>\n",
              "    <tr>\n",
              "      <th>1495</th>\n",
              "      <td>54198</td>\n",
              "      <td>Yes</td>\n",
              "      <td>3.Graduate School</td>\n",
              "      <td>Single</td>\n",
              "      <td>27</td>\n",
              "      <td>295.0780</td>\n",
              "      <td>0.0000</td>\n",
              "      <td>1</td>\n",
              "    </tr>\n",
              "    <tr>\n",
              "      <th>1496</th>\n",
              "      <td>45165</td>\n",
              "      <td>No</td>\n",
              "      <td>2.University</td>\n",
              "      <td>Married</td>\n",
              "      <td>55</td>\n",
              "      <td>23637.8555</td>\n",
              "      <td>1144.1800</td>\n",
              "      <td>0</td>\n",
              "    </tr>\n",
              "    <tr>\n",
              "      <th>1497</th>\n",
              "      <td>78286</td>\n",
              "      <td>No</td>\n",
              "      <td>3.Graduate School</td>\n",
              "      <td>Single</td>\n",
              "      <td>34</td>\n",
              "      <td>962.9178</td>\n",
              "      <td>962.9178</td>\n",
              "      <td>0</td>\n",
              "    </tr>\n",
              "    <tr>\n",
              "      <th>1498</th>\n",
              "      <td>6022</td>\n",
              "      <td>No</td>\n",
              "      <td>2.University</td>\n",
              "      <td>Married</td>\n",
              "      <td>44</td>\n",
              "      <td>864.7592</td>\n",
              "      <td>864.7592</td>\n",
              "      <td>0</td>\n",
              "    </tr>\n",
              "    <tr>\n",
              "      <th>1499</th>\n",
              "      <td>183671</td>\n",
              "      <td>No</td>\n",
              "      <td>3.Graduate School</td>\n",
              "      <td>Single</td>\n",
              "      <td>31</td>\n",
              "      <td>97022.8508</td>\n",
              "      <td>97022.8508</td>\n",
              "      <td>0</td>\n",
              "    </tr>\n",
              "  </tbody>\n",
              "</table>\n",
              "<p>1500 rows × 8 columns</p>\n",
              "</div>"
            ],
            "text/plain": [
              "      LIMIT_BAL CHECKING_ACCOUNT          EDUCATION MARRIAGE  AGE   \n",
              "0          6022              Yes       2.University  Married   24  \\\n",
              "1         36132              Yes       2.University   Single   26   \n",
              "2         27099              Yes       2.University   Single   34   \n",
              "3         15055              Yes       2.University  Married   37   \n",
              "4        150550               No  3.Graduate School   Single   29   \n",
              "...         ...              ...                ...      ...  ...   \n",
              "1495      54198              Yes  3.Graduate School   Single   27   \n",
              "1496      45165               No       2.University  Married   55   \n",
              "1497      78286               No  3.Graduate School   Single   34   \n",
              "1498       6022               No       2.University  Married   44   \n",
              "1499     183671               No  3.Graduate School   Single   31   \n",
              "\n",
              "         BILL_AMT     PAY_AMT  DEFAULT  \n",
              "0        934.0122      0.0000        1  \n",
              "1        519.3975      0.0000        1  \n",
              "2       4223.5297    457.0698        0  \n",
              "3      14522.9563    602.2000        0  \n",
              "4     124060.1253  16560.5000        0  \n",
              "...           ...         ...      ...  \n",
              "1495     295.0780      0.0000        1  \n",
              "1496   23637.8555   1144.1800        0  \n",
              "1497     962.9178    962.9178        0  \n",
              "1498     864.7592    864.7592        0  \n",
              "1499   97022.8508  97022.8508        0  \n",
              "\n",
              "[1500 rows x 8 columns]"
            ]
          },
          "execution_count": 3,
          "metadata": {},
          "output_type": "execute_result"
        }
      ],
      "source": [
        "pd.read_csv('credit_card.csv')"
      ]
    },
    {
      "cell_type": "code",
      "execution_count": 4,
      "metadata": {
        "id": "51-Xa1-2qQ9V"
      },
      "outputs": [],
      "source": [
        "datos = pd.read_csv('credit_card.csv')"
      ]
    },
    {
      "cell_type": "code",
      "execution_count": 5,
      "metadata": {
        "colab": {
          "base_uri": "https://localhost:8080/"
        },
        "id": "vk5csq8Oq0D6",
        "outputId": "ff7016fa-fbb2-4eaf-f4db-25eaeab41488"
      },
      "outputs": [
        {
          "data": {
            "text/html": [
              "<div>\n",
              "<style scoped>\n",
              "    .dataframe tbody tr th:only-of-type {\n",
              "        vertical-align: middle;\n",
              "    }\n",
              "\n",
              "    .dataframe tbody tr th {\n",
              "        vertical-align: top;\n",
              "    }\n",
              "\n",
              "    .dataframe thead th {\n",
              "        text-align: right;\n",
              "    }\n",
              "</style>\n",
              "<table border=\"1\" class=\"dataframe\">\n",
              "  <thead>\n",
              "    <tr style=\"text-align: right;\">\n",
              "      <th></th>\n",
              "      <th>LIMIT_BAL</th>\n",
              "      <th>CHECKING_ACCOUNT</th>\n",
              "      <th>EDUCATION</th>\n",
              "      <th>MARRIAGE</th>\n",
              "      <th>AGE</th>\n",
              "      <th>BILL_AMT</th>\n",
              "      <th>PAY_AMT</th>\n",
              "      <th>DEFAULT</th>\n",
              "    </tr>\n",
              "  </thead>\n",
              "  <tbody>\n",
              "    <tr>\n",
              "      <th>0</th>\n",
              "      <td>6022</td>\n",
              "      <td>Yes</td>\n",
              "      <td>2.University</td>\n",
              "      <td>Married</td>\n",
              "      <td>24</td>\n",
              "      <td>934.0122</td>\n",
              "      <td>0.0000</td>\n",
              "      <td>1</td>\n",
              "    </tr>\n",
              "    <tr>\n",
              "      <th>1</th>\n",
              "      <td>36132</td>\n",
              "      <td>Yes</td>\n",
              "      <td>2.University</td>\n",
              "      <td>Single</td>\n",
              "      <td>26</td>\n",
              "      <td>519.3975</td>\n",
              "      <td>0.0000</td>\n",
              "      <td>1</td>\n",
              "    </tr>\n",
              "    <tr>\n",
              "      <th>2</th>\n",
              "      <td>27099</td>\n",
              "      <td>Yes</td>\n",
              "      <td>2.University</td>\n",
              "      <td>Single</td>\n",
              "      <td>34</td>\n",
              "      <td>4223.5297</td>\n",
              "      <td>457.0698</td>\n",
              "      <td>0</td>\n",
              "    </tr>\n",
              "    <tr>\n",
              "      <th>3</th>\n",
              "      <td>15055</td>\n",
              "      <td>Yes</td>\n",
              "      <td>2.University</td>\n",
              "      <td>Married</td>\n",
              "      <td>37</td>\n",
              "      <td>14522.9563</td>\n",
              "      <td>602.2000</td>\n",
              "      <td>0</td>\n",
              "    </tr>\n",
              "    <tr>\n",
              "      <th>4</th>\n",
              "      <td>150550</td>\n",
              "      <td>No</td>\n",
              "      <td>3.Graduate School</td>\n",
              "      <td>Single</td>\n",
              "      <td>29</td>\n",
              "      <td>124060.1253</td>\n",
              "      <td>16560.5000</td>\n",
              "      <td>0</td>\n",
              "    </tr>\n",
              "  </tbody>\n",
              "</table>\n",
              "</div>"
            ],
            "text/plain": [
              "   LIMIT_BAL CHECKING_ACCOUNT          EDUCATION MARRIAGE  AGE     BILL_AMT   \n",
              "0       6022              Yes       2.University  Married   24     934.0122  \\\n",
              "1      36132              Yes       2.University   Single   26     519.3975   \n",
              "2      27099              Yes       2.University   Single   34    4223.5297   \n",
              "3      15055              Yes       2.University  Married   37   14522.9563   \n",
              "4     150550               No  3.Graduate School   Single   29  124060.1253   \n",
              "\n",
              "      PAY_AMT  DEFAULT  \n",
              "0      0.0000        1  \n",
              "1      0.0000        1  \n",
              "2    457.0698        0  \n",
              "3    602.2000        0  \n",
              "4  16560.5000        0  "
            ]
          },
          "execution_count": 5,
          "metadata": {},
          "output_type": "execute_result"
        }
      ],
      "source": [
        "datos.head()"
      ]
    },
    {
      "cell_type": "code",
      "execution_count": 6,
      "metadata": {
        "colab": {
          "base_uri": "https://localhost:8080/"
        },
        "id": "QwOFyWTrq4b3",
        "outputId": "0cae559d-a155-49fa-8b35-f66d349afec4"
      },
      "outputs": [
        {
          "name": "stdout",
          "output_type": "stream",
          "text": [
            "<class 'pandas.core.frame.DataFrame'>\n",
            "RangeIndex: 1500 entries, 0 to 1499\n",
            "Data columns (total 8 columns):\n",
            " #   Column            Non-Null Count  Dtype  \n",
            "---  ------            --------------  -----  \n",
            " 0   LIMIT_BAL         1500 non-null   int64  \n",
            " 1   CHECKING_ACCOUNT  1500 non-null   object \n",
            " 2   EDUCATION         1500 non-null   object \n",
            " 3   MARRIAGE          1500 non-null   object \n",
            " 4   AGE               1500 non-null   int64  \n",
            " 5   BILL_AMT          1500 non-null   float64\n",
            " 6   PAY_AMT           1500 non-null   float64\n",
            " 7   DEFAULT           1500 non-null   int64  \n",
            "dtypes: float64(2), int64(3), object(3)\n",
            "memory usage: 93.9+ KB\n"
          ]
        }
      ],
      "source": [
        "datos.info()"
      ]
    },
    {
      "cell_type": "markdown",
      "metadata": {
        "id": "M5Aua0mtr_-a"
      },
      "source": [
        "# Traduciendo variables"
      ]
    },
    {
      "cell_type": "code",
      "execution_count": 7,
      "metadata": {
        "colab": {
          "base_uri": "https://localhost:8080/"
        },
        "id": "EkLxzoS2rArT",
        "outputId": "74ba61e5-cc55-4d47-bc15-17a92a314a0a"
      },
      "outputs": [
        {
          "data": {
            "text/plain": [
              "Index(['LIMIT_BAL', 'CHECKING_ACCOUNT', 'EDUCATION', 'MARRIAGE', 'AGE',\n",
              "       'BILL_AMT', 'PAY_AMT', 'DEFAULT'],\n",
              "      dtype='object')"
            ]
          },
          "execution_count": 7,
          "metadata": {},
          "output_type": "execute_result"
        }
      ],
      "source": [
        "datos.columns"
      ]
    },
    {
      "cell_type": "code",
      "execution_count": 8,
      "metadata": {
        "id": "2C4vyEp0sCPJ"
      },
      "outputs": [],
      "source": [
        "dic_columnas = {\n",
        "    'LIMIT_BAL' : 'limite', \n",
        "    'CHECKING_ACCOUNT' : 'cuenta_corriente', \n",
        "    'EDUCATION' : 'escolaridad', \n",
        "    'MARRIAGE' : 'estado_civil', \n",
        "    'AGE' : 'edad',\n",
        "    'BILL_AMT' : 'valor_factura', \n",
        "    'PAY_AMT' : 'valor_pago', \n",
        "    'DEFAULT' : 'moroso'\n",
        "}"
      ]
    },
    {
      "cell_type": "code",
      "execution_count": 9,
      "metadata": {
        "id": "DajHMeOXsx7V"
      },
      "outputs": [],
      "source": [
        "tarjetas = datos.rename(columns = dic_columnas)\n",
        "#renombrando en funcion de \"dic_columnas\""
      ]
    },
    {
      "cell_type": "code",
      "execution_count": 10,
      "metadata": {
        "colab": {
          "base_uri": "https://localhost:8080/"
        },
        "id": "MOOByTxvs_xY",
        "outputId": "71297d4a-9580-4940-dbb8-12f49da3c7f5"
      },
      "outputs": [
        {
          "data": {
            "text/html": [
              "<div>\n",
              "<style scoped>\n",
              "    .dataframe tbody tr th:only-of-type {\n",
              "        vertical-align: middle;\n",
              "    }\n",
              "\n",
              "    .dataframe tbody tr th {\n",
              "        vertical-align: top;\n",
              "    }\n",
              "\n",
              "    .dataframe thead th {\n",
              "        text-align: right;\n",
              "    }\n",
              "</style>\n",
              "<table border=\"1\" class=\"dataframe\">\n",
              "  <thead>\n",
              "    <tr style=\"text-align: right;\">\n",
              "      <th></th>\n",
              "      <th>limite</th>\n",
              "      <th>cuenta_corriente</th>\n",
              "      <th>escolaridad</th>\n",
              "      <th>estado_civil</th>\n",
              "      <th>edad</th>\n",
              "      <th>valor_factura</th>\n",
              "      <th>valor_pago</th>\n",
              "      <th>moroso</th>\n",
              "    </tr>\n",
              "  </thead>\n",
              "  <tbody>\n",
              "    <tr>\n",
              "      <th>0</th>\n",
              "      <td>6022</td>\n",
              "      <td>Yes</td>\n",
              "      <td>2.University</td>\n",
              "      <td>Married</td>\n",
              "      <td>24</td>\n",
              "      <td>934.0122</td>\n",
              "      <td>0.0000</td>\n",
              "      <td>1</td>\n",
              "    </tr>\n",
              "    <tr>\n",
              "      <th>1</th>\n",
              "      <td>36132</td>\n",
              "      <td>Yes</td>\n",
              "      <td>2.University</td>\n",
              "      <td>Single</td>\n",
              "      <td>26</td>\n",
              "      <td>519.3975</td>\n",
              "      <td>0.0000</td>\n",
              "      <td>1</td>\n",
              "    </tr>\n",
              "    <tr>\n",
              "      <th>2</th>\n",
              "      <td>27099</td>\n",
              "      <td>Yes</td>\n",
              "      <td>2.University</td>\n",
              "      <td>Single</td>\n",
              "      <td>34</td>\n",
              "      <td>4223.5297</td>\n",
              "      <td>457.0698</td>\n",
              "      <td>0</td>\n",
              "    </tr>\n",
              "    <tr>\n",
              "      <th>3</th>\n",
              "      <td>15055</td>\n",
              "      <td>Yes</td>\n",
              "      <td>2.University</td>\n",
              "      <td>Married</td>\n",
              "      <td>37</td>\n",
              "      <td>14522.9563</td>\n",
              "      <td>602.2000</td>\n",
              "      <td>0</td>\n",
              "    </tr>\n",
              "    <tr>\n",
              "      <th>4</th>\n",
              "      <td>150550</td>\n",
              "      <td>No</td>\n",
              "      <td>3.Graduate School</td>\n",
              "      <td>Single</td>\n",
              "      <td>29</td>\n",
              "      <td>124060.1253</td>\n",
              "      <td>16560.5000</td>\n",
              "      <td>0</td>\n",
              "    </tr>\n",
              "  </tbody>\n",
              "</table>\n",
              "</div>"
            ],
            "text/plain": [
              "   limite cuenta_corriente        escolaridad estado_civil  edad   \n",
              "0    6022              Yes       2.University      Married    24  \\\n",
              "1   36132              Yes       2.University       Single    26   \n",
              "2   27099              Yes       2.University       Single    34   \n",
              "3   15055              Yes       2.University      Married    37   \n",
              "4  150550               No  3.Graduate School       Single    29   \n",
              "\n",
              "   valor_factura  valor_pago  moroso  \n",
              "0       934.0122      0.0000       1  \n",
              "1       519.3975      0.0000       1  \n",
              "2      4223.5297    457.0698       0  \n",
              "3     14522.9563    602.2000       0  \n",
              "4    124060.1253  16560.5000       0  "
            ]
          },
          "execution_count": 10,
          "metadata": {},
          "output_type": "execute_result"
        }
      ],
      "source": [
        "tarjetas.head()"
      ]
    },
    {
      "cell_type": "code",
      "execution_count": 11,
      "metadata": {
        "colab": {
          "base_uri": "https://localhost:8080/"
        },
        "id": "dbVlkME1tC6G",
        "outputId": "28bc0ad9-cd2e-4604-949d-91fd9470071d"
      },
      "outputs": [
        {
          "data": {
            "text/plain": [
              "array(['Yes', 'No'], dtype=object)"
            ]
          },
          "execution_count": 11,
          "metadata": {},
          "output_type": "execute_result"
        }
      ],
      "source": [
        "tarjetas.cuenta_corriente.unique()\n",
        "#confirmando si hay mas valores repetidos para poder hacer la traduccion"
      ]
    },
    {
      "cell_type": "code",
      "execution_count": 12,
      "metadata": {
        "id": "C6TFhVRxtS0v"
      },
      "outputs": [],
      "source": [
        "dic_cuenta = {\n",
        "    'Yes' : 'Si', \n",
        "    'No' : 'No'\n",
        "}"
      ]
    },
    {
      "cell_type": "code",
      "execution_count": 13,
      "metadata": {
        "colab": {
          "base_uri": "https://localhost:8080/"
        },
        "id": "1hLs_7x6tdgi",
        "outputId": "b56a78d2-64b2-46e7-acc4-914a6f4a48b1"
      },
      "outputs": [
        {
          "data": {
            "text/plain": [
              "0       Si\n",
              "1       Si\n",
              "2       Si\n",
              "3       Si\n",
              "4       No\n",
              "        ..\n",
              "1495    Si\n",
              "1496    No\n",
              "1497    No\n",
              "1498    No\n",
              "1499    No\n",
              "Name: cuenta_corriente, Length: 1500, dtype: object"
            ]
          },
          "execution_count": 13,
          "metadata": {},
          "output_type": "execute_result"
        }
      ],
      "source": [
        "tarjetas.cuenta_corriente.map(dic_cuenta)\n",
        "#solo crea la tabla temporal donde efectua los cambios de la traduccion"
      ]
    },
    {
      "cell_type": "code",
      "execution_count": 14,
      "metadata": {
        "colab": {
          "base_uri": "https://localhost:8080/"
        },
        "id": "Of6TujPDtomI",
        "outputId": "340b2d34-2550-4776-8d8f-8442b6034df5"
      },
      "outputs": [
        {
          "data": {
            "text/html": [
              "<div>\n",
              "<style scoped>\n",
              "    .dataframe tbody tr th:only-of-type {\n",
              "        vertical-align: middle;\n",
              "    }\n",
              "\n",
              "    .dataframe tbody tr th {\n",
              "        vertical-align: top;\n",
              "    }\n",
              "\n",
              "    .dataframe thead th {\n",
              "        text-align: right;\n",
              "    }\n",
              "</style>\n",
              "<table border=\"1\" class=\"dataframe\">\n",
              "  <thead>\n",
              "    <tr style=\"text-align: right;\">\n",
              "      <th></th>\n",
              "      <th>limite</th>\n",
              "      <th>cuenta_corriente</th>\n",
              "      <th>escolaridad</th>\n",
              "      <th>estado_civil</th>\n",
              "      <th>edad</th>\n",
              "      <th>valor_factura</th>\n",
              "      <th>valor_pago</th>\n",
              "      <th>moroso</th>\n",
              "    </tr>\n",
              "  </thead>\n",
              "  <tbody>\n",
              "    <tr>\n",
              "      <th>0</th>\n",
              "      <td>6022</td>\n",
              "      <td>Yes</td>\n",
              "      <td>2.University</td>\n",
              "      <td>Married</td>\n",
              "      <td>24</td>\n",
              "      <td>934.0122</td>\n",
              "      <td>0.0000</td>\n",
              "      <td>1</td>\n",
              "    </tr>\n",
              "    <tr>\n",
              "      <th>1</th>\n",
              "      <td>36132</td>\n",
              "      <td>Yes</td>\n",
              "      <td>2.University</td>\n",
              "      <td>Single</td>\n",
              "      <td>26</td>\n",
              "      <td>519.3975</td>\n",
              "      <td>0.0000</td>\n",
              "      <td>1</td>\n",
              "    </tr>\n",
              "    <tr>\n",
              "      <th>2</th>\n",
              "      <td>27099</td>\n",
              "      <td>Yes</td>\n",
              "      <td>2.University</td>\n",
              "      <td>Single</td>\n",
              "      <td>34</td>\n",
              "      <td>4223.5297</td>\n",
              "      <td>457.0698</td>\n",
              "      <td>0</td>\n",
              "    </tr>\n",
              "    <tr>\n",
              "      <th>3</th>\n",
              "      <td>15055</td>\n",
              "      <td>Yes</td>\n",
              "      <td>2.University</td>\n",
              "      <td>Married</td>\n",
              "      <td>37</td>\n",
              "      <td>14522.9563</td>\n",
              "      <td>602.2000</td>\n",
              "      <td>0</td>\n",
              "    </tr>\n",
              "    <tr>\n",
              "      <th>4</th>\n",
              "      <td>150550</td>\n",
              "      <td>No</td>\n",
              "      <td>3.Graduate School</td>\n",
              "      <td>Single</td>\n",
              "      <td>29</td>\n",
              "      <td>124060.1253</td>\n",
              "      <td>16560.5000</td>\n",
              "      <td>0</td>\n",
              "    </tr>\n",
              "  </tbody>\n",
              "</table>\n",
              "</div>"
            ],
            "text/plain": [
              "   limite cuenta_corriente        escolaridad estado_civil  edad   \n",
              "0    6022              Yes       2.University      Married    24  \\\n",
              "1   36132              Yes       2.University       Single    26   \n",
              "2   27099              Yes       2.University       Single    34   \n",
              "3   15055              Yes       2.University      Married    37   \n",
              "4  150550               No  3.Graduate School       Single    29   \n",
              "\n",
              "   valor_factura  valor_pago  moroso  \n",
              "0       934.0122      0.0000       1  \n",
              "1       519.3975      0.0000       1  \n",
              "2      4223.5297    457.0698       0  \n",
              "3     14522.9563    602.2000       0  \n",
              "4    124060.1253  16560.5000       0  "
            ]
          },
          "execution_count": 14,
          "metadata": {},
          "output_type": "execute_result"
        }
      ],
      "source": [
        "tarjetas.head()"
      ]
    },
    {
      "cell_type": "code",
      "execution_count": 15,
      "metadata": {
        "id": "OjLFjgAEtuoQ"
      },
      "outputs": [],
      "source": [
        "tarjetas.cuenta_corriente = tarjetas.cuenta_corriente.map(dic_cuenta)\n",
        "#con esto, estamos generando la asignacion de la traduccion de \"cuenta_corriente\"\n",
        "#se efectue en \"tarjetas.cuenta_corriente\" gracias a \"map\" porque permite aplicar\n",
        "#una funcion sobre objetos iterables"
      ]
    },
    {
      "cell_type": "code",
      "execution_count": 16,
      "metadata": {
        "colab": {
          "base_uri": "https://localhost:8080/"
        },
        "id": "GYoSlA8Et-4c",
        "outputId": "a4ea32c7-4023-40d8-f316-4887881027a9"
      },
      "outputs": [
        {
          "data": {
            "text/html": [
              "<div>\n",
              "<style scoped>\n",
              "    .dataframe tbody tr th:only-of-type {\n",
              "        vertical-align: middle;\n",
              "    }\n",
              "\n",
              "    .dataframe tbody tr th {\n",
              "        vertical-align: top;\n",
              "    }\n",
              "\n",
              "    .dataframe thead th {\n",
              "        text-align: right;\n",
              "    }\n",
              "</style>\n",
              "<table border=\"1\" class=\"dataframe\">\n",
              "  <thead>\n",
              "    <tr style=\"text-align: right;\">\n",
              "      <th></th>\n",
              "      <th>limite</th>\n",
              "      <th>cuenta_corriente</th>\n",
              "      <th>escolaridad</th>\n",
              "      <th>estado_civil</th>\n",
              "      <th>edad</th>\n",
              "      <th>valor_factura</th>\n",
              "      <th>valor_pago</th>\n",
              "      <th>moroso</th>\n",
              "    </tr>\n",
              "  </thead>\n",
              "  <tbody>\n",
              "    <tr>\n",
              "      <th>0</th>\n",
              "      <td>6022</td>\n",
              "      <td>Si</td>\n",
              "      <td>2.University</td>\n",
              "      <td>Married</td>\n",
              "      <td>24</td>\n",
              "      <td>934.0122</td>\n",
              "      <td>0.0000</td>\n",
              "      <td>1</td>\n",
              "    </tr>\n",
              "    <tr>\n",
              "      <th>1</th>\n",
              "      <td>36132</td>\n",
              "      <td>Si</td>\n",
              "      <td>2.University</td>\n",
              "      <td>Single</td>\n",
              "      <td>26</td>\n",
              "      <td>519.3975</td>\n",
              "      <td>0.0000</td>\n",
              "      <td>1</td>\n",
              "    </tr>\n",
              "    <tr>\n",
              "      <th>2</th>\n",
              "      <td>27099</td>\n",
              "      <td>Si</td>\n",
              "      <td>2.University</td>\n",
              "      <td>Single</td>\n",
              "      <td>34</td>\n",
              "      <td>4223.5297</td>\n",
              "      <td>457.0698</td>\n",
              "      <td>0</td>\n",
              "    </tr>\n",
              "    <tr>\n",
              "      <th>3</th>\n",
              "      <td>15055</td>\n",
              "      <td>Si</td>\n",
              "      <td>2.University</td>\n",
              "      <td>Married</td>\n",
              "      <td>37</td>\n",
              "      <td>14522.9563</td>\n",
              "      <td>602.2000</td>\n",
              "      <td>0</td>\n",
              "    </tr>\n",
              "    <tr>\n",
              "      <th>4</th>\n",
              "      <td>150550</td>\n",
              "      <td>No</td>\n",
              "      <td>3.Graduate School</td>\n",
              "      <td>Single</td>\n",
              "      <td>29</td>\n",
              "      <td>124060.1253</td>\n",
              "      <td>16560.5000</td>\n",
              "      <td>0</td>\n",
              "    </tr>\n",
              "  </tbody>\n",
              "</table>\n",
              "</div>"
            ],
            "text/plain": [
              "   limite cuenta_corriente        escolaridad estado_civil  edad   \n",
              "0    6022               Si       2.University      Married    24  \\\n",
              "1   36132               Si       2.University       Single    26   \n",
              "2   27099               Si       2.University       Single    34   \n",
              "3   15055               Si       2.University      Married    37   \n",
              "4  150550               No  3.Graduate School       Single    29   \n",
              "\n",
              "   valor_factura  valor_pago  moroso  \n",
              "0       934.0122      0.0000       1  \n",
              "1       519.3975      0.0000       1  \n",
              "2      4223.5297    457.0698       0  \n",
              "3     14522.9563    602.2000       0  \n",
              "4    124060.1253  16560.5000       0  "
            ]
          },
          "execution_count": 16,
          "metadata": {},
          "output_type": "execute_result"
        }
      ],
      "source": [
        "tarjetas.head()"
      ]
    },
    {
      "cell_type": "code",
      "execution_count": 17,
      "metadata": {
        "colab": {
          "base_uri": "https://localhost:8080/"
        },
        "id": "ODM-bcVsuA8W",
        "outputId": "d452c84f-6908-4d10-d1ac-5366359245a4"
      },
      "outputs": [
        {
          "data": {
            "text/plain": [
              "array(['2.University', '3.Graduate School', '1.High School'], dtype=object)"
            ]
          },
          "execution_count": 17,
          "metadata": {},
          "output_type": "execute_result"
        }
      ],
      "source": [
        "tarjetas.escolaridad.unique()"
      ]
    },
    {
      "cell_type": "code",
      "execution_count": 18,
      "metadata": {
        "id": "1h232Q4BuLN_"
      },
      "outputs": [],
      "source": [
        "dic_escolaridad = {\n",
        "    '2.University' : '2.Universidad', \n",
        "    '3.Graduate School' : '3.Pos-graduación', \n",
        "    '1.High School' : '1.Colegio'\n",
        "}"
      ]
    },
    {
      "cell_type": "code",
      "execution_count": 19,
      "metadata": {
        "id": "dieM3KbMueph"
      },
      "outputs": [],
      "source": [
        "tarjetas.escolaridad = tarjetas.escolaridad.map(dic_escolaridad)"
      ]
    },
    {
      "cell_type": "code",
      "execution_count": 20,
      "metadata": {
        "colab": {
          "base_uri": "https://localhost:8080/"
        },
        "id": "3ify9XVPupUj",
        "outputId": "5ad122af-512b-404c-fc21-469d9e51e5c7"
      },
      "outputs": [
        {
          "data": {
            "text/html": [
              "<div>\n",
              "<style scoped>\n",
              "    .dataframe tbody tr th:only-of-type {\n",
              "        vertical-align: middle;\n",
              "    }\n",
              "\n",
              "    .dataframe tbody tr th {\n",
              "        vertical-align: top;\n",
              "    }\n",
              "\n",
              "    .dataframe thead th {\n",
              "        text-align: right;\n",
              "    }\n",
              "</style>\n",
              "<table border=\"1\" class=\"dataframe\">\n",
              "  <thead>\n",
              "    <tr style=\"text-align: right;\">\n",
              "      <th></th>\n",
              "      <th>limite</th>\n",
              "      <th>cuenta_corriente</th>\n",
              "      <th>escolaridad</th>\n",
              "      <th>estado_civil</th>\n",
              "      <th>edad</th>\n",
              "      <th>valor_factura</th>\n",
              "      <th>valor_pago</th>\n",
              "      <th>moroso</th>\n",
              "    </tr>\n",
              "  </thead>\n",
              "  <tbody>\n",
              "    <tr>\n",
              "      <th>0</th>\n",
              "      <td>6022</td>\n",
              "      <td>Si</td>\n",
              "      <td>2.Universidad</td>\n",
              "      <td>Married</td>\n",
              "      <td>24</td>\n",
              "      <td>934.0122</td>\n",
              "      <td>0.0000</td>\n",
              "      <td>1</td>\n",
              "    </tr>\n",
              "    <tr>\n",
              "      <th>1</th>\n",
              "      <td>36132</td>\n",
              "      <td>Si</td>\n",
              "      <td>2.Universidad</td>\n",
              "      <td>Single</td>\n",
              "      <td>26</td>\n",
              "      <td>519.3975</td>\n",
              "      <td>0.0000</td>\n",
              "      <td>1</td>\n",
              "    </tr>\n",
              "    <tr>\n",
              "      <th>2</th>\n",
              "      <td>27099</td>\n",
              "      <td>Si</td>\n",
              "      <td>2.Universidad</td>\n",
              "      <td>Single</td>\n",
              "      <td>34</td>\n",
              "      <td>4223.5297</td>\n",
              "      <td>457.0698</td>\n",
              "      <td>0</td>\n",
              "    </tr>\n",
              "    <tr>\n",
              "      <th>3</th>\n",
              "      <td>15055</td>\n",
              "      <td>Si</td>\n",
              "      <td>2.Universidad</td>\n",
              "      <td>Married</td>\n",
              "      <td>37</td>\n",
              "      <td>14522.9563</td>\n",
              "      <td>602.2000</td>\n",
              "      <td>0</td>\n",
              "    </tr>\n",
              "    <tr>\n",
              "      <th>4</th>\n",
              "      <td>150550</td>\n",
              "      <td>No</td>\n",
              "      <td>3.Pos-graduación</td>\n",
              "      <td>Single</td>\n",
              "      <td>29</td>\n",
              "      <td>124060.1253</td>\n",
              "      <td>16560.5000</td>\n",
              "      <td>0</td>\n",
              "    </tr>\n",
              "  </tbody>\n",
              "</table>\n",
              "</div>"
            ],
            "text/plain": [
              "   limite cuenta_corriente       escolaridad estado_civil  edad   \n",
              "0    6022               Si     2.Universidad      Married    24  \\\n",
              "1   36132               Si     2.Universidad       Single    26   \n",
              "2   27099               Si     2.Universidad       Single    34   \n",
              "3   15055               Si     2.Universidad      Married    37   \n",
              "4  150550               No  3.Pos-graduación       Single    29   \n",
              "\n",
              "   valor_factura  valor_pago  moroso  \n",
              "0       934.0122      0.0000       1  \n",
              "1       519.3975      0.0000       1  \n",
              "2      4223.5297    457.0698       0  \n",
              "3     14522.9563    602.2000       0  \n",
              "4    124060.1253  16560.5000       0  "
            ]
          },
          "execution_count": 20,
          "metadata": {},
          "output_type": "execute_result"
        }
      ],
      "source": [
        "tarjetas.head()"
      ]
    },
    {
      "cell_type": "code",
      "execution_count": 21,
      "metadata": {
        "colab": {
          "base_uri": "https://localhost:8080/"
        },
        "id": "34N9qdYAurjw",
        "outputId": "82a6fb0a-5914-4db7-bc56-86889f19752c"
      },
      "outputs": [
        {
          "data": {
            "text/plain": [
              "array(['Married', 'Single'], dtype=object)"
            ]
          },
          "execution_count": 21,
          "metadata": {},
          "output_type": "execute_result"
        }
      ],
      "source": [
        "tarjetas.estado_civil.unique()"
      ]
    },
    {
      "cell_type": "code",
      "execution_count": 22,
      "metadata": {
        "id": "6ZMt0Sv0u3BK"
      },
      "outputs": [],
      "source": [
        "dic_estado_civil = {\n",
        "    'Married' : 'Casado/a', \n",
        "    'Single' : 'Soltero/a'\n",
        "}"
      ]
    },
    {
      "cell_type": "code",
      "execution_count": 23,
      "metadata": {
        "id": "Al0kuxS7vD2y"
      },
      "outputs": [],
      "source": [
        "tarjetas.estado_civil = tarjetas.estado_civil.map(dic_estado_civil)"
      ]
    },
    {
      "cell_type": "code",
      "execution_count": 24,
      "metadata": {
        "colab": {
          "base_uri": "https://localhost:8080/"
        },
        "id": "rjFHY1rXvNq1",
        "outputId": "dbb66397-f748-46db-cdc6-64679fac5577"
      },
      "outputs": [
        {
          "data": {
            "text/html": [
              "<div>\n",
              "<style scoped>\n",
              "    .dataframe tbody tr th:only-of-type {\n",
              "        vertical-align: middle;\n",
              "    }\n",
              "\n",
              "    .dataframe tbody tr th {\n",
              "        vertical-align: top;\n",
              "    }\n",
              "\n",
              "    .dataframe thead th {\n",
              "        text-align: right;\n",
              "    }\n",
              "</style>\n",
              "<table border=\"1\" class=\"dataframe\">\n",
              "  <thead>\n",
              "    <tr style=\"text-align: right;\">\n",
              "      <th></th>\n",
              "      <th>limite</th>\n",
              "      <th>cuenta_corriente</th>\n",
              "      <th>escolaridad</th>\n",
              "      <th>estado_civil</th>\n",
              "      <th>edad</th>\n",
              "      <th>valor_factura</th>\n",
              "      <th>valor_pago</th>\n",
              "      <th>moroso</th>\n",
              "    </tr>\n",
              "  </thead>\n",
              "  <tbody>\n",
              "    <tr>\n",
              "      <th>0</th>\n",
              "      <td>6022</td>\n",
              "      <td>Si</td>\n",
              "      <td>2.Universidad</td>\n",
              "      <td>Casado/a</td>\n",
              "      <td>24</td>\n",
              "      <td>934.0122</td>\n",
              "      <td>0.0000</td>\n",
              "      <td>1</td>\n",
              "    </tr>\n",
              "    <tr>\n",
              "      <th>1</th>\n",
              "      <td>36132</td>\n",
              "      <td>Si</td>\n",
              "      <td>2.Universidad</td>\n",
              "      <td>Soltero/a</td>\n",
              "      <td>26</td>\n",
              "      <td>519.3975</td>\n",
              "      <td>0.0000</td>\n",
              "      <td>1</td>\n",
              "    </tr>\n",
              "    <tr>\n",
              "      <th>2</th>\n",
              "      <td>27099</td>\n",
              "      <td>Si</td>\n",
              "      <td>2.Universidad</td>\n",
              "      <td>Soltero/a</td>\n",
              "      <td>34</td>\n",
              "      <td>4223.5297</td>\n",
              "      <td>457.0698</td>\n",
              "      <td>0</td>\n",
              "    </tr>\n",
              "    <tr>\n",
              "      <th>3</th>\n",
              "      <td>15055</td>\n",
              "      <td>Si</td>\n",
              "      <td>2.Universidad</td>\n",
              "      <td>Casado/a</td>\n",
              "      <td>37</td>\n",
              "      <td>14522.9563</td>\n",
              "      <td>602.2000</td>\n",
              "      <td>0</td>\n",
              "    </tr>\n",
              "    <tr>\n",
              "      <th>4</th>\n",
              "      <td>150550</td>\n",
              "      <td>No</td>\n",
              "      <td>3.Pos-graduación</td>\n",
              "      <td>Soltero/a</td>\n",
              "      <td>29</td>\n",
              "      <td>124060.1253</td>\n",
              "      <td>16560.5000</td>\n",
              "      <td>0</td>\n",
              "    </tr>\n",
              "  </tbody>\n",
              "</table>\n",
              "</div>"
            ],
            "text/plain": [
              "   limite cuenta_corriente       escolaridad estado_civil  edad   \n",
              "0    6022               Si     2.Universidad     Casado/a    24  \\\n",
              "1   36132               Si     2.Universidad    Soltero/a    26   \n",
              "2   27099               Si     2.Universidad    Soltero/a    34   \n",
              "3   15055               Si     2.Universidad     Casado/a    37   \n",
              "4  150550               No  3.Pos-graduación    Soltero/a    29   \n",
              "\n",
              "   valor_factura  valor_pago  moroso  \n",
              "0       934.0122      0.0000       1  \n",
              "1       519.3975      0.0000       1  \n",
              "2      4223.5297    457.0698       0  \n",
              "3     14522.9563    602.2000       0  \n",
              "4    124060.1253  16560.5000       0  "
            ]
          },
          "execution_count": 24,
          "metadata": {},
          "output_type": "execute_result"
        }
      ],
      "source": [
        "tarjetas.head()"
      ]
    },
    {
      "cell_type": "code",
      "execution_count": 25,
      "metadata": {},
      "outputs": [],
      "source": [
        "tarjetas.to_csv('credit_card_ESP.csv', sep = ',', index = False)\n",
        "#importando los cambios efectuados a la traduccion de la tabla"
      ]
    }
  ],
  "metadata": {
    "colab": {
      "collapsed_sections": [
        "yK7CLCUQp-x4"
      ],
      "name": "Aula 1.ipynb",
      "provenance": []
    },
    "kernelspec": {
      "display_name": "Python 3",
      "name": "python3"
    },
    "language_info": {
      "codemirror_mode": {
        "name": "ipython",
        "version": 3
      },
      "file_extension": ".py",
      "mimetype": "text/x-python",
      "name": "python",
      "nbconvert_exporter": "python",
      "pygments_lexer": "ipython3",
      "version": "3.10.11"
    }
  },
  "nbformat": 4,
  "nbformat_minor": 0
}
