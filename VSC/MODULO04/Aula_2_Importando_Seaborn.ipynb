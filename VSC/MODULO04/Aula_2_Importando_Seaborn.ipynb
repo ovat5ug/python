{
  "cells": [
    {
      "cell_type": "markdown",
      "metadata": {
        "id": "_6s57RmCrGrs"
      },
      "source": [
        "# Importando Seaborn"
      ]
    },
    {
      "cell_type": "code",
      "execution_count": 61,
      "metadata": {
        "id": "1vpvnGT0pdUK"
      },
      "outputs": [],
      "source": [
        "import pandas as pd\n",
        "#pip install Seaborn biblioteca para analisis estadisticos por medio de grafiscos de diseños\n",
        "#variados y coloridos"
      ]
    },
    {
      "cell_type": "code",
      "execution_count": 62,
      "metadata": {
        "id": "5lDpm7mbq-ze"
      },
      "outputs": [],
      "source": [
        "import seaborn as sns"
      ]
    },
    {
      "cell_type": "code",
      "execution_count": 63,
      "metadata": {
        "colab": {
          "base_uri": "https://localhost:8080/"
        },
        "id": "eo-KjjS8qBIW",
        "outputId": "4922a997-65bb-4965-e297-034658efc967"
      },
      "outputs": [],
      "source": [
        "datosESP=pd.read_csv('credit_card_ESP.csv')"
      ]
    },
    {
      "cell_type": "code",
      "execution_count": 64,
      "metadata": {},
      "outputs": [
        {
          "name": "stdout",
          "output_type": "stream",
          "text": [
            "Name: seaborn\n",
            "Version: 0.12.2\n",
            "Summary: Statistical data visualization\n",
            "Home-page: \n",
            "Author: \n",
            "Author-email: Michael Waskom <mwaskom@gmail.com>\n",
            "License: \n",
            "Location: c:\\users\\yahoo\\appdata\\local\\packages\\pythonsoftwarefoundation.python.3.10_qbz5n2kfra8p0\\localcache\\local-packages\\python310\\site-packages\n",
            "Requires: matplotlib, numpy, pandas\n",
            "Required-by: \n",
            "Note: you may need to restart the kernel to use updated packages.\n"
          ]
        },
        {
          "name": "stderr",
          "output_type": "stream",
          "text": [
            "WARNING: Package(s) not found: de, de, informacion, instalada, la, la, seaborn#muestra, version\n"
          ]
        }
      ],
      "source": [
        "%pip show seaborn#muestra la informacion de la version instalada de seaborn\n",
        "                 #!pip show seaborn #en colab"
      ]
    },
    {
      "cell_type": "code",
      "execution_count": 65,
      "metadata": {
        "colab": {
          "base_uri": "https://localhost:8080/"
        },
        "id": "eVxrEJIEmeBu",
        "outputId": "eb10113f-35e8-4b14-aecf-c0bb8cf5e741"
      },
      "outputs": [],
      "source": [
        "#pip install seaborn\n",
        "#pip install numpy\n",
        "#packages Requires: matplotlib, numpy, pandas para que seaborn funcione en python"
      ]
    },
    {
      "cell_type": "code",
      "execution_count": 66,
      "metadata": {
        "colab": {
          "base_uri": "https://localhost:8080/"
        },
        "id": "EbcC6kk6rQWS",
        "outputId": "aeab9cf1-bb5a-464b-c47c-4a6c9fd1a909"
      },
      "outputs": [
        {
          "data": {
            "text/plain": [
              "(1500, 8)"
            ]
          },
          "execution_count": 66,
          "metadata": {},
          "output_type": "execute_result"
        }
      ],
      "source": [
        "datosESP.shape"
      ]
    },
    {
      "cell_type": "code",
      "execution_count": 67,
      "metadata": {
        "colab": {
          "base_uri": "https://localhost:8080/"
        },
        "id": "KmJbkw_mrfGx",
        "outputId": "25eb4436-1ad4-44df-ea3e-fb1123393f66"
      },
      "outputs": [
        {
          "data": {
            "text/html": [
              "<div>\n",
              "<style scoped>\n",
              "    .dataframe tbody tr th:only-of-type {\n",
              "        vertical-align: middle;\n",
              "    }\n",
              "\n",
              "    .dataframe tbody tr th {\n",
              "        vertical-align: top;\n",
              "    }\n",
              "\n",
              "    .dataframe thead th {\n",
              "        text-align: right;\n",
              "    }\n",
              "</style>\n",
              "<table border=\"1\" class=\"dataframe\">\n",
              "  <thead>\n",
              "    <tr style=\"text-align: right;\">\n",
              "      <th></th>\n",
              "      <th>limite</th>\n",
              "      <th>cuenta_corriente</th>\n",
              "      <th>escolaridad</th>\n",
              "      <th>estado_civil</th>\n",
              "      <th>edad</th>\n",
              "      <th>valor_factura</th>\n",
              "      <th>valor_pago</th>\n",
              "      <th>moroso</th>\n",
              "    </tr>\n",
              "  </thead>\n",
              "  <tbody>\n",
              "    <tr>\n",
              "      <th>0</th>\n",
              "      <td>6022</td>\n",
              "      <td>Si</td>\n",
              "      <td>2.Universidad</td>\n",
              "      <td>Casado/a</td>\n",
              "      <td>24</td>\n",
              "      <td>934.0122</td>\n",
              "      <td>0.0000</td>\n",
              "      <td>1</td>\n",
              "    </tr>\n",
              "    <tr>\n",
              "      <th>1</th>\n",
              "      <td>36132</td>\n",
              "      <td>Si</td>\n",
              "      <td>2.Universidad</td>\n",
              "      <td>Soltero/a</td>\n",
              "      <td>26</td>\n",
              "      <td>519.3975</td>\n",
              "      <td>0.0000</td>\n",
              "      <td>1</td>\n",
              "    </tr>\n",
              "    <tr>\n",
              "      <th>2</th>\n",
              "      <td>27099</td>\n",
              "      <td>Si</td>\n",
              "      <td>2.Universidad</td>\n",
              "      <td>Soltero/a</td>\n",
              "      <td>34</td>\n",
              "      <td>4223.5297</td>\n",
              "      <td>457.0698</td>\n",
              "      <td>0</td>\n",
              "    </tr>\n",
              "    <tr>\n",
              "      <th>3</th>\n",
              "      <td>15055</td>\n",
              "      <td>Si</td>\n",
              "      <td>2.Universidad</td>\n",
              "      <td>Casado/a</td>\n",
              "      <td>37</td>\n",
              "      <td>14522.9563</td>\n",
              "      <td>602.2000</td>\n",
              "      <td>0</td>\n",
              "    </tr>\n",
              "    <tr>\n",
              "      <th>4</th>\n",
              "      <td>150550</td>\n",
              "      <td>No</td>\n",
              "      <td>3.Pos-graduación</td>\n",
              "      <td>Soltero/a</td>\n",
              "      <td>29</td>\n",
              "      <td>124060.1253</td>\n",
              "      <td>16560.5000</td>\n",
              "      <td>0</td>\n",
              "    </tr>\n",
              "  </tbody>\n",
              "</table>\n",
              "</div>"
            ],
            "text/plain": [
              "   limite cuenta_corriente       escolaridad estado_civil  edad   \n",
              "0    6022               Si     2.Universidad     Casado/a    24  \\\n",
              "1   36132               Si     2.Universidad    Soltero/a    26   \n",
              "2   27099               Si     2.Universidad    Soltero/a    34   \n",
              "3   15055               Si     2.Universidad     Casado/a    37   \n",
              "4  150550               No  3.Pos-graduación    Soltero/a    29   \n",
              "\n",
              "   valor_factura  valor_pago  moroso  \n",
              "0       934.0122      0.0000       1  \n",
              "1       519.3975      0.0000       1  \n",
              "2      4223.5297    457.0698       0  \n",
              "3     14522.9563    602.2000       0  \n",
              "4    124060.1253  16560.5000       0  "
            ]
          },
          "execution_count": 67,
          "metadata": {},
          "output_type": "execute_result"
        }
      ],
      "source": [
        "datosESP.head()"
      ]
    },
    {
      "cell_type": "markdown",
      "metadata": {
        "id": "2kFhBOm4ueVb"
      },
      "source": [
        "# Analisis 1"
      ]
    },
    {
      "cell_type": "code",
      "execution_count": 68,
      "metadata": {
        "colab": {
          "base_uri": "https://localhost:8080/",
          "height": 361
        },
        "id": "n3V-S2ClrjP6",
        "outputId": "b7d442a3-0349-4e26-bed8-d8625ed5625b"
      },
      "outputs": [
        {
          "data": {
            "text/plain": [
              "<seaborn.axisgrid.FacetGrid at 0x1ef68e002e0>"
            ]
          },
          "execution_count": 68,
          "metadata": {},
          "output_type": "execute_result"
        },
        {
          "data": {
            "image/png": "[encoded data removed]",
            "text/plain": [
              "<Figure size 500x500 with 1 Axes>"
            ]
          },
          "metadata": {},
          "output_type": "display_data"
        }
      ],
      "source": [
        "sns.displot(datosESP['limite'])"
      ]
    },
    {
      "cell_type": "code",
      "execution_count": 69,
      "metadata": {
        "colab": {
          "base_uri": "https://localhost:8080/",
          "height": 369
        },
        "id": "aPI8rzbhr3hP",
        "outputId": "241d0f23-591c-41f1-9bf0-cc1be8dd4b71"
      },
      "outputs": [
        {
          "data": {
            "image/png": "[encoded data removed]",
            "text/plain": [
              "<Figure size 659.125x500 with 1 Axes>"
            ]
          },
          "metadata": {},
          "output_type": "display_data"
        }
      ],
      "source": [
        "sns.displot(data=datosESP, x='limite', hue='escolaridad');"
      ]
    },
    {
      "cell_type": "markdown",
      "metadata": {
        "id": "MrTTXRVGuaQD"
      },
      "source": [
        "# Analisis 2"
      ]
    },
    {
      "cell_type": "code",
      "execution_count": 70,
      "metadata": {
        "id": "8damuRTQsQln"
      },
      "outputs": [],
      "source": [
        "datosESP['iu'] = datosESP['valor_factura'] / datosESP['limite']\n",
        "#\"iu\" = indice de uso: es el porcentae que se le da a una persona por el uso de la tarjeta\n",
        "#en por centaje por cien"
      ]
    },
    {
      "cell_type": "code",
      "execution_count": 71,
      "metadata": {
        "colab": {
          "base_uri": "https://localhost:8080/"
        },
        "id": "xIpoUZkjub2N",
        "outputId": "6069127a-2057-4819-f7d4-3ef7894d87a5"
      },
      "outputs": [
        {
          "data": {
            "text/html": [
              "<div>\n",
              "<style scoped>\n",
              "    .dataframe tbody tr th:only-of-type {\n",
              "        vertical-align: middle;\n",
              "    }\n",
              "\n",
              "    .dataframe tbody tr th {\n",
              "        vertical-align: top;\n",
              "    }\n",
              "\n",
              "    .dataframe thead th {\n",
              "        text-align: right;\n",
              "    }\n",
              "</style>\n",
              "<table border=\"1\" class=\"dataframe\">\n",
              "  <thead>\n",
              "    <tr style=\"text-align: right;\">\n",
              "      <th></th>\n",
              "      <th>limite</th>\n",
              "      <th>cuenta_corriente</th>\n",
              "      <th>escolaridad</th>\n",
              "      <th>estado_civil</th>\n",
              "      <th>edad</th>\n",
              "      <th>valor_factura</th>\n",
              "      <th>valor_pago</th>\n",
              "      <th>moroso</th>\n",
              "      <th>iu</th>\n",
              "    </tr>\n",
              "  </thead>\n",
              "  <tbody>\n",
              "    <tr>\n",
              "      <th>0</th>\n",
              "      <td>6022</td>\n",
              "      <td>Si</td>\n",
              "      <td>2.Universidad</td>\n",
              "      <td>Casado/a</td>\n",
              "      <td>24</td>\n",
              "      <td>934.0122</td>\n",
              "      <td>0.0000</td>\n",
              "      <td>1</td>\n",
              "      <td>0.155100</td>\n",
              "    </tr>\n",
              "    <tr>\n",
              "      <th>1</th>\n",
              "      <td>36132</td>\n",
              "      <td>Si</td>\n",
              "      <td>2.Universidad</td>\n",
              "      <td>Soltero/a</td>\n",
              "      <td>26</td>\n",
              "      <td>519.3975</td>\n",
              "      <td>0.0000</td>\n",
              "      <td>1</td>\n",
              "      <td>0.014375</td>\n",
              "    </tr>\n",
              "    <tr>\n",
              "      <th>2</th>\n",
              "      <td>27099</td>\n",
              "      <td>Si</td>\n",
              "      <td>2.Universidad</td>\n",
              "      <td>Soltero/a</td>\n",
              "      <td>34</td>\n",
              "      <td>4223.5297</td>\n",
              "      <td>457.0698</td>\n",
              "      <td>0</td>\n",
              "      <td>0.155856</td>\n",
              "    </tr>\n",
              "    <tr>\n",
              "      <th>3</th>\n",
              "      <td>15055</td>\n",
              "      <td>Si</td>\n",
              "      <td>2.Universidad</td>\n",
              "      <td>Casado/a</td>\n",
              "      <td>37</td>\n",
              "      <td>14522.9563</td>\n",
              "      <td>602.2000</td>\n",
              "      <td>0</td>\n",
              "      <td>0.964660</td>\n",
              "    </tr>\n",
              "    <tr>\n",
              "      <th>4</th>\n",
              "      <td>150550</td>\n",
              "      <td>No</td>\n",
              "      <td>3.Pos-graduación</td>\n",
              "      <td>Soltero/a</td>\n",
              "      <td>29</td>\n",
              "      <td>124060.1253</td>\n",
              "      <td>16560.5000</td>\n",
              "      <td>0</td>\n",
              "      <td>0.824046</td>\n",
              "    </tr>\n",
              "  </tbody>\n",
              "</table>\n",
              "</div>"
            ],
            "text/plain": [
              "   limite cuenta_corriente       escolaridad estado_civil  edad   \n",
              "0    6022               Si     2.Universidad     Casado/a    24  \\\n",
              "1   36132               Si     2.Universidad    Soltero/a    26   \n",
              "2   27099               Si     2.Universidad    Soltero/a    34   \n",
              "3   15055               Si     2.Universidad     Casado/a    37   \n",
              "4  150550               No  3.Pos-graduación    Soltero/a    29   \n",
              "\n",
              "   valor_factura  valor_pago  moroso        iu  \n",
              "0       934.0122      0.0000       1  0.155100  \n",
              "1       519.3975      0.0000       1  0.014375  \n",
              "2      4223.5297    457.0698       0  0.155856  \n",
              "3     14522.9563    602.2000       0  0.964660  \n",
              "4    124060.1253  16560.5000       0  0.824046  "
            ]
          },
          "execution_count": 71,
          "metadata": {},
          "output_type": "execute_result"
        }
      ],
      "source": [
        "datosESP.head()"
      ]
    },
    {
      "cell_type": "code",
      "execution_count": 72,
      "metadata": {
        "colab": {
          "base_uri": "https://localhost:8080/"
        },
        "id": "9kIBQJHbu93e",
        "outputId": "4578269d-109a-4749-aef0-ac4c7937fb20"
      },
      "outputs": [
        {
          "data": {
            "text/plain": [
              "<seaborn.axisgrid.FacetGrid at 0x1ef66695990>"
            ]
          },
          "execution_count": 72,
          "metadata": {},
          "output_type": "execute_result"
        },
        {
          "data": {
            "image/png": "[encoded data removed]",
            "text/plain": [
              "<Figure size 500x500 with 1 Axes>"
            ]
          },
          "metadata": {},
          "output_type": "display_data"
        }
      ],
      "source": [
        "sns.displot(data=datosESP, x='iu')"
      ]
    },
    {
      "cell_type": "markdown",
      "metadata": {
        "id": "fRURBLeGvgzP"
      },
      "source": [
        "Hay un publico significativo que usa poco del limite que tienen disponible"
      ]
    },
    {
      "cell_type": "markdown",
      "metadata": {
        "id": "y8zqEMWS6OoF"
      },
      "source": [
        "# Estilos y colores"
      ]
    },
    {
      "cell_type": "code",
      "execution_count": 73,
      "metadata": {
        "id": "fh9KATqE2mAC"
      },
      "outputs": [],
      "source": [
        "sns.set_style('darkgrid')"
      ]
    },
    {
      "cell_type": "code",
      "execution_count": 74,
      "metadata": {
        "colab": {
          "base_uri": "https://localhost:8080/"
        },
        "id": "DQ8V0zz76Q7s",
        "outputId": "5702840a-b035-4dd0-cf35-49f84a5127be"
      },
      "outputs": [
        {
          "data": {
            "image/png": "[encoded data removed]",
            "text/plain": [
              "<Figure size 659.125x500 with 1 Axes>"
            ]
          },
          "metadata": {},
          "output_type": "display_data"
        }
      ],
      "source": [
        "sns.displot(data=datosESP, x='limite', hue='escolaridad', palette='inferno_r');"
      ]
    },
    {
      "attachments": {},
      "cell_type": "markdown",
      "metadata": {},
      "source": [
        "https://matplotlib.org/3.1.0/tutorials/colors/colormaps.html\n",
        "pagina web de paletas de colores que pueden ser usados en el gráfico"
      ]
    }
  ],
  "metadata": {
    "colab": {
      "collapsed_sections": [
        "yK7CLCUQp-x4",
        "M5Aua0mtr_-a",
        "_6s57RmCrGrs",
        "2kFhBOm4ueVb",
        "MrTTXRVGuaQD",
        "y8zqEMWS6OoF"
      ],
      "name": "Aula 2.ipynb",
      "provenance": []
    },
    "kernelspec": {
      "display_name": "Python 3",
      "name": "python3"
    },
    "language_info": {
      "codemirror_mode": {
        "name": "ipython",
        "version": 3
      },
      "file_extension": ".py",
      "mimetype": "text/x-python",
      "name": "python",
      "nbconvert_exporter": "python",
      "pygments_lexer": "ipython3",
      "version": "3.10.11"
    }
  },
  "nbformat": 4,
  "nbformat_minor": 0
}
