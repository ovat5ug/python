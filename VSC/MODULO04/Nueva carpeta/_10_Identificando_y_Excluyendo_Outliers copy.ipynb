{
 "cells": [
  {
   "cell_type": "markdown",
   "metadata": {
    "id": "9OSxb55m70Gl"
   },
   "source": [
    "# Reporte de Análisis VIII"
   ]
  },
  {
   "cell_type": "markdown",
   "metadata": {
    "id": "tIXpTxW_70Gn"
   },
   "source": [
    "## Identificando y Excluyendo Outliers"
   ]
  },
  {
   "cell_type": "code",
   "execution_count": 26,
   "metadata": {
    "id": "MTf9ybpL70Gn"
   },
   "outputs": [],
   "source": [
    "%matplotlib inline\n",
    "import pandas as pd\n",
    "import matplotlib.pyplot as plt\n",
    "plt.rc('figure', figsize = (14, 6))"
   ]
  },
  {
   "cell_type": "code",
   "execution_count": 27,
   "metadata": {
    "id": "RL3UEyz_70Gn"
   },
   "outputs": [
    {
     "data": {
      "text/html": [
       "<div>\n",
       "<style scoped>\n",
       "    .dataframe tbody tr th:only-of-type {\n",
       "        vertical-align: middle;\n",
       "    }\n",
       "\n",
       "    .dataframe tbody tr th {\n",
       "        vertical-align: top;\n",
       "    }\n",
       "\n",
       "    .dataframe thead th {\n",
       "        text-align: right;\n",
       "    }\n",
       "</style>\n",
       "<table border=\"1\" class=\"dataframe\">\n",
       "  <thead>\n",
       "    <tr style=\"text-align: right;\">\n",
       "      <th></th>\n",
       "      <th>Tipo</th>\n",
       "      <th>Distrito</th>\n",
       "      <th>Cuartos</th>\n",
       "      <th>Vacantes</th>\n",
       "      <th>Suites</th>\n",
       "      <th>Area</th>\n",
       "      <th>Valor</th>\n",
       "      <th>Mantenimiento</th>\n",
       "      <th>Impuesto</th>\n",
       "      <th>Valor m2</th>\n",
       "      <th>Tipo Agrupado</th>\n",
       "    </tr>\n",
       "  </thead>\n",
       "  <tbody>\n",
       "    <tr>\n",
       "      <th>0</th>\n",
       "      <td>Habitación</td>\n",
       "      <td>San Borja</td>\n",
       "      <td>1</td>\n",
       "      <td>0</td>\n",
       "      <td>0</td>\n",
       "      <td>40</td>\n",
       "      <td>1700.0</td>\n",
       "      <td>500.0</td>\n",
       "      <td>60.0</td>\n",
       "      <td>42.50</td>\n",
       "      <td>Departamento</td>\n",
       "    </tr>\n",
       "    <tr>\n",
       "      <th>1</th>\n",
       "      <td>Casa</td>\n",
       "      <td>Lurigancho</td>\n",
       "      <td>2</td>\n",
       "      <td>0</td>\n",
       "      <td>1</td>\n",
       "      <td>100</td>\n",
       "      <td>7000.0</td>\n",
       "      <td>NaN</td>\n",
       "      <td>NaN</td>\n",
       "      <td>70.00</td>\n",
       "      <td>Casa</td>\n",
       "    </tr>\n",
       "    <tr>\n",
       "      <th>2</th>\n",
       "      <td>Casa en condominio</td>\n",
       "      <td>Ate</td>\n",
       "      <td>5</td>\n",
       "      <td>4</td>\n",
       "      <td>5</td>\n",
       "      <td>750</td>\n",
       "      <td>22000.0</td>\n",
       "      <td>NaN</td>\n",
       "      <td>NaN</td>\n",
       "      <td>29.33</td>\n",
       "      <td>Casa</td>\n",
       "    </tr>\n",
       "    <tr>\n",
       "      <th>3</th>\n",
       "      <td>Casa en condominio</td>\n",
       "      <td>El Agustino</td>\n",
       "      <td>2</td>\n",
       "      <td>2</td>\n",
       "      <td>0</td>\n",
       "      <td>65</td>\n",
       "      <td>1000.0</td>\n",
       "      <td>NaN</td>\n",
       "      <td>NaN</td>\n",
       "      <td>15.38</td>\n",
       "      <td>Casa</td>\n",
       "    </tr>\n",
       "    <tr>\n",
       "      <th>4</th>\n",
       "      <td>Habitación</td>\n",
       "      <td>San Borja</td>\n",
       "      <td>1</td>\n",
       "      <td>0</td>\n",
       "      <td>0</td>\n",
       "      <td>27</td>\n",
       "      <td>1800.0</td>\n",
       "      <td>501.0</td>\n",
       "      <td>NaN</td>\n",
       "      <td>66.67</td>\n",
       "      <td>Departamento</td>\n",
       "    </tr>\n",
       "    <tr>\n",
       "      <th>5</th>\n",
       "      <td>Casa en condominio</td>\n",
       "      <td>San Luis</td>\n",
       "      <td>3</td>\n",
       "      <td>1</td>\n",
       "      <td>1</td>\n",
       "      <td>115</td>\n",
       "      <td>2000.0</td>\n",
       "      <td>NaN</td>\n",
       "      <td>NaN</td>\n",
       "      <td>17.39</td>\n",
       "      <td>Casa</td>\n",
       "    </tr>\n",
       "    <tr>\n",
       "      <th>6</th>\n",
       "      <td>Casa en condominio</td>\n",
       "      <td>Ate</td>\n",
       "      <td>4</td>\n",
       "      <td>3</td>\n",
       "      <td>2</td>\n",
       "      <td>466</td>\n",
       "      <td>7500.0</td>\n",
       "      <td>2695.0</td>\n",
       "      <td>NaN</td>\n",
       "      <td>16.09</td>\n",
       "      <td>Casa</td>\n",
       "    </tr>\n",
       "    <tr>\n",
       "      <th>7</th>\n",
       "      <td>Casa</td>\n",
       "      <td>Lince</td>\n",
       "      <td>4</td>\n",
       "      <td>1</td>\n",
       "      <td>2</td>\n",
       "      <td>400</td>\n",
       "      <td>12000.0</td>\n",
       "      <td>NaN</td>\n",
       "      <td>NaN</td>\n",
       "      <td>30.00</td>\n",
       "      <td>Casa</td>\n",
       "    </tr>\n",
       "    <tr>\n",
       "      <th>8</th>\n",
       "      <td>Habitación</td>\n",
       "      <td>San Borja</td>\n",
       "      <td>1</td>\n",
       "      <td>0</td>\n",
       "      <td>0</td>\n",
       "      <td>27</td>\n",
       "      <td>1300.0</td>\n",
       "      <td>380.0</td>\n",
       "      <td>53.0</td>\n",
       "      <td>48.15</td>\n",
       "      <td>Departamento</td>\n",
       "    </tr>\n",
       "    <tr>\n",
       "      <th>9</th>\n",
       "      <td>Casa en condominio</td>\n",
       "      <td>Ate</td>\n",
       "      <td>5</td>\n",
       "      <td>10</td>\n",
       "      <td>5</td>\n",
       "      <td>1600</td>\n",
       "      <td>25000.0</td>\n",
       "      <td>1600.0</td>\n",
       "      <td>NaN</td>\n",
       "      <td>15.62</td>\n",
       "      <td>Casa</td>\n",
       "    </tr>\n",
       "  </tbody>\n",
       "</table>\n",
       "</div>"
      ],
      "text/plain": [
       "                 Tipo     Distrito  Cuartos  Vacantes  Suites  Area    Valor   \n",
       "0          Habitación    San Borja        1         0       0    40   1700.0  \\\n",
       "1                Casa   Lurigancho        2         0       1   100   7000.0   \n",
       "2  Casa en condominio          Ate        5         4       5   750  22000.0   \n",
       "3  Casa en condominio  El Agustino        2         2       0    65   1000.0   \n",
       "4          Habitación    San Borja        1         0       0    27   1800.0   \n",
       "5  Casa en condominio     San Luis        3         1       1   115   2000.0   \n",
       "6  Casa en condominio          Ate        4         3       2   466   7500.0   \n",
       "7                Casa        Lince        4         1       2   400  12000.0   \n",
       "8          Habitación    San Borja        1         0       0    27   1300.0   \n",
       "9  Casa en condominio          Ate        5        10       5  1600  25000.0   \n",
       "\n",
       "   Mantenimiento  Impuesto  Valor m2 Tipo Agrupado  \n",
       "0          500.0      60.0     42.50  Departamento  \n",
       "1            NaN       NaN     70.00          Casa  \n",
       "2            NaN       NaN     29.33          Casa  \n",
       "3            NaN       NaN     15.38          Casa  \n",
       "4          501.0       NaN     66.67  Departamento  \n",
       "5            NaN       NaN     17.39          Casa  \n",
       "6         2695.0       NaN     16.09          Casa  \n",
       "7            NaN       NaN     30.00          Casa  \n",
       "8          380.0      53.0     48.15  Departamento  \n",
       "9         1600.0       NaN     15.62          Casa  "
      ]
     },
     "execution_count": 27,
     "metadata": {},
     "output_type": "execute_result"
    }
   ],
   "source": [
    "datos = pd.read_csv('alquiler_residencial_filtradoSinNulos.csv', sep = ';')\n",
    "datos.head(10)"
   ]
  },
  {
   "cell_type": "code",
   "execution_count": 28,
   "metadata": {
    "colab": {
     "base_uri": "https://localhost:8080/",
     "height": 287
    },
    "id": "jjfLigUntCyB",
    "outputId": "b21dc736-1763-482a-a3a5-c97b4c4ed217"
   },
   "outputs": [
    {
     "data": {
      "text/html": [
       "<div>\n",
       "<style scoped>\n",
       "    .dataframe tbody tr th:only-of-type {\n",
       "        vertical-align: middle;\n",
       "    }\n",
       "\n",
       "    .dataframe tbody tr th {\n",
       "        vertical-align: top;\n",
       "    }\n",
       "\n",
       "    .dataframe thead th {\n",
       "        text-align: right;\n",
       "    }\n",
       "</style>\n",
       "<table border=\"1\" class=\"dataframe\">\n",
       "  <thead>\n",
       "    <tr style=\"text-align: right;\">\n",
       "      <th></th>\n",
       "      <th>Cuartos</th>\n",
       "      <th>Vacantes</th>\n",
       "      <th>Suites</th>\n",
       "      <th>Area</th>\n",
       "      <th>Valor</th>\n",
       "      <th>Mantenimiento</th>\n",
       "      <th>Impuesto</th>\n",
       "      <th>Valor m2</th>\n",
       "    </tr>\n",
       "  </thead>\n",
       "  <tbody>\n",
       "    <tr>\n",
       "      <th>count</th>\n",
       "      <td>3313.0</td>\n",
       "      <td>3313.0</td>\n",
       "      <td>3313.0</td>\n",
       "      <td>3313.0</td>\n",
       "      <td>3311.0</td>\n",
       "      <td>2009.0</td>\n",
       "      <td>1916.0</td>\n",
       "      <td>3311.0</td>\n",
       "    </tr>\n",
       "    <tr>\n",
       "      <th>mean</th>\n",
       "      <td>3.0</td>\n",
       "      <td>2.0</td>\n",
       "      <td>1.0</td>\n",
       "      <td>253.0</td>\n",
       "      <td>7167.0</td>\n",
       "      <td>900.0</td>\n",
       "      <td>1712.0</td>\n",
       "      <td>33.0</td>\n",
       "    </tr>\n",
       "    <tr>\n",
       "      <th>std</th>\n",
       "      <td>2.0</td>\n",
       "      <td>3.0</td>\n",
       "      <td>2.0</td>\n",
       "      <td>309.0</td>\n",
       "      <td>16489.0</td>\n",
       "      <td>1856.0</td>\n",
       "      <td>4134.0</td>\n",
       "      <td>90.0</td>\n",
       "    </tr>\n",
       "    <tr>\n",
       "      <th>min</th>\n",
       "      <td>0.0</td>\n",
       "      <td>0.0</td>\n",
       "      <td>0.0</td>\n",
       "      <td>10.0</td>\n",
       "      <td>100.0</td>\n",
       "      <td>1.0</td>\n",
       "      <td>1.0</td>\n",
       "      <td>2.0</td>\n",
       "    </tr>\n",
       "    <tr>\n",
       "      <th>25%</th>\n",
       "      <td>1.0</td>\n",
       "      <td>0.0</td>\n",
       "      <td>0.0</td>\n",
       "      <td>38.0</td>\n",
       "      <td>1100.0</td>\n",
       "      <td>360.0</td>\n",
       "      <td>47.0</td>\n",
       "      <td>17.0</td>\n",
       "    </tr>\n",
       "    <tr>\n",
       "      <th>50%</th>\n",
       "      <td>2.0</td>\n",
       "      <td>1.0</td>\n",
       "      <td>0.0</td>\n",
       "      <td>110.0</td>\n",
       "      <td>2200.0</td>\n",
       "      <td>537.0</td>\n",
       "      <td>341.0</td>\n",
       "      <td>25.0</td>\n",
       "    </tr>\n",
       "    <tr>\n",
       "      <th>75%</th>\n",
       "      <td>4.0</td>\n",
       "      <td>3.0</td>\n",
       "      <td>2.0</td>\n",
       "      <td>370.0</td>\n",
       "      <td>10000.0</td>\n",
       "      <td>1150.0</td>\n",
       "      <td>1382.0</td>\n",
       "      <td>40.0</td>\n",
       "    </tr>\n",
       "    <tr>\n",
       "      <th>max</th>\n",
       "      <td>27.0</td>\n",
       "      <td>50.0</td>\n",
       "      <td>14.0</td>\n",
       "      <td>4500.0</td>\n",
       "      <td>800000.0</td>\n",
       "      <td>75000.0</td>\n",
       "      <td>51784.0</td>\n",
       "      <td>4908.0</td>\n",
       "    </tr>\n",
       "  </tbody>\n",
       "</table>\n",
       "</div>"
      ],
      "text/plain": [
       "       Cuartos  Vacantes  Suites    Area     Valor  Mantenimiento  Impuesto   \n",
       "count   3313.0    3313.0  3313.0  3313.0    3311.0         2009.0    1916.0  \\\n",
       "mean       3.0       2.0     1.0   253.0    7167.0          900.0    1712.0   \n",
       "std        2.0       3.0     2.0   309.0   16489.0         1856.0    4134.0   \n",
       "min        0.0       0.0     0.0    10.0     100.0            1.0       1.0   \n",
       "25%        1.0       0.0     0.0    38.0    1100.0          360.0      47.0   \n",
       "50%        2.0       1.0     0.0   110.0    2200.0          537.0     341.0   \n",
       "75%        4.0       3.0     2.0   370.0   10000.0         1150.0    1382.0   \n",
       "max       27.0      50.0    14.0  4500.0  800000.0        75000.0   51784.0   \n",
       "\n",
       "       Valor m2  \n",
       "count    3311.0  \n",
       "mean       33.0  \n",
       "std        90.0  \n",
       "min         2.0  \n",
       "25%        17.0  \n",
       "50%        25.0  \n",
       "75%        40.0  \n",
       "max      4908.0  "
      ]
     },
     "execution_count": 28,
     "metadata": {},
     "output_type": "execute_result"
    }
   ],
   "source": [
    "datos.describe().round(0)"
   ]
  },
  {
   "cell_type": "code",
   "execution_count": 29,
   "metadata": {
    "colab": {
     "base_uri": "https://localhost:8080/",
     "height": 403
    },
    "id": "kEdGv1_O70Go",
    "outputId": "475febe2-d579-4ee6-9142-8198679d4e4f"
   },
   "outputs": [
    {
     "data": {
      "text/plain": [
       "(100.0, 800000.0)"
      ]
     },
     "execution_count": 29,
     "metadata": {},
     "output_type": "execute_result"
    },
    {
     "data": {
      "image/png": "[encoded data removed]",
      "text/plain": [
       "<Figure size 1400x600 with 1 Axes>"
      ]
     },
     "metadata": {},
     "output_type": "display_data"
    }
   ],
   "source": [
    "datos.boxplot(['Valor']).set_ylim((datos.Valor.min(), datos.Valor.max()))"
   ]
  },
  {
   "cell_type": "code",
   "execution_count": 30,
   "metadata": {
    "colab": {
     "base_uri": "https://localhost:8080/",
     "height": 197
    },
    "id": "jJgyV8Q570Go",
    "outputId": "c2437ad9-26b6-4d0b-d7f6-dc902bfe4e8d"
   },
   "outputs": [
    {
     "data": {
      "text/html": [
       "<div>\n",
       "<style scoped>\n",
       "    .dataframe tbody tr th:only-of-type {\n",
       "        vertical-align: middle;\n",
       "    }\n",
       "\n",
       "    .dataframe tbody tr th {\n",
       "        vertical-align: top;\n",
       "    }\n",
       "\n",
       "    .dataframe thead th {\n",
       "        text-align: right;\n",
       "    }\n",
       "</style>\n",
       "<table border=\"1\" class=\"dataframe\">\n",
       "  <thead>\n",
       "    <tr style=\"text-align: right;\">\n",
       "      <th></th>\n",
       "      <th>Tipo</th>\n",
       "      <th>Distrito</th>\n",
       "      <th>Cuartos</th>\n",
       "      <th>Vacantes</th>\n",
       "      <th>Suites</th>\n",
       "      <th>Area</th>\n",
       "      <th>Valor</th>\n",
       "      <th>Mantenimiento</th>\n",
       "      <th>Impuesto</th>\n",
       "      <th>Valor m2</th>\n",
       "      <th>Tipo Agrupado</th>\n",
       "    </tr>\n",
       "  </thead>\n",
       "  <tbody>\n",
       "    <tr>\n",
       "      <th>1580</th>\n",
       "      <td>Casa en condominio</td>\n",
       "      <td>Callao</td>\n",
       "      <td>4</td>\n",
       "      <td>2</td>\n",
       "      <td>3</td>\n",
       "      <td>163</td>\n",
       "      <td>800000.0</td>\n",
       "      <td>900.0</td>\n",
       "      <td>NaN</td>\n",
       "      <td>4907.98</td>\n",
       "      <td>Casa</td>\n",
       "    </tr>\n",
       "    <tr>\n",
       "      <th>2823</th>\n",
       "      <td>Casa comercial</td>\n",
       "      <td>Comas</td>\n",
       "      <td>0</td>\n",
       "      <td>0</td>\n",
       "      <td>0</td>\n",
       "      <td>500</td>\n",
       "      <td>100000.0</td>\n",
       "      <td>NaN</td>\n",
       "      <td>2000.0</td>\n",
       "      <td>200.00</td>\n",
       "      <td>Departamento</td>\n",
       "    </tr>\n",
       "  </tbody>\n",
       "</table>\n",
       "</div>"
      ],
      "text/plain": [
       "                    Tipo Distrito  Cuartos  Vacantes  Suites  Area     Valor   \n",
       "1580  Casa en condominio   Callao        4         2       3   163  800000.0  \\\n",
       "2823      Casa comercial    Comas        0         0       0   500  100000.0   \n",
       "\n",
       "      Mantenimiento  Impuesto  Valor m2 Tipo Agrupado  \n",
       "1580          900.0       NaN   4907.98          Casa  \n",
       "2823            NaN    2000.0    200.00  Departamento  "
      ]
     },
     "execution_count": 30,
     "metadata": {},
     "output_type": "execute_result"
    }
   ],
   "source": [
    "datos[datos['Valor'] >= 100000]"
   ]
  },
  {
   "cell_type": "code",
   "execution_count": 31,
   "metadata": {
    "id": "PxyseUg-70Go"
   },
   "outputs": [],
   "source": [
    "valor = datos['Valor']"
   ]
  },
  {
   "cell_type": "code",
   "execution_count": 32,
   "metadata": {
    "id": "fdW7y76t70Gp"
   },
   "outputs": [],
   "source": [
    "Q1 = valor.quantile(.25)#Cuartil\n",
    "Q3 = valor.quantile(.75)#Tercer cuartil     Q2=valor.quantile(.50)#Mediana\n",
    "IIQ = Q3 - Q1#Intervalo Inter Cuartil       IIQ = Q2#Intervalo Inter Cuartil \n",
    "limite_inferior = Q1 - 1.5 * IIQ           #limite_inferior = Q1 - 1.5 * IIQ \n",
    "limite_superior = Q3 + 1.5 * IIQ           #limite_superior = Q3 - 1.5 * IIQ"
   ]
  },
  {
   "cell_type": "code",
   "execution_count": 33,
   "metadata": {
    "id": "X2va6Qun70Gp"
   },
   "outputs": [],
   "source": [
    "seleccion = (valor >= limite_inferior) & (valor <= limite_superior)\n",
    "datos_new = datos[seleccion]"
   ]
  },
  {
   "cell_type": "code",
   "execution_count": 34,
   "metadata": {
    "colab": {
     "base_uri": "https://localhost:8080/",
     "height": 392
    },
    "id": "ZFZlCozL70Gp",
    "outputId": "24314843-0fa8-4e30-d28d-3ad295ee5186"
   },
   "outputs": [
    {
     "data": {
      "text/plain": [
       "<Axes: >"
      ]
     },
     "execution_count": 34,
     "metadata": {},
     "output_type": "execute_result"
    },
    {
     "data": {
      "image/png": "[encoded data removed]",
      "text/plain": [
       "<Figure size 1400x600 with 1 Axes>"
      ]
     },
     "metadata": {},
     "output_type": "display_data"
    }
   ],
   "source": [
    "datos_new.boxplot(['Valor'])"
   ]
  },
  {
   "cell_type": "code",
   "execution_count": 35,
   "metadata": {
    "colab": {
     "base_uri": "https://localhost:8080/",
     "height": 812
    },
    "id": "xTkTs4rT70Gp",
    "outputId": "b5584fef-7176-4ffe-ddb8-9d4255934732"
   },
   "outputs": [
    {
     "data": {
      "text/plain": [
       "array([[<Axes: title={'center': 'Valor'}>]], dtype=object)"
      ]
     },
     "execution_count": 35,
     "metadata": {},
     "output_type": "execute_result"
    },
    {
     "data": {
      "image/png": "[encoded data removed]",
      "text/plain": [
       "<Figure size 1400x600 with 1 Axes>"
      ]
     },
     "metadata": {},
     "output_type": "display_data"
    },
    {
     "data": {
      "image/png": "[encoded data removed]",
      "text/plain": [
       "<Figure size 1400x600 with 1 Axes>"
      ]
     },
     "metadata": {},
     "output_type": "display_data"
    }
   ],
   "source": [
    "datos.hist(['Valor'])\n",
    "datos_new.hist(['Valor'])"
   ]
  },
  {
   "cell_type": "markdown",
   "metadata": {
    "id": "hiLBjEd970Gq"
   },
   "source": [
    "## Identificando y Excluyendo Outliers (continuación)"
   ]
  },
  {
   "cell_type": "code",
   "execution_count": 36,
   "metadata": {
    "colab": {
     "base_uri": "https://localhost:8080/",
     "height": 495
    },
    "id": "trGNDF2Z70Gq",
    "outputId": "d6f5994a-010d-4953-8151-f663dbb9411d"
   },
   "outputs": [
    {
     "data": {
      "text/plain": [
       "(100.0, 800000.0)"
      ]
     },
     "execution_count": 36,
     "metadata": {},
     "output_type": "execute_result"
    },
    {
     "data": {
      "image/png": "[encoded data removed]",
      "text/plain": [
       "<Figure size 1400x600 with 1 Axes>"
      ]
     },
     "metadata": {},
     "output_type": "display_data"
    }
   ],
   "source": [
    "datos.boxplot(['Valor'], by = ['Tipo']).set_ylim((datos.Valor.min(), datos.Valor.max()))"
   ]
  },
  {
   "cell_type": "code",
   "execution_count": 37,
   "metadata": {
    "id": "_BZMLL-j70Gq"
   },
   "outputs": [],
   "source": [
    "grupo_tipo = datos.groupby('Tipo')['Valor']"
   ]
  },
  {
   "cell_type": "code",
   "execution_count": 38,
   "metadata": {
    "colab": {
     "base_uri": "https://localhost:8080/"
    },
    "id": "unbM7K__70Gq",
    "outputId": "a56d411e-61fd-43df-f197-29ec0bccaf95"
   },
   "outputs": [
    {
     "data": {
      "text/plain": [
       "pandas.core.groupby.generic.SeriesGroupBy"
      ]
     },
     "execution_count": 38,
     "metadata": {},
     "output_type": "execute_result"
    }
   ],
   "source": [
    "type(grupo_tipo)"
   ]
  },
  {
   "cell_type": "code",
   "execution_count": 39,
   "metadata": {
    "colab": {
     "base_uri": "https://localhost:8080/"
    },
    "id": "ihQQXZ7G70Gr",
    "outputId": "ed843202-084a-48fe-bcb9-a69aafc828bc"
   },
   "outputs": [
    {
     "data": {
      "text/plain": [
       "{'Casa': [1, 7, 10, 11, 18, 19, 23, 25, 29, 39, 42, 43, 45, 48, 53, 55, 59, 61, 64, 65, 66, 68, 70, 74, 80, 81, 82, 86, 88, 89, 92, 94, 95, 97, 99, 101, 103, 104, 108, 111, 114, 116, 118, 120, 121, 123, 131, 134, 146, 154, 163, 164, 171, 172, 173, 177, 181, 194, 195, 201, 204, 206, 212, 219, 220, 221, 225, 226, 229, 230, 232, 244, 247, 252, 255, 256, 257, 259, 260, 265, 267, 273, 280, 282, 286, 290, 292, 294, 296, 298, 301, 302, 304, 308, 309, 310, 312, 320, 322, 323, ...], 'Casa comercial': [12, 22, 32, 56, 78, 83, 91, 93, 98, 105, 119, 122, 128, 137, 138, 139, 150, 165, 184, 198, 213, 215, 222, 236, 238, 275, 295, 318, 370, 372, 375, 381, 384, 390, 394, 406, 417, 432, 457, 458, 464, 474, 482, 488, 489, 492, 496, 523, 557, 565, 574, 583, 587, 667, 680, 701, 704, 716, 727, 733, 737, 746, 752, 756, 786, 794, 795, 796, 806, 813, 827, 847, 857, 861, 871, 893, 894, 906, 907, 910, 925, 926, 931, 939, 959, 960, 969, 970, 973, 990, 994, 1012, 1019, 1032, 1040, 1072, 1078, 1093, 1105, 1108, ...], 'Casa de villa': [16, 35, 36, 51, 58, 113, 129, 130, 141, 160, 208, 211, 227, 233, 241, 253, 258, 263, 276, 306, 331, 334, 360, 374, 376, 385, 391, 397, 414, 418, 440, 443, 445, 446, 484, 504, 518, 542, 554, 560, 561, 562, 605, 615, 618, 620, 647, 664, 718, 769, 776, 778, 783, 801, 818, 837, 845, 864, 870, 897, 902, 909, 911, 916, 919, 934, 941, 952, 956, 962, 965, 1018, 1026, 1045, 1048, 1062, 1066, 1079, 1100, 1156, 1158, 1170, 1178, 1180, 1198, 1203, 1215, 1248, 1253, 1272, 1361, 1362, 1379, 1402, 1417, 1420, 1432, 1437, 1448, 1465, ...], 'Casa en condominio': [2, 3, 5, 6, 9, 13, 26, 27, 30, 34, 37, 40, 44, 46, 47, 49, 52, 60, 67, 69, 75, 76, 77, 85, 90, 96, 100, 107, 109, 110, 115, 117, 124, 125, 127, 132, 135, 136, 145, 149, 151, 153, 155, 156, 158, 159, 162, 168, 169, 170, 174, 175, 178, 182, 189, 190, 191, 192, 193, 199, 200, 202, 205, 209, 217, 223, 224, 228, 234, 239, 242, 243, 246, 250, 254, 266, 268, 269, 272, 274, 277, 279, 285, 287, 288, 289, 293, 299, 300, 303, 315, 319, 321, 325, 329, 330, 339, 340, 341, 343, ...], 'Habitación': [0, 4, 8, 14, 15, 17, 20, 21, 24, 28, 31, 33, 38, 41, 50, 54, 57, 62, 63, 71, 72, 73, 79, 84, 87, 102, 106, 112, 126, 133, 140, 142, 143, 144, 147, 148, 152, 157, 161, 166, 167, 176, 179, 180, 183, 185, 186, 187, 188, 196, 197, 203, 207, 210, 214, 216, 218, 231, 235, 237, 240, 245, 248, 249, 251, 261, 262, 264, 270, 271, 278, 281, 283, 284, 291, 297, 305, 307, 311, 313, 314, 316, 317, 326, 327, 328, 333, 335, 338, 342, 347, 348, 349, 353, 359, 362, 363, 369, 371, 388, ...]}"
      ]
     },
     "execution_count": 39,
     "metadata": {},
     "output_type": "execute_result"
    }
   ],
   "source": [
    "grupo_tipo.groups"
   ]
  },
  {
   "cell_type": "code",
   "execution_count": 40,
   "metadata": {
    "id": "f4kXGWzO70Gr"
   },
   "outputs": [],
   "source": [
    "Q1 = grupo_tipo.quantile(.25)\n",
    "Q3 = grupo_tipo.quantile(.75)\n",
    "IIQ = Q3 - Q1\n",
    "limite_inferior = Q1 - 1.5 * IIQ\n",
    "limite_superior = Q3 + 1.5 * IIQ"
   ]
  },
  {
   "cell_type": "code",
   "execution_count": 41,
   "metadata": {
    "colab": {
     "base_uri": "https://localhost:8080/"
    },
    "id": "gLPTZ8tf70Gr",
    "outputId": "79d26aa5-ba53-481a-e1c1-5470afcf2578"
   },
   "outputs": [
    {
     "data": {
      "text/plain": [
       "Tipo\n",
       "Casa                  1100.0\n",
       "Casa comercial        6000.0\n",
       "Casa de villa          750.0\n",
       "Casa en condominio    4000.0\n",
       "Habitación             900.0\n",
       "Name: Valor, dtype: float64"
      ]
     },
     "execution_count": 41,
     "metadata": {},
     "output_type": "execute_result"
    }
   ],
   "source": [
    "Q1"
   ]
  },
  {
   "cell_type": "code",
   "execution_count": 42,
   "metadata": {
    "colab": {
     "base_uri": "https://localhost:8080/"
    },
    "id": "o8gtZPJ970Gr",
    "outputId": "373628b4-434a-4bfe-a121-4546971eb3f2"
   },
   "outputs": [
    {
     "data": {
      "text/plain": [
       "Tipo\n",
       "Casa                   9800.0\n",
       "Casa comercial        18000.0\n",
       "Casa de villa          1800.0\n",
       "Casa en condominio    15250.0\n",
       "Habitación             1500.0\n",
       "Name: Valor, dtype: float64"
      ]
     },
     "execution_count": 42,
     "metadata": {},
     "output_type": "execute_result"
    }
   ],
   "source": [
    "Q3"
   ]
  },
  {
   "cell_type": "code",
   "execution_count": 43,
   "metadata": {
    "colab": {
     "base_uri": "https://localhost:8080/"
    },
    "id": "6C81k6Oq70Gs",
    "outputId": "02f310cb-986c-418d-d1ab-4c91457057bc"
   },
   "outputs": [
    {
     "data": {
      "text/plain": [
       "Tipo\n",
       "Casa                   8700.0\n",
       "Casa comercial        12000.0\n",
       "Casa de villa          1050.0\n",
       "Casa en condominio    11250.0\n",
       "Habitación              600.0\n",
       "Name: Valor, dtype: float64"
      ]
     },
     "execution_count": 43,
     "metadata": {},
     "output_type": "execute_result"
    }
   ],
   "source": [
    "IIQ"
   ]
  },
  {
   "cell_type": "code",
   "execution_count": 44,
   "metadata": {
    "colab": {
     "base_uri": "https://localhost:8080/"
    },
    "id": "1pXnoymR70Gs",
    "outputId": "198fb793-b78b-4c5a-a813-af7e8ab62572"
   },
   "outputs": [
    {
     "data": {
      "text/plain": [
       "Tipo\n",
       "Casa                 -11950.0\n",
       "Casa comercial       -12000.0\n",
       "Casa de villa          -825.0\n",
       "Casa en condominio   -12875.0\n",
       "Habitación                0.0\n",
       "Name: Valor, dtype: float64"
      ]
     },
     "execution_count": 44,
     "metadata": {},
     "output_type": "execute_result"
    }
   ],
   "source": [
    "limite_inferior"
   ]
  },
  {
   "cell_type": "code",
   "execution_count": 45,
   "metadata": {
    "colab": {
     "base_uri": "https://localhost:8080/"
    },
    "id": "vgwGcgzD70Gs",
    "outputId": "3035f3e4-8838-4bfd-eee5-6a2ab89eaf0f"
   },
   "outputs": [
    {
     "data": {
      "text/plain": [
       "Tipo\n",
       "Casa                  22850.0\n",
       "Casa comercial        36000.0\n",
       "Casa de villa          3375.0\n",
       "Casa en condominio    32125.0\n",
       "Habitación             2400.0\n",
       "Name: Valor, dtype: float64"
      ]
     },
     "execution_count": 45,
     "metadata": {},
     "output_type": "execute_result"
    }
   ],
   "source": [
    "limite_superior"
   ]
  },
  {
   "cell_type": "code",
   "execution_count": 46,
   "metadata": {
    "colab": {
     "base_uri": "https://localhost:8080/"
    },
    "id": "_rGdaiRO70Gs",
    "outputId": "a9824137-a8b8-4a76-876f-fd03c3cf062f"
   },
   "outputs": [
    {
     "data": {
      "text/plain": [
       "22850.0"
      ]
     },
     "execution_count": 46,
     "metadata": {},
     "output_type": "execute_result"
    }
   ],
   "source": [
    "limite_superior['Casa']"
   ]
  },
  {
   "cell_type": "code",
   "execution_count": 47,
   "metadata": {
    "id": "eX-Zt8vY70Gt"
   },
   "outputs": [],
   "source": [
    "datos_new = pd.DataFrame()\n",
    "for tipo in grupo_tipo.groups.keys():\n",
    "    eh_tipo = datos['Tipo'] == tipo\n",
    "    eh_dentro_limite = (datos['Valor'] >= limite_inferior[tipo]) & (datos['Valor'] <= limite_superior[tipo])\n",
    "    seleccion = eh_tipo & eh_dentro_limite\n",
    "    datos_seleccion = datos[seleccion]\n",
    "    datos_new = pd.concat([datos_new, datos_seleccion])"
   ]
  },
  {
   "cell_type": "code",
   "execution_count": 48,
   "metadata": {
    "colab": {
     "base_uri": "https://localhost:8080/",
     "height": 495
    },
    "id": "4jbPQ6Hx70Gt",
    "outputId": "2e89e711-65c4-40ae-821e-c8e8f1d594f2"
   },
   "outputs": [
    {
     "data": {
      "text/plain": [
       "<Axes: title={'center': 'Valor'}, xlabel='[Tipo]'>"
      ]
     },
     "execution_count": 48,
     "metadata": {},
     "output_type": "execute_result"
    },
    {
     "data": {
      "image/png": "[encoded data removed]",
      "text/plain": [
       "<Figure size 1400x600 with 1 Axes>"
      ]
     },
     "metadata": {},
     "output_type": "display_data"
    }
   ],
   "source": [
    "datos_new.boxplot(['Valor'], by = ['Tipo'])"
   ]
  },
  {
   "cell_type": "code",
   "execution_count": 49,
   "metadata": {
    "id": "NYSp1AzT70Gt"
   },
   "outputs": [],
   "source": [
    "datos_new.to_csv('alquiler_residencial_sin_outliers.csv', sep = ';', index = False)"
   ]
  }
 ],
 "metadata": {
  "colab": {
   "collapsed_sections": [],
   "name": "Identificando y Excluyendo Outliers.ipynb",
   "provenance": [],
   "toc_visible": true
  },
  "kernelspec": {
   "display_name": "Python 3",
   "language": "python",
   "name": "python3"
  },
  "language_info": {
   "codemirror_mode": {
    "name": "ipython",
    "version": 3
   },
   "file_extension": ".py",
   "mimetype": "text/x-python",
   "name": "python",
   "nbconvert_exporter": "python",
   "pygments_lexer": "ipython3",
   "version": "3.10.11"
  }
 },
 "nbformat": 4,
 "nbformat_minor": 1
}
