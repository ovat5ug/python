{
  "cells": [
    {
      "cell_type": "markdown",
      "metadata": {
        "colab_type": "text",
        "id": "view-in-github"
      },
      "source": [
        "<a href=\"https://colab.research.google.com/github/ahcamachod/1918-machine-learning-clasificacion-con-sklearn/blob/proyecto-final/ML_clasificacion_con_SKLearn.ipynb\" target=\"_parent\"><img src=\"https://colab.research.google.com/assets/colab-badge.svg\" alt=\"Open In Colab\"/></a>"
      ]
    },
    {
      "cell_type": "markdown",
      "metadata": {
        "id": "4X3UC5eP1YLN"
      },
      "source": [
        "## Aula 5: Dummy classifiers y árboles de decisión."
      ]
    },
    {
      "cell_type": "code",
      "execution_count": 1,
      "metadata": {
        "colab": {
          "base_uri": "https://localhost:8080/",
          "height": 206
        },
        "id": "piqXs5To1RxA",
        "outputId": "412e6a8c-2bca-44c4-bd2f-88a8faa65f63"
      },
      "outputs": [
        {
          "data": {
            "text/html": [
              "<div>\n",
              "<style scoped>\n",
              "    .dataframe tbody tr th:only-of-type {\n",
              "        vertical-align: middle;\n",
              "    }\n",
              "\n",
              "    .dataframe tbody tr th {\n",
              "        vertical-align: top;\n",
              "    }\n",
              "\n",
              "    .dataframe thead th {\n",
              "        text-align: right;\n",
              "    }\n",
              "</style>\n",
              "<table border=\"1\" class=\"dataframe\">\n",
              "  <thead>\n",
              "    <tr style=\"text-align: right;\">\n",
              "      <th></th>\n",
              "      <th>Unnamed: 0</th>\n",
              "      <th>mileage_per_year</th>\n",
              "      <th>model_year</th>\n",
              "      <th>price</th>\n",
              "      <th>sold</th>\n",
              "    </tr>\n",
              "  </thead>\n",
              "  <tbody>\n",
              "    <tr>\n",
              "      <th>0</th>\n",
              "      <td>0</td>\n",
              "      <td>21801</td>\n",
              "      <td>2000</td>\n",
              "      <td>30941.02</td>\n",
              "      <td>yes</td>\n",
              "    </tr>\n",
              "    <tr>\n",
              "      <th>1</th>\n",
              "      <td>1</td>\n",
              "      <td>7843</td>\n",
              "      <td>1998</td>\n",
              "      <td>40557.96</td>\n",
              "      <td>yes</td>\n",
              "    </tr>\n",
              "    <tr>\n",
              "      <th>2</th>\n",
              "      <td>2</td>\n",
              "      <td>7109</td>\n",
              "      <td>2006</td>\n",
              "      <td>89627.50</td>\n",
              "      <td>no</td>\n",
              "    </tr>\n",
              "    <tr>\n",
              "      <th>3</th>\n",
              "      <td>3</td>\n",
              "      <td>26823</td>\n",
              "      <td>2015</td>\n",
              "      <td>95276.14</td>\n",
              "      <td>no</td>\n",
              "    </tr>\n",
              "    <tr>\n",
              "      <th>4</th>\n",
              "      <td>4</td>\n",
              "      <td>7935</td>\n",
              "      <td>2014</td>\n",
              "      <td>117384.68</td>\n",
              "      <td>yes</td>\n",
              "    </tr>\n",
              "  </tbody>\n",
              "</table>\n",
              "</div>"
            ],
            "text/plain": [
              "   Unnamed: 0  mileage_per_year  model_year      price sold\n",
              "0           0             21801        2000   30941.02  yes\n",
              "1           1              7843        1998   40557.96  yes\n",
              "2           2              7109        2006   89627.50   no\n",
              "3           3             26823        2015   95276.14   no\n",
              "4           4              7935        2014  117384.68  yes"
            ]
          },
          "execution_count": 1,
          "metadata": {},
          "output_type": "execute_result"
        }
      ],
      "source": [
        "import numpy as np\n",
        "import pandas as pd\n",
        "import seaborn as sns\n",
        "import matplotlib.pyplot as plt\n",
        "from sklearn.metrics import accuracy_score\n",
        "from sklearn.model_selection import train_test_split\n",
        "\n",
        "uri = 'docs/car_prices.csv'\n",
        "#uri = 'https://gist.githubusercontent.com/ahcamachod/1595316a6b37bf39baac355b081d9c3b/raw/98bc94de744764cef0e67922ddfac2a226ad6a6f/car_prices.csv'\n",
        "\n",
        "datos = pd.read_csv(uri)\n",
        "datos.head()"
      ]
    },
    {
      "cell_type": "code",
      "execution_count": 2,
      "metadata": {
        "colab": {
          "base_uri": "https://localhost:8080/",
          "height": 143
        },
        "id": "zFHbRcUTKU39",
        "outputId": "3ee10379-4f1e-45ee-990c-0bd002d98ca5"
      },
      "outputs": [
        {
          "data": {
            "text/html": [
              "<div>\n",
              "<style scoped>\n",
              "    .dataframe tbody tr th:only-of-type {\n",
              "        vertical-align: middle;\n",
              "    }\n",
              "\n",
              "    .dataframe tbody tr th {\n",
              "        vertical-align: top;\n",
              "    }\n",
              "\n",
              "    .dataframe thead th {\n",
              "        text-align: right;\n",
              "    }\n",
              "</style>\n",
              "<table border=\"1\" class=\"dataframe\">\n",
              "  <thead>\n",
              "    <tr style=\"text-align: right;\">\n",
              "      <th></th>\n",
              "      <th>idCar</th>\n",
              "      <th>millas_por_ano</th>\n",
              "      <th>ano_del_modelo</th>\n",
              "      <th>precio</th>\n",
              "      <th>vendido</th>\n",
              "    </tr>\n",
              "  </thead>\n",
              "  <tbody>\n",
              "    <tr>\n",
              "      <th>9280</th>\n",
              "      <td>9280</td>\n",
              "      <td>21944</td>\n",
              "      <td>2002</td>\n",
              "      <td>99899.91</td>\n",
              "      <td>no</td>\n",
              "    </tr>\n",
              "    <tr>\n",
              "      <th>1408</th>\n",
              "      <td>1408</td>\n",
              "      <td>14542</td>\n",
              "      <td>1998</td>\n",
              "      <td>39918.35</td>\n",
              "      <td>yes</td>\n",
              "    </tr>\n",
              "    <tr>\n",
              "      <th>8631</th>\n",
              "      <td>8631</td>\n",
              "      <td>15498</td>\n",
              "      <td>2004</td>\n",
              "      <td>60441.11</td>\n",
              "      <td>no</td>\n",
              "    </tr>\n",
              "  </tbody>\n",
              "</table>\n",
              "</div>"
            ],
            "text/plain": [
              "      idCar  millas_por_ano  ano_del_modelo    precio vendido\n",
              "9280   9280           21944            2002  99899.91      no\n",
              "1408   1408           14542            1998  39918.35     yes\n",
              "8631   8631           15498            2004  60441.11      no"
            ]
          },
          "execution_count": 2,
          "metadata": {},
          "output_type": "execute_result"
        }
      ],
      "source": [
        "mapa = {\n",
        "        'Unnamed: 0':'idCar',\n",
        "        'mileage_per_year':'millas_por_ano',\n",
        "        'model_year':'ano_del_modelo',\n",
        "        'price':'precio',\n",
        "        'sold':'vendido'\n",
        "        }\n",
        "\n",
        "datos = datos.rename(columns=mapa)\n",
        "datos.sample(3)"
      ]
    },
    {
      "cell_type": "code",
      "execution_count": 3,
      "metadata": {
        "colab": {
          "base_uri": "https://localhost:8080/",
          "height": 143
        },
        "id": "LrDgOpPHMqK-",
        "outputId": "77cbbfee-dde7-41b6-c5b4-d2339b8ad263"
      },
      "outputs": [
        {
          "data": {
            "text/html": [
              "<div>\n",
              "<style scoped>\n",
              "    .dataframe tbody tr th:only-of-type {\n",
              "        vertical-align: middle;\n",
              "    }\n",
              "\n",
              "    .dataframe tbody tr th {\n",
              "        vertical-align: top;\n",
              "    }\n",
              "\n",
              "    .dataframe thead th {\n",
              "        text-align: right;\n",
              "    }\n",
              "</style>\n",
              "<table border=\"1\" class=\"dataframe\">\n",
              "  <thead>\n",
              "    <tr style=\"text-align: right;\">\n",
              "      <th></th>\n",
              "      <th>idCar</th>\n",
              "      <th>millas_por_ano</th>\n",
              "      <th>ano_del_modelo</th>\n",
              "      <th>precio</th>\n",
              "      <th>vendido</th>\n",
              "    </tr>\n",
              "  </thead>\n",
              "  <tbody>\n",
              "    <tr>\n",
              "      <th>3329</th>\n",
              "      <td>3329</td>\n",
              "      <td>15800</td>\n",
              "      <td>2004</td>\n",
              "      <td>34847.66</td>\n",
              "      <td>1</td>\n",
              "    </tr>\n",
              "    <tr>\n",
              "      <th>4507</th>\n",
              "      <td>4507</td>\n",
              "      <td>8694</td>\n",
              "      <td>2000</td>\n",
              "      <td>65161.02</td>\n",
              "      <td>0</td>\n",
              "    </tr>\n",
              "    <tr>\n",
              "      <th>945</th>\n",
              "      <td>945</td>\n",
              "      <td>15027</td>\n",
              "      <td>2004</td>\n",
              "      <td>45297.62</td>\n",
              "      <td>1</td>\n",
              "    </tr>\n",
              "  </tbody>\n",
              "</table>\n",
              "</div>"
            ],
            "text/plain": [
              "      idCar  millas_por_ano  ano_del_modelo    precio  vendido\n",
              "3329   3329           15800            2004  34847.66        1\n",
              "4507   4507            8694            2000  65161.02        0\n",
              "945     945           15027            2004  45297.62        1"
            ]
          },
          "execution_count": 3,
          "metadata": {},
          "output_type": "execute_result"
        }
      ],
      "source": [
        "cambio = {'no':0, 'yes':1}\n",
        "\n",
        "datos.vendido = datos.vendido.map(cambio)\n",
        "datos.sample(3)"
      ]
    },
    {
      "cell_type": "code",
      "execution_count": 4,
      "metadata": {
        "colab": {
          "base_uri": "https://localhost:8080/",
          "height": 143
        },
        "id": "NuKhQngnMqNf",
        "outputId": "f399ed74-3a4b-42a0-afaf-fdad7bf6eba8"
      },
      "outputs": [
        {
          "data": {
            "text/html": [
              "<div>\n",
              "<style scoped>\n",
              "    .dataframe tbody tr th:only-of-type {\n",
              "        vertical-align: middle;\n",
              "    }\n",
              "\n",
              "    .dataframe tbody tr th {\n",
              "        vertical-align: top;\n",
              "    }\n",
              "\n",
              "    .dataframe thead th {\n",
              "        text-align: right;\n",
              "    }\n",
              "</style>\n",
              "<table border=\"1\" class=\"dataframe\">\n",
              "  <thead>\n",
              "    <tr style=\"text-align: right;\">\n",
              "      <th></th>\n",
              "      <th>idCar</th>\n",
              "      <th>millas_por_ano</th>\n",
              "      <th>ano_del_modelo</th>\n",
              "      <th>precio</th>\n",
              "      <th>vendido</th>\n",
              "      <th>edad_del_modelo</th>\n",
              "    </tr>\n",
              "  </thead>\n",
              "  <tbody>\n",
              "    <tr>\n",
              "      <th>5587</th>\n",
              "      <td>5587</td>\n",
              "      <td>8832</td>\n",
              "      <td>1998</td>\n",
              "      <td>79157.96</td>\n",
              "      <td>0</td>\n",
              "      <td>25</td>\n",
              "    </tr>\n",
              "    <tr>\n",
              "      <th>1932</th>\n",
              "      <td>1932</td>\n",
              "      <td>16004</td>\n",
              "      <td>1999</td>\n",
              "      <td>50423.86</td>\n",
              "      <td>1</td>\n",
              "      <td>24</td>\n",
              "    </tr>\n",
              "    <tr>\n",
              "      <th>8238</th>\n",
              "      <td>8238</td>\n",
              "      <td>8121</td>\n",
              "      <td>2008</td>\n",
              "      <td>61215.80</td>\n",
              "      <td>1</td>\n",
              "      <td>15</td>\n",
              "    </tr>\n",
              "  </tbody>\n",
              "</table>\n",
              "</div>"
            ],
            "text/plain": [
              "      idCar  millas_por_ano  ano_del_modelo    precio  vendido   \n",
              "5587   5587            8832            1998  79157.96        0  \\\n",
              "1932   1932           16004            1999  50423.86        1   \n",
              "8238   8238            8121            2008  61215.80        1   \n",
              "\n",
              "      edad_del_modelo  \n",
              "5587               25  \n",
              "1932               24  \n",
              "8238               15  "
            ]
          },
          "execution_count": 4,
          "metadata": {},
          "output_type": "execute_result"
        }
      ],
      "source": [
        "from datetime import datetime\n",
        "\n",
        "ano_actual = datetime.today().year\n",
        "datos['edad_del_modelo'] = ano_actual - datos.ano_del_modelo\n",
        "datos.sample(3)"
      ]
    },
    {
      "cell_type": "code",
      "execution_count": 5,
      "metadata": {
        "colab": {
          "base_uri": "https://localhost:8080/",
          "height": 143
        },
        "id": "sB5U3oAyMqPt",
        "outputId": "180632e7-0e7a-4746-e288-91ab63d90ab3"
      },
      "outputs": [
        {
          "data": {
            "text/html": [
              "<div>\n",
              "<style scoped>\n",
              "    .dataframe tbody tr th:only-of-type {\n",
              "        vertical-align: middle;\n",
              "    }\n",
              "\n",
              "    .dataframe tbody tr th {\n",
              "        vertical-align: top;\n",
              "    }\n",
              "\n",
              "    .dataframe thead th {\n",
              "        text-align: right;\n",
              "    }\n",
              "</style>\n",
              "<table border=\"1\" class=\"dataframe\">\n",
              "  <thead>\n",
              "    <tr style=\"text-align: right;\">\n",
              "      <th></th>\n",
              "      <th>idCar</th>\n",
              "      <th>millas_por_ano</th>\n",
              "      <th>ano_del_modelo</th>\n",
              "      <th>precio</th>\n",
              "      <th>vendido</th>\n",
              "      <th>edad_del_modelo</th>\n",
              "      <th>km_por_ano</th>\n",
              "    </tr>\n",
              "  </thead>\n",
              "  <tbody>\n",
              "    <tr>\n",
              "      <th>9721</th>\n",
              "      <td>9721</td>\n",
              "      <td>17179</td>\n",
              "      <td>1999</td>\n",
              "      <td>83013.47</td>\n",
              "      <td>0</td>\n",
              "      <td>24</td>\n",
              "      <td>27646.85186</td>\n",
              "    </tr>\n",
              "    <tr>\n",
              "      <th>9398</th>\n",
              "      <td>9398</td>\n",
              "      <td>17090</td>\n",
              "      <td>2013</td>\n",
              "      <td>45926.77</td>\n",
              "      <td>1</td>\n",
              "      <td>10</td>\n",
              "      <td>27503.62060</td>\n",
              "    </tr>\n",
              "    <tr>\n",
              "      <th>8182</th>\n",
              "      <td>8182</td>\n",
              "      <td>9499</td>\n",
              "      <td>2011</td>\n",
              "      <td>77344.72</td>\n",
              "      <td>1</td>\n",
              "      <td>12</td>\n",
              "      <td>15287.12066</td>\n",
              "    </tr>\n",
              "  </tbody>\n",
              "</table>\n",
              "</div>"
            ],
            "text/plain": [
              "      idCar  millas_por_ano  ano_del_modelo    precio  vendido   \n",
              "9721   9721           17179            1999  83013.47        0  \\\n",
              "9398   9398           17090            2013  45926.77        1   \n",
              "8182   8182            9499            2011  77344.72        1   \n",
              "\n",
              "      edad_del_modelo   km_por_ano  \n",
              "9721               24  27646.85186  \n",
              "9398               10  27503.62060  \n",
              "8182               12  15287.12066  "
            ]
          },
          "execution_count": 5,
          "metadata": {},
          "output_type": "execute_result"
        }
      ],
      "source": [
        "datos['km_por_ano'] = datos.millas_por_ano * 1.60934\n",
        "datos.sample(3)"
      ]
    },
    {
      "cell_type": "code",
      "execution_count": 6,
      "metadata": {
        "colab": {
          "base_uri": "https://localhost:8080/",
          "height": 143
        },
        "id": "xzRf9eciMqSF",
        "outputId": "fff77e3c-0a65-41ca-f224-11d6e8b3f49b"
      },
      "outputs": [
        {
          "data": {
            "text/html": [
              "<div>\n",
              "<style scoped>\n",
              "    .dataframe tbody tr th:only-of-type {\n",
              "        vertical-align: middle;\n",
              "    }\n",
              "\n",
              "    .dataframe tbody tr th {\n",
              "        vertical-align: top;\n",
              "    }\n",
              "\n",
              "    .dataframe thead th {\n",
              "        text-align: right;\n",
              "    }\n",
              "</style>\n",
              "<table border=\"1\" class=\"dataframe\">\n",
              "  <thead>\n",
              "    <tr style=\"text-align: right;\">\n",
              "      <th></th>\n",
              "      <th>precio</th>\n",
              "      <th>vendido</th>\n",
              "      <th>edad_del_modelo</th>\n",
              "      <th>km_por_ano</th>\n",
              "    </tr>\n",
              "  </thead>\n",
              "  <tbody>\n",
              "    <tr>\n",
              "      <th>9665</th>\n",
              "      <td>111418.77</td>\n",
              "      <td>0</td>\n",
              "      <td>10</td>\n",
              "      <td>29845.21030</td>\n",
              "    </tr>\n",
              "    <tr>\n",
              "      <th>7365</th>\n",
              "      <td>37082.18</td>\n",
              "      <td>1</td>\n",
              "      <td>23</td>\n",
              "      <td>14789.83460</td>\n",
              "    </tr>\n",
              "    <tr>\n",
              "      <th>7800</th>\n",
              "      <td>100297.78</td>\n",
              "      <td>1</td>\n",
              "      <td>25</td>\n",
              "      <td>25638.39554</td>\n",
              "    </tr>\n",
              "  </tbody>\n",
              "</table>\n",
              "</div>"
            ],
            "text/plain": [
              "         precio  vendido  edad_del_modelo   km_por_ano\n",
              "9665  111418.77        0               10  29845.21030\n",
              "7365   37082.18        1               23  14789.83460\n",
              "7800  100297.78        1               25  25638.39554"
            ]
          },
          "execution_count": 6,
          "metadata": {},
          "output_type": "execute_result"
        }
      ],
      "source": [
        "datos = datos.drop(columns=['idCar', 'millas_por_ano','ano_del_modelo'], axis=1)\n",
        "datos.sample(3)"
      ]
    },
    {
      "cell_type": "code",
      "execution_count": 7,
      "metadata": {
        "colab": {
          "base_uri": "https://localhost:8080/"
        },
        "id": "v1Vucf-FKVAA",
        "outputId": "892e5241-9bbc-4792-bda2-6dd7f820d1cb"
      },
      "outputs": [
        {
          "name": "stdout",
          "output_type": "stream",
          "text": [
            "Entrenaremos con 7500 elementos y probaremos con 2500 elementos.\n",
            "La tasa de acierto fue de: 76.04%\n"
          ]
        }
      ],
      "source": [
        "from sklearn.svm import SVC\n",
        "from sklearn.preprocessing import StandardScaler#trae todos los datos a una misma escala\n",
        "\n",
        "x= datos[['edad_del_modelo','km_por_ano', 'precio']]\n",
        "y= datos.vendido\n",
        "\n",
        "SEED = 42\n",
        "np.random.seed(SEED)\n",
        "\n",
        "raw_x_train, raw_x_test, y_train, y_test = train_test_split(x,y,test_size=0.25,stratify=y)\n",
        "print(f\"Entrenaremos con {len(raw_x_train)} elementos y probaremos con {len(raw_x_test)} elementos.\")\n",
        "\n",
        "scaler = StandardScaler()\n",
        "scaler.fit(raw_x_train)\n",
        "x_train = scaler.transform(raw_x_train)\n",
        "x_test = scaler.transform(raw_x_test)\n",
        "\n",
        "model = SVC()\n",
        "model.fit(x_train,y_train)\n",
        "previsiones= model.predict(x_test)\n",
        "\n",
        "tasa_de_acierto = accuracy_score(y_test, previsiones)\n",
        "print(f'La tasa de acierto fue de: {round(tasa_de_acierto*100,2)}%')"
      ]
    },
    {
      "cell_type": "code",
      "execution_count": 8,
      "metadata": {
        "colab": {
          "base_uri": "https://localhost:8080/"
        },
        "id": "oo_-cNEwPLX-",
        "outputId": "fa005011-1a5e-4dee-8188-82093f0fa58e"
      },
      "outputs": [
        {
          "name": "stdout",
          "output_type": "stream",
          "text": [
            "La exactitud del clasificador Dummy stratified fue: 52.64%\n"
          ]
        }
      ],
      "source": [
        "from sklearn.dummy import DummyClassifier\n",
        "\n",
        "dummy = DummyClassifier(strategy='stratified')\n",
        "dummy.fit(x_train,y_train)\n",
        "exactitud = dummy.score(x_test,y_test)*100\n",
        "print(f'La exactitud del clasificador Dummy stratified fue: {round(exactitud,2)}%')"
      ]
    },
    {
      "cell_type": "code",
      "execution_count": 9,
      "metadata": {
        "colab": {
          "base_uri": "https://localhost:8080/"
        },
        "id": "gRPfPShLPLac",
        "outputId": "673da2a0-80c2-4be6-85ce-539de6a35486"
      },
      "outputs": [
        {
          "name": "stdout",
          "output_type": "stream",
          "text": [
            "La exactitud del clasificador Dummy most_frequent fue: 58.0%\n"
          ]
        }
      ],
      "source": [
        "from sklearn.dummy import DummyClassifier\n",
        "\n",
        "dummy = DummyClassifier(strategy='most_frequent')\n",
        "dummy.fit(x_train,y_train)\n",
        "exactitud = dummy.score(x_test,y_test)*100\n",
        "print(f'La exactitud del clasificador Dummy most_frequent fue: {round(exactitud,2)}%')"
      ]
    },
    {
      "cell_type": "code",
      "execution_count": 10,
      "metadata": {
        "colab": {
          "base_uri": "https://localhost:8080/"
        },
        "id": "uu5o2BY_PLcl",
        "outputId": "27a56bc3-1178-4c46-9de6-812f63531d3d"
      },
      "outputs": [
        {
          "name": "stdout",
          "output_type": "stream",
          "text": [
            "Entrenaremos con 7500 elementos y probaremos con 2500 elementos.\n",
            "La tasa de acierto fue de: 78.04%\n"
          ]
        }
      ],
      "source": [
        "# Usando StandardScaler()\n",
        "\n",
        "from sklearn.tree import DecisionTreeClassifier\n",
        "\n",
        "x= datos[['edad_del_modelo','km_por_ano', 'precio']]\n",
        "y= datos.vendido\n",
        "\n",
        "SEED = 42\n",
        "np.random.seed(SEED)\n",
        "\n",
        "raw_x_train, raw_x_test, y_train, y_test = train_test_split(x,y,test_size=0.25,stratify=y)\n",
        "print(f\"Entrenaremos con {len(raw_x_train)} elementos y probaremos con {len(raw_x_test)} elementos.\")\n",
        "\n",
        "scaler = StandardScaler()\n",
        "scaler.fit(raw_x_train)\n",
        "x_train = scaler.transform(raw_x_train)\n",
        "x_test = scaler.transform(raw_x_test)\n",
        "\n",
        "model = DecisionTreeClassifier(max_depth=3)\n",
        "model.fit(x_train,y_train)\n",
        "previsiones= model.predict(x_test)\n",
        "\n",
        "tasa_de_acierto = accuracy_score(y_test, previsiones)\n",
        "print(f'La tasa de acierto fue de: {round(tasa_de_acierto*100,2)}%')"
      ]
    },
    {
      "cell_type": "code",
      "execution_count": 11,
      "metadata": {
        "colab": {
          "base_uri": "https://localhost:8080/"
        },
        "id": "Ot4qRRMEStAu",
        "outputId": "33014e16-f695-46a9-ffff-4364925fff6e"
      },
      "outputs": [
        {
          "name": "stdout",
          "output_type": "stream",
          "text": [
            "Entrenaremos con 7500 elementos y probaremos con 2500 elementos.\n",
            "La tasa de acierto fue de: 78.04%\n"
          ]
        }
      ],
      "source": [
        "# Sin estandarizar\n",
        "\n",
        "from sklearn.tree import DecisionTreeClassifier\n",
        "\n",
        "x= datos[['edad_del_modelo','km_por_ano', 'precio']]\n",
        "y= datos.vendido\n",
        "\n",
        "SEED = 42\n",
        "np.random.seed(SEED)\n",
        "\n",
        "x_train, x_test, y_train, y_test = train_test_split(x,y,test_size=0.25,stratify=y)\n",
        "print(f\"Entrenaremos con {len(x_train)} elementos y probaremos con {len(x_test)} elementos.\")\n",
        "\n",
        "model = DecisionTreeClassifier(max_depth=3)\n",
        "model.fit(x_train,y_train)\n",
        "previsiones= model.predict(x_test)\n",
        "\n",
        "tasa_de_acierto = accuracy_score(y_test, previsiones)\n",
        "print(f'La tasa de acierto fue de: {round(tasa_de_acierto*100,2)}%')"
      ]
    },
    {
      "cell_type": "code",
      "execution_count": 12,
      "metadata": {
        "colab": {
          "base_uri": "https://localhost:8080/",
          "height": 618
        },
        "id": "8J5RwSyZSs29",
        "outputId": "01c8e528-0622-4ce8-87e1-37afd0522c16"
      },
      "outputs": [
        {
          "data": {
            "image/svg+xml": [
              "<?xml version=\"1.0\" encoding=\"UTF-8\" standalone=\"no\"?>\n",
              "<!DOCTYPE svg PUBLIC \"-//W3C//DTD SVG 1.1//EN\"\n",
              " \"http://www.w3.org/Graphics/SVG/1.1/DTD/svg11.dtd\">\n",
              "<!-- Generated by graphviz version 5.0.0 (20220707.1540)\n",
              " -->\n",
              "<!-- Title: Tree Pages: 1 -->\n",
              "<svg width=\"900pt\" height=\"433pt\"\n",
              " viewBox=\"0.00 0.00 900.00 433.00\" xmlns=\"http://www.w3.org/2000/svg\" xmlns:xlink=\"http://www.w3.org/1999/xlink\">\n",
              "<g id=\"graph0\" class=\"graph\" transform=\"scale(1 1) rotate(0) translate(4 429)\">\n",
              "<title>Tree</title>\n",
              "<polygon fill=\"white\" stroke=\"transparent\" points=\"-4,4 -4,-429 896,-429 896,4 -4,4\"/>\n",
              "<!-- 0 -->\n",
              "<g id=\"node1\" class=\"node\">\n",
              "<title>0</title>\n",
              "<path fill=\"#c8e4f8\" stroke=\"black\" d=\"M388,-425C388,-425 262,-425 262,-425 256,-425 250,-419 250,-413 250,-413 250,-354 250,-354 250,-348 256,-342 262,-342 262,-342 388,-342 388,-342 394,-342 400,-348 400,-354 400,-354 400,-413 400,-413 400,-419 394,-425 388,-425\"/>\n",
              "<text text-anchor=\"middle\" x=\"325\" y=\"-409.8\" font-family=\"Helvetica,sans-Serif\" font-size=\"14.00\">precio &lt;= 60069.984</text>\n",
              "<text text-anchor=\"middle\" x=\"325\" y=\"-394.8\" font-family=\"Helvetica,sans-Serif\" font-size=\"14.00\">gini = 0.487</text>\n",
              "<text text-anchor=\"middle\" x=\"325\" y=\"-379.8\" font-family=\"Helvetica,sans-Serif\" font-size=\"14.00\">samples = 7500</text>\n",
              "<text text-anchor=\"middle\" x=\"325\" y=\"-364.8\" font-family=\"Helvetica,sans-Serif\" font-size=\"14.00\">value = [3150, 4350]</text>\n",
              "<text text-anchor=\"middle\" x=\"325\" y=\"-349.8\" font-family=\"Helvetica,sans-Serif\" font-size=\"14.00\">class = Sí</text>\n",
              "</g>\n",
              "<!-- 1 -->\n",
              "<g id=\"node2\" class=\"node\">\n",
              "<title>1</title>\n",
              "<path fill=\"#52a9e8\" stroke=\"black\" d=\"M294,-306C294,-306 168,-306 168,-306 162,-306 156,-300 156,-294 156,-294 156,-235 156,-235 156,-229 162,-223 168,-223 168,-223 294,-223 294,-223 300,-223 306,-229 306,-235 306,-235 306,-294 306,-294 306,-300 300,-306 294,-306\"/>\n",
              "<text text-anchor=\"middle\" x=\"231\" y=\"-290.8\" font-family=\"Helvetica,sans-Serif\" font-size=\"14.00\">precio &lt;= 40083.385</text>\n",
              "<text text-anchor=\"middle\" x=\"231\" y=\"-275.8\" font-family=\"Helvetica,sans-Serif\" font-size=\"14.00\">gini = 0.2</text>\n",
              "<text text-anchor=\"middle\" x=\"231\" y=\"-260.8\" font-family=\"Helvetica,sans-Serif\" font-size=\"14.00\">samples = 3290</text>\n",
              "<text text-anchor=\"middle\" x=\"231\" y=\"-245.8\" font-family=\"Helvetica,sans-Serif\" font-size=\"14.00\">value = [370, 2920]</text>\n",
              "<text text-anchor=\"middle\" x=\"231\" y=\"-230.8\" font-family=\"Helvetica,sans-Serif\" font-size=\"14.00\">class = Sí</text>\n",
              "</g>\n",
              "<!-- 0&#45;&gt;1 -->\n",
              "<g id=\"edge1\" class=\"edge\">\n",
              "<title>0&#45;&gt;1</title>\n",
              "<path fill=\"none\" stroke=\"black\" d=\"M292.39,-341.91C285.17,-332.92 277.45,-323.32 270.01,-314.05\"/>\n",
              "<polygon fill=\"black\" stroke=\"black\" points=\"272.55,-311.62 263.56,-306.02 267.09,-316.01 272.55,-311.62\"/>\n",
              "<text text-anchor=\"middle\" x=\"260.85\" y=\"-327.17\" font-family=\"Helvetica,sans-Serif\" font-size=\"14.00\">True</text>\n",
              "</g>\n",
              "<!-- 6 -->\n",
              "<g id=\"node7\" class=\"node\">\n",
              "<title>6</title>\n",
              "<path fill=\"#f2c29f\" stroke=\"black\" d=\"M548,-306C548,-306 382,-306 382,-306 376,-306 370,-300 370,-294 370,-294 370,-235 370,-235 370,-229 376,-223 382,-223 382,-223 548,-223 548,-223 554,-223 560,-229 560,-235 560,-235 560,-294 560,-294 560,-300 554,-306 548,-306\"/>\n",
              "<text text-anchor=\"middle\" x=\"465\" y=\"-290.8\" font-family=\"Helvetica,sans-Serif\" font-size=\"14.00\">km_por_ano &lt;= 24124.811</text>\n",
              "<text text-anchor=\"middle\" x=\"465\" y=\"-275.8\" font-family=\"Helvetica,sans-Serif\" font-size=\"14.00\">gini = 0.449</text>\n",
              "<text text-anchor=\"middle\" x=\"465\" y=\"-260.8\" font-family=\"Helvetica,sans-Serif\" font-size=\"14.00\">samples = 4210</text>\n",
              "<text text-anchor=\"middle\" x=\"465\" y=\"-245.8\" font-family=\"Helvetica,sans-Serif\" font-size=\"14.00\">value = [2780, 1430]</text>\n",
              "<text text-anchor=\"middle\" x=\"465\" y=\"-230.8\" font-family=\"Helvetica,sans-Serif\" font-size=\"14.00\">class = No</text>\n",
              "</g>\n",
              "<!-- 0&#45;&gt;6 -->\n",
              "<g id=\"edge6\" class=\"edge\">\n",
              "<title>0&#45;&gt;6</title>\n",
              "<path fill=\"none\" stroke=\"black\" d=\"M373.57,-341.91C384.87,-332.47 396.98,-322.34 408.58,-312.65\"/>\n",
              "<polygon fill=\"black\" stroke=\"black\" points=\"411.08,-315.12 416.51,-306.02 406.6,-309.75 411.08,-315.12\"/>\n",
              "<text text-anchor=\"middle\" x=\"414.29\" y=\"-327.22\" font-family=\"Helvetica,sans-Serif\" font-size=\"14.00\">False</text>\n",
              "</g>\n",
              "<!-- 2 -->\n",
              "<g id=\"node3\" class=\"node\">\n",
              "<title>2</title>\n",
              "<path fill=\"#399de5\" stroke=\"black\" d=\"M110,-179.5C110,-179.5 12,-179.5 12,-179.5 6,-179.5 0,-173.5 0,-167.5 0,-167.5 0,-123.5 0,-123.5 0,-117.5 6,-111.5 12,-111.5 12,-111.5 110,-111.5 110,-111.5 116,-111.5 122,-117.5 122,-123.5 122,-123.5 122,-167.5 122,-167.5 122,-173.5 116,-179.5 110,-179.5\"/>\n",
              "<text text-anchor=\"middle\" x=\"61\" y=\"-164.3\" font-family=\"Helvetica,sans-Serif\" font-size=\"14.00\">gini = 0.0</text>\n",
              "<text text-anchor=\"middle\" x=\"61\" y=\"-149.3\" font-family=\"Helvetica,sans-Serif\" font-size=\"14.00\">samples = 1476</text>\n",
              "<text text-anchor=\"middle\" x=\"61\" y=\"-134.3\" font-family=\"Helvetica,sans-Serif\" font-size=\"14.00\">value = [0, 1476]</text>\n",
              "<text text-anchor=\"middle\" x=\"61\" y=\"-119.3\" font-family=\"Helvetica,sans-Serif\" font-size=\"14.00\">class = Sí</text>\n",
              "</g>\n",
              "<!-- 1&#45;&gt;2 -->\n",
              "<g id=\"edge2\" class=\"edge\">\n",
              "<title>1&#45;&gt;2</title>\n",
              "<path fill=\"none\" stroke=\"black\" d=\"M172.02,-222.91C154.38,-210.77 135.09,-197.49 117.61,-185.46\"/>\n",
              "<polygon fill=\"black\" stroke=\"black\" points=\"119.41,-182.45 109.19,-179.67 115.44,-188.22 119.41,-182.45\"/>\n",
              "</g>\n",
              "<!-- 3 -->\n",
              "<g id=\"node4\" class=\"node\">\n",
              "<title>3</title>\n",
              "<path fill=\"#6cb6ec\" stroke=\"black\" d=\"M310,-187C310,-187 152,-187 152,-187 146,-187 140,-181 140,-175 140,-175 140,-116 140,-116 140,-110 146,-104 152,-104 152,-104 310,-104 310,-104 316,-104 322,-110 322,-116 322,-116 322,-175 322,-175 322,-181 316,-187 310,-187\"/>\n",
              "<text text-anchor=\"middle\" x=\"231\" y=\"-171.8\" font-family=\"Helvetica,sans-Serif\" font-size=\"14.00\">km_por_ano &lt;= 6426.899</text>\n",
              "<text text-anchor=\"middle\" x=\"231\" y=\"-156.8\" font-family=\"Helvetica,sans-Serif\" font-size=\"14.00\">gini = 0.325</text>\n",
              "<text text-anchor=\"middle\" x=\"231\" y=\"-141.8\" font-family=\"Helvetica,sans-Serif\" font-size=\"14.00\">samples = 1814</text>\n",
              "<text text-anchor=\"middle\" x=\"231\" y=\"-126.8\" font-family=\"Helvetica,sans-Serif\" font-size=\"14.00\">value = [370, 1444]</text>\n",
              "<text text-anchor=\"middle\" x=\"231\" y=\"-111.8\" font-family=\"Helvetica,sans-Serif\" font-size=\"14.00\">class = Sí</text>\n",
              "</g>\n",
              "<!-- 1&#45;&gt;3 -->\n",
              "<g id=\"edge3\" class=\"edge\">\n",
              "<title>1&#45;&gt;3</title>\n",
              "<path fill=\"none\" stroke=\"black\" d=\"M231,-222.91C231,-214.65 231,-205.86 231,-197.3\"/>\n",
              "<polygon fill=\"black\" stroke=\"black\" points=\"234.5,-197.02 231,-187.02 227.5,-197.02 234.5,-197.02\"/>\n",
              "</g>\n",
              "<!-- 4 -->\n",
              "<g id=\"node5\" class=\"node\">\n",
              "<title>4</title>\n",
              "<path fill=\"#e58139\" stroke=\"black\" d=\"M131.5,-68C131.5,-68 58.5,-68 58.5,-68 52.5,-68 46.5,-62 46.5,-56 46.5,-56 46.5,-12 46.5,-12 46.5,-6 52.5,0 58.5,0 58.5,0 131.5,0 131.5,0 137.5,0 143.5,-6 143.5,-12 143.5,-12 143.5,-56 143.5,-56 143.5,-62 137.5,-68 131.5,-68\"/>\n",
              "<text text-anchor=\"middle\" x=\"95\" y=\"-52.8\" font-family=\"Helvetica,sans-Serif\" font-size=\"14.00\">gini = 0.0</text>\n",
              "<text text-anchor=\"middle\" x=\"95\" y=\"-37.8\" font-family=\"Helvetica,sans-Serif\" font-size=\"14.00\">samples = 3</text>\n",
              "<text text-anchor=\"middle\" x=\"95\" y=\"-22.8\" font-family=\"Helvetica,sans-Serif\" font-size=\"14.00\">value = [3, 0]</text>\n",
              "<text text-anchor=\"middle\" x=\"95\" y=\"-7.8\" font-family=\"Helvetica,sans-Serif\" font-size=\"14.00\">class = No</text>\n",
              "</g>\n",
              "<!-- 3&#45;&gt;4 -->\n",
              "<g id=\"edge4\" class=\"edge\">\n",
              "<title>3&#45;&gt;4</title>\n",
              "<path fill=\"none\" stroke=\"black\" d=\"M180.36,-103.73C168.58,-94.24 156.05,-84.16 144.33,-74.72\"/>\n",
              "<polygon fill=\"black\" stroke=\"black\" points=\"146.34,-71.84 136.36,-68.3 141.95,-77.3 146.34,-71.84\"/>\n",
              "</g>\n",
              "<!-- 5 -->\n",
              "<g id=\"node6\" class=\"node\">\n",
              "<title>5</title>\n",
              "<path fill=\"#6bb6ec\" stroke=\"black\" d=\"M288,-68C288,-68 174,-68 174,-68 168,-68 162,-62 162,-56 162,-56 162,-12 162,-12 162,-6 168,0 174,0 174,0 288,0 288,0 294,0 300,-6 300,-12 300,-12 300,-56 300,-56 300,-62 294,-68 288,-68\"/>\n",
              "<text text-anchor=\"middle\" x=\"231\" y=\"-52.8\" font-family=\"Helvetica,sans-Serif\" font-size=\"14.00\">gini = 0.323</text>\n",
              "<text text-anchor=\"middle\" x=\"231\" y=\"-37.8\" font-family=\"Helvetica,sans-Serif\" font-size=\"14.00\">samples = 1811</text>\n",
              "<text text-anchor=\"middle\" x=\"231\" y=\"-22.8\" font-family=\"Helvetica,sans-Serif\" font-size=\"14.00\">value = [367, 1444]</text>\n",
              "<text text-anchor=\"middle\" x=\"231\" y=\"-7.8\" font-family=\"Helvetica,sans-Serif\" font-size=\"14.00\">class = Sí</text>\n",
              "</g>\n",
              "<!-- 3&#45;&gt;5 -->\n",
              "<g id=\"edge5\" class=\"edge\">\n",
              "<title>3&#45;&gt;5</title>\n",
              "<path fill=\"none\" stroke=\"black\" d=\"M231,-103.73C231,-95.52 231,-86.86 231,-78.56\"/>\n",
              "<polygon fill=\"black\" stroke=\"black\" points=\"234.5,-78.3 231,-68.3 227.5,-78.3 234.5,-78.3\"/>\n",
              "</g>\n",
              "<!-- 7 -->\n",
              "<g id=\"node8\" class=\"node\">\n",
              "<title>7</title>\n",
              "<path fill=\"#fbede2\" stroke=\"black\" d=\"M532,-187C532,-187 398,-187 398,-187 392,-187 386,-181 386,-175 386,-175 386,-116 386,-116 386,-110 392,-104 398,-104 398,-104 532,-104 532,-104 538,-104 544,-110 544,-116 544,-116 544,-175 544,-175 544,-181 538,-187 532,-187\"/>\n",
              "<text text-anchor=\"middle\" x=\"465\" y=\"-171.8\" font-family=\"Helvetica,sans-Serif\" font-size=\"14.00\">precio &lt;= 100058.801</text>\n",
              "<text text-anchor=\"middle\" x=\"465\" y=\"-156.8\" font-family=\"Helvetica,sans-Serif\" font-size=\"14.00\">gini = 0.497</text>\n",
              "<text text-anchor=\"middle\" x=\"465\" y=\"-141.8\" font-family=\"Helvetica,sans-Serif\" font-size=\"14.00\">samples = 2629</text>\n",
              "<text text-anchor=\"middle\" x=\"465\" y=\"-126.8\" font-family=\"Helvetica,sans-Serif\" font-size=\"14.00\">value = [1418, 1211]</text>\n",
              "<text text-anchor=\"middle\" x=\"465\" y=\"-111.8\" font-family=\"Helvetica,sans-Serif\" font-size=\"14.00\">class = No</text>\n",
              "</g>\n",
              "<!-- 6&#45;&gt;7 -->\n",
              "<g id=\"edge7\" class=\"edge\">\n",
              "<title>6&#45;&gt;7</title>\n",
              "<path fill=\"none\" stroke=\"black\" d=\"M465,-222.91C465,-214.65 465,-205.86 465,-197.3\"/>\n",
              "<polygon fill=\"black\" stroke=\"black\" points=\"468.5,-197.02 465,-187.02 461.5,-197.02 468.5,-197.02\"/>\n",
              "</g>\n",
              "<!-- 10 -->\n",
              "<g id=\"node11\" class=\"node\">\n",
              "<title>10</title>\n",
              "<path fill=\"#e99559\" stroke=\"black\" d=\"M754,-187C754,-187 620,-187 620,-187 614,-187 608,-181 608,-175 608,-175 608,-116 608,-116 608,-110 614,-104 620,-104 620,-104 754,-104 754,-104 760,-104 766,-110 766,-116 766,-116 766,-175 766,-175 766,-181 760,-187 754,-187\"/>\n",
              "<text text-anchor=\"middle\" x=\"687\" y=\"-171.8\" font-family=\"Helvetica,sans-Serif\" font-size=\"14.00\">precio &lt;= 100076.957</text>\n",
              "<text text-anchor=\"middle\" x=\"687\" y=\"-156.8\" font-family=\"Helvetica,sans-Serif\" font-size=\"14.00\">gini = 0.239</text>\n",
              "<text text-anchor=\"middle\" x=\"687\" y=\"-141.8\" font-family=\"Helvetica,sans-Serif\" font-size=\"14.00\">samples = 1581</text>\n",
              "<text text-anchor=\"middle\" x=\"687\" y=\"-126.8\" font-family=\"Helvetica,sans-Serif\" font-size=\"14.00\">value = [1362, 219]</text>\n",
              "<text text-anchor=\"middle\" x=\"687\" y=\"-111.8\" font-family=\"Helvetica,sans-Serif\" font-size=\"14.00\">class = No</text>\n",
              "</g>\n",
              "<!-- 6&#45;&gt;10 -->\n",
              "<g id=\"edge10\" class=\"edge\">\n",
              "<title>6&#45;&gt;10</title>\n",
              "<path fill=\"none\" stroke=\"black\" d=\"M542.02,-222.91C561.14,-212.83 581.74,-201.98 601.24,-191.7\"/>\n",
              "<polygon fill=\"black\" stroke=\"black\" points=\"602.9,-194.78 610.11,-187.02 599.64,-188.59 602.9,-194.78\"/>\n",
              "</g>\n",
              "<!-- 8 -->\n",
              "<g id=\"node9\" class=\"node\">\n",
              "<title>8</title>\n",
              "<path fill=\"#f8decb\" stroke=\"black\" d=\"M444,-68C444,-68 330,-68 330,-68 324,-68 318,-62 318,-56 318,-56 318,-12 318,-12 318,-6 324,0 330,0 330,0 444,0 444,0 450,0 456,-6 456,-12 456,-12 456,-56 456,-56 456,-62 450,-68 444,-68\"/>\n",
              "<text text-anchor=\"middle\" x=\"387\" y=\"-52.8\" font-family=\"Helvetica,sans-Serif\" font-size=\"14.00\">gini = 0.488</text>\n",
              "<text text-anchor=\"middle\" x=\"387\" y=\"-37.8\" font-family=\"Helvetica,sans-Serif\" font-size=\"14.00\">samples = 2217</text>\n",
              "<text text-anchor=\"middle\" x=\"387\" y=\"-22.8\" font-family=\"Helvetica,sans-Serif\" font-size=\"14.00\">value = [1277, 940]</text>\n",
              "<text text-anchor=\"middle\" x=\"387\" y=\"-7.8\" font-family=\"Helvetica,sans-Serif\" font-size=\"14.00\">class = No</text>\n",
              "</g>\n",
              "<!-- 7&#45;&gt;8 -->\n",
              "<g id=\"edge8\" class=\"edge\">\n",
              "<title>7&#45;&gt;8</title>\n",
              "<path fill=\"none\" stroke=\"black\" d=\"M435.96,-103.73C429.65,-94.88 422.98,-85.51 416.65,-76.63\"/>\n",
              "<polygon fill=\"black\" stroke=\"black\" points=\"419.37,-74.41 410.72,-68.3 413.67,-78.48 419.37,-74.41\"/>\n",
              "</g>\n",
              "<!-- 9 -->\n",
              "<g id=\"node10\" class=\"node\">\n",
              "<title>9</title>\n",
              "<path fill=\"#a0d0f3\" stroke=\"black\" d=\"M592,-68C592,-68 486,-68 486,-68 480,-68 474,-62 474,-56 474,-56 474,-12 474,-12 474,-6 480,0 486,0 486,0 592,0 592,0 598,0 604,-6 604,-12 604,-12 604,-56 604,-56 604,-62 598,-68 592,-68\"/>\n",
              "<text text-anchor=\"middle\" x=\"539\" y=\"-52.8\" font-family=\"Helvetica,sans-Serif\" font-size=\"14.00\">gini = 0.45</text>\n",
              "<text text-anchor=\"middle\" x=\"539\" y=\"-37.8\" font-family=\"Helvetica,sans-Serif\" font-size=\"14.00\">samples = 412</text>\n",
              "<text text-anchor=\"middle\" x=\"539\" y=\"-22.8\" font-family=\"Helvetica,sans-Serif\" font-size=\"14.00\">value = [141, 271]</text>\n",
              "<text text-anchor=\"middle\" x=\"539\" y=\"-7.8\" font-family=\"Helvetica,sans-Serif\" font-size=\"14.00\">class = Sí</text>\n",
              "</g>\n",
              "<!-- 7&#45;&gt;9 -->\n",
              "<g id=\"edge9\" class=\"edge\">\n",
              "<title>7&#45;&gt;9</title>\n",
              "<path fill=\"none\" stroke=\"black\" d=\"M492.55,-103.73C498.53,-94.88 504.87,-85.51 510.87,-76.63\"/>\n",
              "<polygon fill=\"black\" stroke=\"black\" points=\"513.8,-78.54 516.5,-68.3 508,-74.63 513.8,-78.54\"/>\n",
              "</g>\n",
              "<!-- 11 -->\n",
              "<g id=\"node12\" class=\"node\">\n",
              "<title>11</title>\n",
              "<path fill=\"#e68641\" stroke=\"black\" d=\"M740,-68C740,-68 634,-68 634,-68 628,-68 622,-62 622,-56 622,-56 622,-12 622,-12 622,-6 628,0 634,0 634,0 740,0 740,0 746,0 752,-6 752,-12 752,-12 752,-56 752,-56 752,-62 746,-68 740,-68\"/>\n",
              "<text text-anchor=\"middle\" x=\"687\" y=\"-52.8\" font-family=\"Helvetica,sans-Serif\" font-size=\"14.00\">gini = 0.074</text>\n",
              "<text text-anchor=\"middle\" x=\"687\" y=\"-37.8\" font-family=\"Helvetica,sans-Serif\" font-size=\"14.00\">samples = 1334</text>\n",
              "<text text-anchor=\"middle\" x=\"687\" y=\"-22.8\" font-family=\"Helvetica,sans-Serif\" font-size=\"14.00\">value = [1283, 51]</text>\n",
              "<text text-anchor=\"middle\" x=\"687\" y=\"-7.8\" font-family=\"Helvetica,sans-Serif\" font-size=\"14.00\">class = No</text>\n",
              "</g>\n",
              "<!-- 10&#45;&gt;11 -->\n",
              "<g id=\"edge11\" class=\"edge\">\n",
              "<title>10&#45;&gt;11</title>\n",
              "<path fill=\"none\" stroke=\"black\" d=\"M687,-103.73C687,-95.52 687,-86.86 687,-78.56\"/>\n",
              "<polygon fill=\"black\" stroke=\"black\" points=\"690.5,-78.3 687,-68.3 683.5,-78.3 690.5,-78.3\"/>\n",
              "</g>\n",
              "<!-- 12 -->\n",
              "<g id=\"node13\" class=\"node\">\n",
              "<title>12</title>\n",
              "<path fill=\"#96cbf1\" stroke=\"black\" d=\"M880,-68C880,-68 782,-68 782,-68 776,-68 770,-62 770,-56 770,-56 770,-12 770,-12 770,-6 776,0 782,0 782,0 880,0 880,0 886,0 892,-6 892,-12 892,-12 892,-56 892,-56 892,-62 886,-68 880,-68\"/>\n",
              "<text text-anchor=\"middle\" x=\"831\" y=\"-52.8\" font-family=\"Helvetica,sans-Serif\" font-size=\"14.00\">gini = 0.435</text>\n",
              "<text text-anchor=\"middle\" x=\"831\" y=\"-37.8\" font-family=\"Helvetica,sans-Serif\" font-size=\"14.00\">samples = 247</text>\n",
              "<text text-anchor=\"middle\" x=\"831\" y=\"-22.8\" font-family=\"Helvetica,sans-Serif\" font-size=\"14.00\">value = [79, 168]</text>\n",
              "<text text-anchor=\"middle\" x=\"831\" y=\"-7.8\" font-family=\"Helvetica,sans-Serif\" font-size=\"14.00\">class = Sí</text>\n",
              "</g>\n",
              "<!-- 10&#45;&gt;12 -->\n",
              "<g id=\"edge12\" class=\"edge\">\n",
              "<title>10&#45;&gt;12</title>\n",
              "<path fill=\"none\" stroke=\"black\" d=\"M740.62,-103.73C753.21,-94.15 766.61,-83.96 779.13,-74.44\"/>\n",
              "<polygon fill=\"black\" stroke=\"black\" points=\"781.37,-77.14 787.21,-68.3 777.13,-71.57 781.37,-77.14\"/>\n",
              "</g>\n",
              "</g>\n",
              "</svg>\n"
            ],
            "text/plain": [
              "<graphviz.sources.Source at 0x2272b12a990>"
            ]
          },
          "execution_count": 12,
          "metadata": {},
          "output_type": "execute_result"
        }
      ],
      "source": [
        "from sklearn.tree import export_graphviz\n",
        "import graphviz\n",
        "#pip install --upgrade graphviz\n",
        "\n",
        "features = x.columns\n",
        "dot_data = export_graphviz(model, feature_names=features, filled=True, rounded=True, class_names=['No','Sí'])\n",
        "grafico = graphviz.Source(dot_data)\n",
        "grafico"
      ]
    },
    {
      "cell_type": "code",
      "execution_count": null,
      "metadata": {},
      "outputs": [],
      "source": []
    }
  ],
  "metadata": {
    "colab": {
      "authorship_tag": "ABX9TyPX/SnHuQHIcsRs6FX/GPbh",
      "include_colab_link": true,
      "name": "ML_clasificacion_con_SKLearn.ipynb",
      "provenance": []
    },
    "kernelspec": {
      "display_name": "Python 3",
      "name": "python3"
    },
    "language_info": {
      "codemirror_mode": {
        "name": "ipython",
        "version": 3
      },
      "file_extension": ".py",
      "mimetype": "text/x-python",
      "name": "python",
      "nbconvert_exporter": "python",
      "pygments_lexer": "ipython3",
      "version": "3.11.3"
    }
  },
  "nbformat": 4,
  "nbformat_minor": 0
}
