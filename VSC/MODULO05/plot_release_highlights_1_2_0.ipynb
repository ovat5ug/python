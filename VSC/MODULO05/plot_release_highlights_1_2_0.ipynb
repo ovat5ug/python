{
  "cells": [
    {
      "cell_type": "code",
      "execution_count": null,
      "metadata": {
        "collapsed": false
      },
      "outputs": [],
      "source": [
        "%matplotlib inline"
      ]
    },
    {
      "attachments": {},
      "cell_type": "markdown",
      "metadata": {},
      "source": [
        "# Aspectos destacados de la versión para \n",
        "# scikit-learn 1.2\n",
        "\n",
        "Traducido al ESP por: [Luis Pérez](http://OVAT5UG.github.io/)| Abril 10, 2023\n",
        "\n",
        ".. módulo actual:: sklearn\n",
        "\n",
        "¡Nos complace anunciar el lanzamiento de scikit-learn 1.2! Muchas correcciones de errores\n",
        "y se agregaron mejoras, así como algunas características clave nuevas. detallamos\n",
        "a continuación algunas de las características principales de esta versión. **Para obtener una lista exhaustiva de\n",
        "todos los cambios**, consulte las `notas de la versión <cambios_1_2>`.\n",
        "\n",
        "Para instalar la última versión (with pip)::\n",
        "\n",
        "    pip install --upgrade scikit-learn\n",
        "\n",
        "or with conda::\n",
        "\n",
        "    conda install -c conda-forge scikit-learn\n"
      ]
    },
    {
      "attachments": {},
      "cell_type": "markdown",
      "metadata": {},
      "source": [
        "## Salida de Pandas con la API `set_output`\n",
        "Los transformadores de scikit-learn ahora admiten la salida de pandas con la API `set_output`.\n",
        "Para obtener más información sobre la API `set_output`, consulte el ejemplo:\n",
        "`sphx_glr_auto_examples_miscellaneous_plot_set_output.py` y\n",
        "# este [video, salida de pandas DataFrame para transformadores scikit-learn\n",
        "(algunos ejemplos)](https://youtu.be/5bCg8VfX2x8)_.\n"
      ]
    },
    {
      "cell_type": "code",
      "execution_count": null,
      "metadata": {
        "collapsed": false
      },
      "outputs": [],
      "source": [
        "import numpy as np\n",
        "from sklearn.datasets import load_iris\n",
        "from sklearn.preprocessing import StandardScaler, KBinsDiscretizer\n",
        "from sklearn.compose import ColumnTransformer\n",
        "\n",
        "X, y = load_iris(as_frame=True, return_X_y=True)\n",
        "sepal_cols = [\"sepal length (cm)\", \"sepal width (cm)\"]\n",
        "petal_cols = [\"petal length (cm)\", \"petal width (cm)\"]\n",
        "\n",
        "preprocessor = ColumnTransformer(\n",
        "    [\n",
        "        (\"scaler\", StandardScaler(), sepal_cols),\n",
        "        (\"kbin\", KBinsDiscretizer(encode=\"ordinal\"), petal_cols),\n",
        "    ],\n",
        "    verbose_feature_names_out=False,\n",
        ").set_output(transform=\"pandas\")\n",
        "\n",
        "X_out = preprocessor.fit_transform(X)\n",
        "X_out.sample(n=5, random_state=0)"
      ]
    },
    {
      "attachments": {},
      "cell_type": "markdown",
      "metadata": {},
      "source": [
        "## Restricciones de interacción en árboles potenciadores de gradiente basados ​​en histogramas\n",
        ":class:`~ensemble.HistGradientBoostingRegressor` y\n",
        ":class:`~ensemble.HistGradientBoostingClassifier` ahora admite restricciones de interacción\n",
        "con el parámetro `interaction_cst`. Para más detalles, consulte el\n",
        "`Guía del usuario <interaction_cst_hgbt>`. En el siguiente ejemplo, las características no son\n",
        "permitido interactuar.\n",
        "\n"
      ]
    },
    {
      "cell_type": "code",
      "execution_count": null,
      "metadata": {
        "collapsed": false
      },
      "outputs": [],
      "source": [
        "from sklearn.datasets import load_diabetes\n",
        "from sklearn.ensemble import HistGradientBoostingRegressor\n",
        "\n",
        "X, y = load_diabetes(return_X_y=True, as_frame=True)\n",
        "\n",
        "hist_no_interact = HistGradientBoostingRegressor(\n",
        "    interaction_cst=[[i] for i in range(X.shape[1])], random_state=0\n",
        ")\n",
        "hist_no_interact.fit(X, y)"
      ]
    },
    {
      "attachments": {},
      "cell_type": "markdown",
      "metadata": {},
      "source": [
        "## Pantallas nuevas y mejoradas\n",
        ":class:`~metrics.PredictionErrorDisplay` proporciona una forma de analizar la regresión\n",
        "modelos de manera cualitativa.\n",
        "\n"
      ]
    },
    {
      "cell_type": "code",
      "execution_count": null,
      "metadata": {
        "collapsed": false
      },
      "outputs": [],
      "source": [
        "import matplotlib.pyplot as plt\n",
        "from sklearn.metrics import PredictionErrorDisplay\n",
        "\n",
        "fig, axs = plt.subplots(nrows=1, ncols=2, figsize=(12, 5))\n",
        "_ = PredictionErrorDisplay.from_estimator(\n",
        "    hist_no_interact, X, y, kind=\"actual_vs_predicted\", ax=axs[0]\n",
        ")\n",
        "_ = PredictionErrorDisplay.from_estimator(\n",
        "    hist_no_interact, X, y, kind=\"residual_vs_predicted\", ax=axs[1]\n",
        ")"
      ]
    },
    {
      "attachments": {},
      "cell_type": "markdown",
      "metadata": {},
      "source": [
        ":class:`~model_selection.LearningCurveDisplay` ahora está disponible para trazar\n",
        "resultados de :func:`~model_selection.learning_curve`.\n",
        "\n"
      ]
    },
    {
      "cell_type": "code",
      "execution_count": null,
      "metadata": {
        "collapsed": false
      },
      "outputs": [],
      "source": [
        "from sklearn.model_selection import LearningCurveDisplay\n",
        "\n",
        "_ = LearningCurveDisplay.from_estimator(\n",
        "    hist_no_interact, X, y, cv=5, n_jobs=2, train_sizes=np.linspace(0.1, 1, 5)\n",
        ")"
      ]
    },
    {
      "attachments": {},
      "cell_type": "markdown",
      "metadata": {},
      "source": [
        ":class:`~inspection.PartialDependenceDisplay` expone un nuevo parámetro\n",
        "`categorical_features` para mostrar la dependencia parcial de las características categóricas\n",
        "utilizando diagramas de barras y mapas de calor.\n",
        "\n"
      ]
    },
    {
      "cell_type": "code",
      "execution_count": null,
      "metadata": {
        "collapsed": false
      },
      "outputs": [],
      "source": [
        "from sklearn.datasets import fetch_openml\n",
        "\n",
        "X, y = fetch_openml(\n",
        "    \"titanic\", version=1, as_frame=True, return_X_y=True, parser=\"pandas\"\n",
        ")\n",
        "X = X.select_dtypes([\"number\", \"category\"]).drop(columns=[\"body\"])"
      ]
    },
    {
      "cell_type": "code",
      "execution_count": null,
      "metadata": {
        "collapsed": false
      },
      "outputs": [],
      "source": [
        "from sklearn.preprocessing import OrdinalEncoder\n",
        "from sklearn.pipeline import make_pipeline\n",
        "\n",
        "categorical_features = [\"pclass\", \"sex\", \"embarked\"]\n",
        "model = make_pipeline(\n",
        "    ColumnTransformer(\n",
        "        transformers=[(\"cat\", OrdinalEncoder(), categorical_features)],\n",
        "        remainder=\"passthrough\",\n",
        "    ),\n",
        "    HistGradientBoostingRegressor(random_state=0),\n",
        ").fit(X, y)"
      ]
    },
    {
      "cell_type": "code",
      "execution_count": null,
      "metadata": {
        "collapsed": false
      },
      "outputs": [],
      "source": [
        "from sklearn.inspection import PartialDependenceDisplay\n",
        "\n",
        "fig, ax = plt.subplots(figsize=(14, 4), constrained_layout=True)\n",
        "_ = PartialDependenceDisplay.from_estimator(\n",
        "    model,\n",
        "    X,\n",
        "    features=[\"age\", \"sex\", (\"pclass\", \"sex\")],\n",
        "    categorical_features=categorical_features,\n",
        "    ax=ax,\n",
        ")"
      ]
    },
    {
      "attachments": {},
      "cell_type": "markdown",
      "metadata": {},
      "source": [
        "## Analizador más rápido en :func:`~datasets.fetch_openml`\n",
        ":func:`~datasets.fetch_openml` ahora admite un nuevo analizador `\"pandas\"` que es\n",
        "más memoria y CPU eficiente. En v1.4, el valor predeterminado cambiará a\n",
        "`parser=\"auto\"` que usará automáticamente el analizador `\"pandas\"` para datos densos\n",
        "data y `\"liac-arff\"` para datos dispersos.\n",
        "\n"
      ]
    },
    {
      "cell_type": "code",
      "execution_count": null,
      "metadata": {
        "collapsed": false
      },
      "outputs": [],
      "source": [
        "X, y = fetch_openml(\n",
        "    \"titanic\", version=1, as_frame=True, return_X_y=True, parser=\"pandas\"\n",
        ")\n",
        "X.head()"
      ]
    },
    {
      "attachments": {},
      "cell_type": "markdown",
      "metadata": {},
      "source": [
        "## Compatibilidad con API de matriz experimental en :class:`~discriminant_analysis.LinearDiscriminantAnalysis`\n",
        "Soporte experimental para [Array API](https://data-apis.org/array-api/latest/)\n",
        "se agregó la especificación a :class:`~discriminant_analysis.LinearDiscriminantAnalysis`.\n",
        "El estimador ahora puede ejecutarse en cualquier biblioteca compatible con Array API, como\n",
        "[CuPy](https://docs.cupy.dev/en/stable/overview.html)_, una matriz acelerada por GPU\n",
        "biblioteca. Para obtener más información, consulte la `Guía del usuario <array_api>`.\n",
        "\n"
      ]
    },
    {
      "attachments": {},
      "cell_type": "markdown",
      "metadata": {},
      "source": [
        "## Eficiencia mejorada de muchos estimadores\n",
        "En la versión 1.1, la eficiencia de muchos estimadores que se basan en el cálculo de\n",
        "distancias por pares (esencialmente estimadores relacionados con la agrupación, múltiples\n",
        "aprendizaje y algoritmos de búsqueda de vecinos) se mejoró mucho para float64\n",
        "entrada densa. La mejora de la eficiencia fue especialmente una huella de memoria reducida\n",
        "y una escalabilidad mucho mejor en máquinas multinúcleo.\n",
        "En la versión 1.2, la eficiencia de estos estimadores se mejoró aún más para todos\n",
        "combinaciones de entradas densas y dispersas en conjuntos de datos float32 y float64, excepto\n",
        "las combinaciones escaso-denso y denso-escaso para el euclidiano y el cuadrado\n",
        "Métricas de distancia euclidiana.\n",
        "Puede encontrar una lista detallada de los estimadores afectados en el\n",
        "`registro de cambios <cambios_1_2>`.\n",
        "\n"
      ]
    }
  ],
  "metadata": {
    "kernelspec": {
      "display_name": "Python 3",
      "language": "python",
      "name": "python3"
    },
    "language_info": {
      "codemirror_mode": {
        "name": "ipython",
        "version": 3
      },
      "file_extension": ".py",
      "mimetype": "text/x-python",
      "name": "python",
      "nbconvert_exporter": "python",
      "pygments_lexer": "ipython3",
      "version": "3.9.15"
    }
  },
  "nbformat": 4,
  "nbformat_minor": 0
}
