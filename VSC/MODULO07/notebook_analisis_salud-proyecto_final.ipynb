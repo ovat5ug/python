{
 "cells": [
  {
   "cell_type": "markdown",
   "id": "93722dd9",
   "metadata": {},
   "source": [
    "### OCI Data Science - Useful Tips\n",
    "<details>\n",
    "<summary><font size=\"2\">Check for Public Internet Access</font></summary>\n",
    "\n",
    "```python\n",
    "import requests\n",
    "response = requests.get(\"https://oracle.com\")\n",
    "assert response.status_code==200, \"Internet connection failed\"\n",
    "```\n",
    "</details>\n",
    "<details>\n",
    "<summary><font size=\"2\">Helpful Documentation </font></summary>\n",
    "<ul><li><a href=\"https://docs.cloud.oracle.com/en-us/iaas/data-science/using/data-science.htm\">Data Science Service Documentation</a></li>\n",
    "<li><a href=\"https://docs.cloud.oracle.com/iaas/tools/ads-sdk/latest/index.html\">ADS documentation</a></li>\n",
    "</ul>\n",
    "</details>\n",
    "<details>\n",
    "<summary><font size=\"2\">Typical Cell Imports and Settings for ADS</font></summary>\n",
    "\n",
    "```python\n",
    "%load_ext autoreload\n",
    "%autoreload 2\n",
    "%matplotlib inline\n",
    "\n",
    "import warnings\n",
    "warnings.filterwarnings('ignore')\n",
    "\n",
    "import logging\n",
    "logging.basicConfig(format='%(levelname)s:%(message)s', level=logging.ERROR)\n",
    "\n",
    "import ads\n",
    "from ads.dataset.factory import DatasetFactory\n",
    "from ads.automl.provider import OracleAutoMLProvider\n",
    "from ads.automl.driver import AutoML\n",
    "from ads.evaluations.evaluator import ADSEvaluator\n",
    "from ads.common.data import ADSData\n",
    "from ads.explanations.explainer import ADSExplainer\n",
    "from ads.explanations.mlx_global_explainer import MLXGlobalExplainer\n",
    "from ads.explanations.mlx_local_explainer import MLXLocalExplainer\n",
    "from ads.catalog.model import ModelCatalog\n",
    "from ads.common.model_artifact import ModelArtifact\n",
    "```\n",
    "</details>\n",
    "<details>\n",
    "<summary><font size=\"2\">Useful Environment Variables</font></summary>\n",
    "\n",
    "```python\n",
    "import os\n",
    "print(os.environ[\"NB_SESSION_COMPARTMENT_OCID\"])\n",
    "print(os.environ[\"PROJECT_OCID\"])\n",
    "print(os.environ[\"USER_OCID\"])\n",
    "print(os.environ[\"TENANCY_OCID\"])\n",
    "print(os.environ[\"NB_REGION\"])\n",
    "```\n",
    "</details>"
   ]
  },
  {
   "cell_type": "markdown",
   "id": "ab34dfb0",
   "metadata": {},
   "source": [
    "## Aula 1"
   ]
  },
  {
   "cell_type": "markdown",
   "id": "df4f1a24",
   "metadata": {},
   "source": [
    "### 1.5 Versión de las bibliotecas"
   ]
  },
  {
   "cell_type": "code",
   "execution_count": 2,
   "id": "9d271ee4",
   "metadata": {},
   "outputs": [],
   "source": [
    "#import ads# advance data sciense libreria para oracle cloud para data science\n",
    "import pandas as pd"
   ]
  },
  {
   "cell_type": "code",
   "execution_count": 2,
   "id": "1d0bfc8d",
   "metadata": {},
   "outputs": [
    {
     "data": {
      "text/plain": [
       "'2.5.4'"
      ]
     },
     "execution_count": 2,
     "metadata": {},
     "output_type": "execute_result"
    }
   ],
   "source": [
    "#ads.__version__"
   ]
  },
  {
   "cell_type": "code",
   "execution_count": 3,
   "id": "7bb64867",
   "metadata": {},
   "outputs": [
    {
     "data": {
      "text/plain": [
       "'2.0.0'"
      ]
     },
     "execution_count": 3,
     "metadata": {},
     "output_type": "execute_result"
    }
   ],
   "source": [
    "pd.__version__"
   ]
  },
  {
   "cell_type": "markdown",
   "id": "987be44e",
   "metadata": {},
   "source": [
    "## Aula 2"
   ]
  },
  {
   "cell_type": "markdown",
   "id": "f63aea0f",
   "metadata": {},
   "source": [
    "### 2.1 Archivos Externos"
   ]
  },
  {
   "cell_type": "code",
   "execution_count": 4,
   "id": "d4f4fcce",
   "metadata": {},
   "outputs": [
    {
     "data": {
      "text/html": [
       "<div>\n",
       "<style scoped>\n",
       "    .dataframe tbody tr th:only-of-type {\n",
       "        vertical-align: middle;\n",
       "    }\n",
       "\n",
       "    .dataframe tbody tr th {\n",
       "        vertical-align: top;\n",
       "    }\n",
       "\n",
       "    .dataframe thead th {\n",
       "        text-align: right;\n",
       "    }\n",
       "</style>\n",
       "<table border=\"1\" class=\"dataframe\">\n",
       "  <thead>\n",
       "    <tr style=\"text-align: right;\">\n",
       "      <th></th>\n",
       "      <th>male</th>\n",
       "      <th>age</th>\n",
       "      <th>education</th>\n",
       "      <th>currentSmoker</th>\n",
       "      <th>cigsPerDay</th>\n",
       "      <th>BPMeds</th>\n",
       "      <th>prevalentStroke</th>\n",
       "      <th>prevalentHyp</th>\n",
       "      <th>diabetes</th>\n",
       "      <th>totChol</th>\n",
       "      <th>sysBP</th>\n",
       "      <th>diaBP</th>\n",
       "      <th>BMI</th>\n",
       "      <th>heartRate</th>\n",
       "      <th>glucose</th>\n",
       "      <th>TenYearCHD</th>\n",
       "    </tr>\n",
       "  </thead>\n",
       "  <tbody>\n",
       "    <tr>\n",
       "      <th>1254</th>\n",
       "      <td>0</td>\n",
       "      <td>47</td>\n",
       "      <td>1.0</td>\n",
       "      <td>1</td>\n",
       "      <td>15.0</td>\n",
       "      <td>0.0</td>\n",
       "      <td>0</td>\n",
       "      <td>0</td>\n",
       "      <td>0</td>\n",
       "      <td>285.0</td>\n",
       "      <td>122.0</td>\n",
       "      <td>70.0</td>\n",
       "      <td>23.48</td>\n",
       "      <td>83.0</td>\n",
       "      <td>82.0</td>\n",
       "      <td>0</td>\n",
       "    </tr>\n",
       "    <tr>\n",
       "      <th>3883</th>\n",
       "      <td>0</td>\n",
       "      <td>58</td>\n",
       "      <td>2.0</td>\n",
       "      <td>0</td>\n",
       "      <td>0.0</td>\n",
       "      <td>0.0</td>\n",
       "      <td>0</td>\n",
       "      <td>1</td>\n",
       "      <td>0</td>\n",
       "      <td>345.0</td>\n",
       "      <td>188.0</td>\n",
       "      <td>102.0</td>\n",
       "      <td>28.89</td>\n",
       "      <td>95.0</td>\n",
       "      <td>NaN</td>\n",
       "      <td>0</td>\n",
       "    </tr>\n",
       "    <tr>\n",
       "      <th>2085</th>\n",
       "      <td>0</td>\n",
       "      <td>46</td>\n",
       "      <td>1.0</td>\n",
       "      <td>1</td>\n",
       "      <td>20.0</td>\n",
       "      <td>0.0</td>\n",
       "      <td>0</td>\n",
       "      <td>0</td>\n",
       "      <td>0</td>\n",
       "      <td>185.0</td>\n",
       "      <td>137.0</td>\n",
       "      <td>90.0</td>\n",
       "      <td>25.20</td>\n",
       "      <td>82.0</td>\n",
       "      <td>NaN</td>\n",
       "      <td>0</td>\n",
       "    </tr>\n",
       "    <tr>\n",
       "      <th>547</th>\n",
       "      <td>0</td>\n",
       "      <td>43</td>\n",
       "      <td>1.0</td>\n",
       "      <td>0</td>\n",
       "      <td>0.0</td>\n",
       "      <td>0.0</td>\n",
       "      <td>0</td>\n",
       "      <td>0</td>\n",
       "      <td>0</td>\n",
       "      <td>145.0</td>\n",
       "      <td>112.0</td>\n",
       "      <td>83.0</td>\n",
       "      <td>22.36</td>\n",
       "      <td>90.0</td>\n",
       "      <td>70.0</td>\n",
       "      <td>0</td>\n",
       "    </tr>\n",
       "    <tr>\n",
       "      <th>2070</th>\n",
       "      <td>0</td>\n",
       "      <td>35</td>\n",
       "      <td>2.0</td>\n",
       "      <td>0</td>\n",
       "      <td>0.0</td>\n",
       "      <td>0.0</td>\n",
       "      <td>0</td>\n",
       "      <td>0</td>\n",
       "      <td>0</td>\n",
       "      <td>165.0</td>\n",
       "      <td>117.5</td>\n",
       "      <td>72.5</td>\n",
       "      <td>27.86</td>\n",
       "      <td>63.0</td>\n",
       "      <td>67.0</td>\n",
       "      <td>0</td>\n",
       "    </tr>\n",
       "  </tbody>\n",
       "</table>\n",
       "</div>"
      ],
      "text/plain": [
       "      male  age  education  currentSmoker  cigsPerDay  BPMeds   \n",
       "1254     0   47        1.0              1        15.0     0.0  \\\n",
       "3883     0   58        2.0              0         0.0     0.0   \n",
       "2085     0   46        1.0              1        20.0     0.0   \n",
       "547      0   43        1.0              0         0.0     0.0   \n",
       "2070     0   35        2.0              0         0.0     0.0   \n",
       "\n",
       "      prevalentStroke  prevalentHyp  diabetes  totChol  sysBP  diaBP    BMI   \n",
       "1254                0             0         0    285.0  122.0   70.0  23.48  \\\n",
       "3883                0             1         0    345.0  188.0  102.0  28.89   \n",
       "2085                0             0         0    185.0  137.0   90.0  25.20   \n",
       "547                 0             0         0    145.0  112.0   83.0  22.36   \n",
       "2070                0             0         0    165.0  117.5   72.5  27.86   \n",
       "\n",
       "      heartRate  glucose  TenYearCHD  \n",
       "1254       83.0     82.0           0  \n",
       "3883       95.0      NaN           0  \n",
       "2085       82.0      NaN           0  \n",
       "547        90.0     70.0           0  \n",
       "2070       63.0     67.0           0  "
      ]
     },
     "execution_count": 4,
     "metadata": {},
     "output_type": "execute_result"
    }
   ],
   "source": [
    "datos = pd.read_csv('framingham.csv')\n",
    "datos.sample(5)"
   ]
  },
  {
   "cell_type": "code",
   "execution_count": 5,
   "id": "caaeb0ab",
   "metadata": {},
   "outputs": [
    {
     "data": {
      "text/plain": [
       "(4238, 16)"
      ]
     },
     "execution_count": 5,
     "metadata": {},
     "output_type": "execute_result"
    }
   ],
   "source": [
    "datos.shape"
   ]
  },
  {
   "cell_type": "code",
   "execution_count": 6,
   "id": "8d6d1aec",
   "metadata": {},
   "outputs": [
    {
     "data": {
      "text/plain": [
       "Index(['male', 'age', 'education', 'currentSmoker', 'cigsPerDay', 'BPMeds',\n",
       "       'prevalentStroke', 'prevalentHyp', 'diabetes', 'totChol', 'sysBP',\n",
       "       'diaBP', 'BMI', 'heartRate', 'glucose', 'TenYearCHD'],\n",
       "      dtype='object')"
      ]
     },
     "execution_count": 6,
     "metadata": {},
     "output_type": "execute_result"
    }
   ],
   "source": [
    "datos.columns"
   ]
  },
  {
   "cell_type": "markdown",
   "id": "c6d0fbf2",
   "metadata": {},
   "source": [
    "### 2.2 Cargando el CSV"
   ]
  },
  {
   "cell_type": "code",
   "execution_count": 7,
   "id": "6d5a1ac9",
   "metadata": {},
   "outputs": [
    {
     "data": {
      "application/vnd.jupyter.widget-view+json": {
       "model_id": "",
       "version_major": 2,
       "version_minor": 0
      },
      "text/plain": [
       "loop1:   0%|          | 0/4 [00:00<?, ?it/s]"
      ]
     },
     "metadata": {},
     "output_type": "display_data"
    },
    {
     "data": {
      "text/html": [
       "<div>\n",
       "<style scoped>\n",
       "    .dataframe tbody tr th:only-of-type {\n",
       "        vertical-align: middle;\n",
       "    }\n",
       "\n",
       "    .dataframe tbody tr th {\n",
       "        vertical-align: top;\n",
       "    }\n",
       "\n",
       "    .dataframe thead th {\n",
       "        text-align: right;\n",
       "    }\n",
       "</style>\n",
       "<table border=\"1\" class=\"dataframe\">\n",
       "  <thead>\n",
       "    <tr style=\"text-align: right;\">\n",
       "      <th></th>\n",
       "      <th>male</th>\n",
       "      <th>age</th>\n",
       "      <th>education</th>\n",
       "      <th>currentSmoker</th>\n",
       "      <th>cigsPerDay</th>\n",
       "      <th>BPMeds</th>\n",
       "      <th>prevalentStroke</th>\n",
       "      <th>prevalentHyp</th>\n",
       "      <th>diabetes</th>\n",
       "      <th>totChol</th>\n",
       "      <th>sysBP</th>\n",
       "      <th>diaBP</th>\n",
       "      <th>BMI</th>\n",
       "      <th>heartRate</th>\n",
       "      <th>glucose</th>\n",
       "      <th>TenYearCHD</th>\n",
       "    </tr>\n",
       "  </thead>\n",
       "  <tbody>\n",
       "    <tr>\n",
       "      <th>0</th>\n",
       "      <td>1</td>\n",
       "      <td>39</td>\n",
       "      <td>4.0</td>\n",
       "      <td>0</td>\n",
       "      <td>0.0</td>\n",
       "      <td>0.0</td>\n",
       "      <td>0</td>\n",
       "      <td>0</td>\n",
       "      <td>0</td>\n",
       "      <td>195.0</td>\n",
       "      <td>106.0</td>\n",
       "      <td>70.0</td>\n",
       "      <td>26.97</td>\n",
       "      <td>80.0</td>\n",
       "      <td>77.0</td>\n",
       "      <td>0</td>\n",
       "    </tr>\n",
       "    <tr>\n",
       "      <th>1</th>\n",
       "      <td>0</td>\n",
       "      <td>46</td>\n",
       "      <td>2.0</td>\n",
       "      <td>0</td>\n",
       "      <td>0.0</td>\n",
       "      <td>0.0</td>\n",
       "      <td>0</td>\n",
       "      <td>0</td>\n",
       "      <td>0</td>\n",
       "      <td>250.0</td>\n",
       "      <td>121.0</td>\n",
       "      <td>81.0</td>\n",
       "      <td>28.73</td>\n",
       "      <td>95.0</td>\n",
       "      <td>76.0</td>\n",
       "      <td>0</td>\n",
       "    </tr>\n",
       "    <tr>\n",
       "      <th>2</th>\n",
       "      <td>1</td>\n",
       "      <td>48</td>\n",
       "      <td>1.0</td>\n",
       "      <td>1</td>\n",
       "      <td>20.0</td>\n",
       "      <td>0.0</td>\n",
       "      <td>0</td>\n",
       "      <td>0</td>\n",
       "      <td>0</td>\n",
       "      <td>245.0</td>\n",
       "      <td>127.5</td>\n",
       "      <td>80.0</td>\n",
       "      <td>25.34</td>\n",
       "      <td>75.0</td>\n",
       "      <td>70.0</td>\n",
       "      <td>0</td>\n",
       "    </tr>\n",
       "    <tr>\n",
       "      <th>3</th>\n",
       "      <td>0</td>\n",
       "      <td>61</td>\n",
       "      <td>3.0</td>\n",
       "      <td>1</td>\n",
       "      <td>30.0</td>\n",
       "      <td>0.0</td>\n",
       "      <td>0</td>\n",
       "      <td>1</td>\n",
       "      <td>0</td>\n",
       "      <td>225.0</td>\n",
       "      <td>150.0</td>\n",
       "      <td>95.0</td>\n",
       "      <td>28.58</td>\n",
       "      <td>65.0</td>\n",
       "      <td>103.0</td>\n",
       "      <td>1</td>\n",
       "    </tr>\n",
       "    <tr>\n",
       "      <th>4</th>\n",
       "      <td>0</td>\n",
       "      <td>46</td>\n",
       "      <td>3.0</td>\n",
       "      <td>1</td>\n",
       "      <td>23.0</td>\n",
       "      <td>0.0</td>\n",
       "      <td>0</td>\n",
       "      <td>0</td>\n",
       "      <td>0</td>\n",
       "      <td>285.0</td>\n",
       "      <td>130.0</td>\n",
       "      <td>84.0</td>\n",
       "      <td>23.10</td>\n",
       "      <td>85.0</td>\n",
       "      <td>85.0</td>\n",
       "      <td>0</td>\n",
       "    </tr>\n",
       "  </tbody>\n",
       "</table>\n",
       "</div>"
      ],
      "text/plain": [
       "   male  age  education  currentSmoker  cigsPerDay  BPMeds  prevalentStroke  \\\n",
       "0     1   39        4.0              0         0.0     0.0                0   \n",
       "1     0   46        2.0              0         0.0     0.0                0   \n",
       "2     1   48        1.0              1        20.0     0.0                0   \n",
       "3     0   61        3.0              1        30.0     0.0                0   \n",
       "4     0   46        3.0              1        23.0     0.0                0   \n",
       "\n",
       "   prevalentHyp  diabetes  totChol  sysBP  diaBP    BMI  heartRate  glucose  \\\n",
       "0             0         0    195.0  106.0   70.0  26.97       80.0     77.0   \n",
       "1             0         0    250.0  121.0   81.0  28.73       95.0     76.0   \n",
       "2             0         0    245.0  127.5   80.0  25.34       75.0     70.0   \n",
       "3             1         0    225.0  150.0   95.0  28.58       65.0    103.0   \n",
       "4             0         0    285.0  130.0   84.0  23.10       85.0     85.0   \n",
       "\n",
       "   TenYearCHD  \n",
       "0           0  \n",
       "1           0  \n",
       "2           0  \n",
       "3           1  \n",
       "4           0  "
      ]
     },
     "execution_count": 7,
     "metadata": {},
     "output_type": "execute_result"
    }
   ],
   "source": [
    "from ads.dataset.factory import DatasetFactory\n",
    "\n",
    "ds = DatasetFactory.open('framingham.csv', target='TenYearCHD')\n",
    "ds.head()"
   ]
  },
  {
   "cell_type": "code",
   "execution_count": 8,
   "id": "3b4eb6b4",
   "metadata": {},
   "outputs": [
    {
     "data": {
      "text/plain": [
       "ads.dataset.classification_dataset.BinaryClassificationDataset"
      ]
     },
     "execution_count": 8,
     "metadata": {},
     "output_type": "execute_result"
    }
   ],
   "source": [
    "type(ds)"
   ]
  },
  {
   "cell_type": "code",
   "execution_count": 9,
   "id": "57f03856",
   "metadata": {},
   "outputs": [
    {
     "data": {
      "text/plain": [
       "pandas.core.frame.DataFrame"
      ]
     },
     "execution_count": 9,
     "metadata": {},
     "output_type": "execute_result"
    }
   ],
   "source": [
    "type(datos)"
   ]
  },
  {
   "cell_type": "code",
   "execution_count": 10,
   "id": "b13cced0",
   "metadata": {},
   "outputs": [
    {
     "data": {
      "text/plain": [
       "Index(['male', 'age', 'education', 'currentSmoker', 'cigsPerDay', 'BPMeds',\n",
       "       'prevalentStroke', 'prevalentHyp', 'diabetes', 'totChol', 'sysBP',\n",
       "       'diaBP', 'BMI', 'heartRate', 'glucose', 'TenYearCHD'],\n",
       "      dtype='object')"
      ]
     },
     "execution_count": 10,
     "metadata": {},
     "output_type": "execute_result"
    }
   ],
   "source": [
    "ds.columns"
   ]
  },
  {
   "cell_type": "code",
   "execution_count": 11,
   "id": "dee4364e",
   "metadata": {},
   "outputs": [],
   "source": [
    "dict_ing_esp = {\n",
    "                     'male': 'sexo',\n",
    "                     'age': 'edad',\n",
    "                     'education': 'escolaridad',\n",
    "                     'currentSmoker': 'fumador',\n",
    "                     'cigsPerDay': 'cigarrillos_por_dia',                     \n",
    "                     'BPMeds': 'uso_medicamento_presion',\n",
    "                     'prevalentStroke': 'acv',\n",
    "                     'prevalentHyp': 'hipertension',\n",
    "                     'diabetes': 'diabetes',\n",
    "                     'totChol': 'colesterol_total',\n",
    "                     'sysBP': 'presion_arterial_sistolica',\n",
    "                     'diaBP': 'presion_arterial_diastolica',\n",
    "                     'BMI': 'imc',\n",
    "                     'heartRate': 'frecuencia_cardiaca',\n",
    "                     'glucose': 'glicemia',\n",
    "                     'TenYearCHD': 'riesgo_eac_decada'\n",
    "}"
   ]
  },
  {
   "cell_type": "code",
   "execution_count": 12,
   "id": "bbba8792",
   "metadata": {},
   "outputs": [],
   "source": [
    "ds = ds.rename_columns(columns=dict_ing_esp)"
   ]
  },
  {
   "cell_type": "code",
   "execution_count": 13,
   "id": "e79f23f4",
   "metadata": {},
   "outputs": [
    {
     "data": {
      "text/plain": [
       "Index(['sexo', 'edad', 'escolaridad', 'fumador', 'cigarrillos_por_dia',\n",
       "       'uso_medicamento_presion', 'acv', 'hipertension', 'diabetes',\n",
       "       'colesterol_total', 'presion_arterial_sistolica',\n",
       "       'presion_arterial_diastolica', 'imc', 'frecuencia_cardiaca', 'glicemia',\n",
       "       'riesgo_eac_decada'],\n",
       "      dtype='object')"
      ]
     },
     "execution_count": 13,
     "metadata": {},
     "output_type": "execute_result"
    }
   ],
   "source": [
    "ds.columns"
   ]
  },
  {
   "cell_type": "code",
   "execution_count": 14,
   "id": "7d3bf5a3",
   "metadata": {},
   "outputs": [
    {
     "data": {
      "text/html": [
       "<div>\n",
       "<style scoped>\n",
       "    .dataframe tbody tr th:only-of-type {\n",
       "        vertical-align: middle;\n",
       "    }\n",
       "\n",
       "    .dataframe tbody tr th {\n",
       "        vertical-align: top;\n",
       "    }\n",
       "\n",
       "    .dataframe thead th {\n",
       "        text-align: right;\n",
       "    }\n",
       "</style>\n",
       "<table border=\"1\" class=\"dataframe\">\n",
       "  <thead>\n",
       "    <tr style=\"text-align: right;\">\n",
       "      <th></th>\n",
       "      <th>sexo</th>\n",
       "      <th>edad</th>\n",
       "      <th>escolaridad</th>\n",
       "      <th>fumador</th>\n",
       "      <th>cigarrillos_por_dia</th>\n",
       "      <th>uso_medicamento_presion</th>\n",
       "      <th>acv</th>\n",
       "      <th>hipertension</th>\n",
       "      <th>diabetes</th>\n",
       "      <th>colesterol_total</th>\n",
       "      <th>presion_arterial_sistolica</th>\n",
       "      <th>presion_arterial_diastolica</th>\n",
       "      <th>imc</th>\n",
       "      <th>frecuencia_cardiaca</th>\n",
       "      <th>glicemia</th>\n",
       "      <th>riesgo_eac_decada</th>\n",
       "    </tr>\n",
       "  </thead>\n",
       "  <tbody>\n",
       "    <tr>\n",
       "      <th>0</th>\n",
       "      <td>1</td>\n",
       "      <td>39</td>\n",
       "      <td>4.0</td>\n",
       "      <td>0</td>\n",
       "      <td>0.0</td>\n",
       "      <td>0.0</td>\n",
       "      <td>0</td>\n",
       "      <td>0</td>\n",
       "      <td>0</td>\n",
       "      <td>195.0</td>\n",
       "      <td>106.0</td>\n",
       "      <td>70.0</td>\n",
       "      <td>26.97</td>\n",
       "      <td>80.0</td>\n",
       "      <td>77.0</td>\n",
       "      <td>0</td>\n",
       "    </tr>\n",
       "    <tr>\n",
       "      <th>1</th>\n",
       "      <td>0</td>\n",
       "      <td>46</td>\n",
       "      <td>2.0</td>\n",
       "      <td>0</td>\n",
       "      <td>0.0</td>\n",
       "      <td>0.0</td>\n",
       "      <td>0</td>\n",
       "      <td>0</td>\n",
       "      <td>0</td>\n",
       "      <td>250.0</td>\n",
       "      <td>121.0</td>\n",
       "      <td>81.0</td>\n",
       "      <td>28.73</td>\n",
       "      <td>95.0</td>\n",
       "      <td>76.0</td>\n",
       "      <td>0</td>\n",
       "    </tr>\n",
       "    <tr>\n",
       "      <th>2</th>\n",
       "      <td>1</td>\n",
       "      <td>48</td>\n",
       "      <td>1.0</td>\n",
       "      <td>1</td>\n",
       "      <td>20.0</td>\n",
       "      <td>0.0</td>\n",
       "      <td>0</td>\n",
       "      <td>0</td>\n",
       "      <td>0</td>\n",
       "      <td>245.0</td>\n",
       "      <td>127.5</td>\n",
       "      <td>80.0</td>\n",
       "      <td>25.34</td>\n",
       "      <td>75.0</td>\n",
       "      <td>70.0</td>\n",
       "      <td>0</td>\n",
       "    </tr>\n",
       "    <tr>\n",
       "      <th>3</th>\n",
       "      <td>0</td>\n",
       "      <td>61</td>\n",
       "      <td>3.0</td>\n",
       "      <td>1</td>\n",
       "      <td>30.0</td>\n",
       "      <td>0.0</td>\n",
       "      <td>0</td>\n",
       "      <td>1</td>\n",
       "      <td>0</td>\n",
       "      <td>225.0</td>\n",
       "      <td>150.0</td>\n",
       "      <td>95.0</td>\n",
       "      <td>28.58</td>\n",
       "      <td>65.0</td>\n",
       "      <td>103.0</td>\n",
       "      <td>1</td>\n",
       "    </tr>\n",
       "    <tr>\n",
       "      <th>4</th>\n",
       "      <td>0</td>\n",
       "      <td>46</td>\n",
       "      <td>3.0</td>\n",
       "      <td>1</td>\n",
       "      <td>23.0</td>\n",
       "      <td>0.0</td>\n",
       "      <td>0</td>\n",
       "      <td>0</td>\n",
       "      <td>0</td>\n",
       "      <td>285.0</td>\n",
       "      <td>130.0</td>\n",
       "      <td>84.0</td>\n",
       "      <td>23.10</td>\n",
       "      <td>85.0</td>\n",
       "      <td>85.0</td>\n",
       "      <td>0</td>\n",
       "    </tr>\n",
       "  </tbody>\n",
       "</table>\n",
       "</div>"
      ],
      "text/plain": [
       "   sexo  edad  escolaridad  fumador  cigarrillos_por_dia  \\\n",
       "0     1    39          4.0        0                  0.0   \n",
       "1     0    46          2.0        0                  0.0   \n",
       "2     1    48          1.0        1                 20.0   \n",
       "3     0    61          3.0        1                 30.0   \n",
       "4     0    46          3.0        1                 23.0   \n",
       "\n",
       "   uso_medicamento_presion  acv  hipertension  diabetes  colesterol_total  \\\n",
       "0                      0.0    0             0         0             195.0   \n",
       "1                      0.0    0             0         0             250.0   \n",
       "2                      0.0    0             0         0             245.0   \n",
       "3                      0.0    0             1         0             225.0   \n",
       "4                      0.0    0             0         0             285.0   \n",
       "\n",
       "   presion_arterial_sistolica  presion_arterial_diastolica    imc  \\\n",
       "0                       106.0                         70.0  26.97   \n",
       "1                       121.0                         81.0  28.73   \n",
       "2                       127.5                         80.0  25.34   \n",
       "3                       150.0                         95.0  28.58   \n",
       "4                       130.0                         84.0  23.10   \n",
       "\n",
       "   frecuencia_cardiaca  glicemia  riesgo_eac_decada  \n",
       "0                 80.0      77.0                  0  \n",
       "1                 95.0      76.0                  0  \n",
       "2                 75.0      70.0                  0  \n",
       "3                 65.0     103.0                  1  \n",
       "4                 85.0      85.0                  0  "
      ]
     },
     "execution_count": 14,
     "metadata": {},
     "output_type": "execute_result"
    }
   ],
   "source": [
    "ds.head()"
   ]
  },
  {
   "cell_type": "code",
   "execution_count": 15,
   "id": "d37ed45e",
   "metadata": {},
   "outputs": [],
   "source": [
    "ds = ds.drop_columns('escolaridad')"
   ]
  },
  {
   "cell_type": "code",
   "execution_count": 16,
   "id": "fafda209",
   "metadata": {},
   "outputs": [
    {
     "data": {
      "text/plain": [
       "Index(['sexo', 'edad', 'fumador', 'cigarrillos_por_dia',\n",
       "       'uso_medicamento_presion', 'acv', 'hipertension', 'diabetes',\n",
       "       'colesterol_total', 'presion_arterial_sistolica',\n",
       "       'presion_arterial_diastolica', 'imc', 'frecuencia_cardiaca', 'glicemia',\n",
       "       'riesgo_eac_decada'],\n",
       "      dtype='object')"
      ]
     },
     "execution_count": 16,
     "metadata": {},
     "output_type": "execute_result"
    }
   ],
   "source": [
    "ds.columns"
   ]
  },
  {
   "cell_type": "markdown",
   "id": "52761b06",
   "metadata": {},
   "source": [
    "### 2.3 Creando un ADS DataFrame"
   ]
  },
  {
   "cell_type": "code",
   "execution_count": 17,
   "id": "ee536234",
   "metadata": {},
   "outputs": [
    {
     "data": {
      "text/html": [
       "<div>\n",
       "<style scoped>\n",
       "    .dataframe tbody tr th:only-of-type {\n",
       "        vertical-align: middle;\n",
       "    }\n",
       "\n",
       "    .dataframe tbody tr th {\n",
       "        vertical-align: top;\n",
       "    }\n",
       "\n",
       "    .dataframe thead th {\n",
       "        text-align: right;\n",
       "    }\n",
       "</style>\n",
       "<table border=\"1\" class=\"dataframe\">\n",
       "  <thead>\n",
       "    <tr style=\"text-align: right;\">\n",
       "      <th></th>\n",
       "      <th>Feature</th>\n",
       "      <th>Datatype</th>\n",
       "    </tr>\n",
       "  </thead>\n",
       "  <tbody>\n",
       "    <tr>\n",
       "      <th>0</th>\n",
       "      <td>riesgo_eac_decada</td>\n",
       "      <td>categorical/int64</td>\n",
       "    </tr>\n",
       "    <tr>\n",
       "      <th>1</th>\n",
       "      <td>sexo</td>\n",
       "      <td>categorical/int64</td>\n",
       "    </tr>\n",
       "    <tr>\n",
       "      <th>2</th>\n",
       "      <td>edad</td>\n",
       "      <td>ordinal/int64</td>\n",
       "    </tr>\n",
       "    <tr>\n",
       "      <th>3</th>\n",
       "      <td>fumador</td>\n",
       "      <td>categorical/int64</td>\n",
       "    </tr>\n",
       "    <tr>\n",
       "      <th>4</th>\n",
       "      <td>cigarrillos_por_dia</td>\n",
       "      <td>ordinal/float64</td>\n",
       "    </tr>\n",
       "    <tr>\n",
       "      <th>5</th>\n",
       "      <td>uso_medicamento_presion</td>\n",
       "      <td>categorical/float64</td>\n",
       "    </tr>\n",
       "    <tr>\n",
       "      <th>6</th>\n",
       "      <td>acv</td>\n",
       "      <td>categorical/int64</td>\n",
       "    </tr>\n",
       "    <tr>\n",
       "      <th>7</th>\n",
       "      <td>hipertension</td>\n",
       "      <td>categorical/int64</td>\n",
       "    </tr>\n",
       "    <tr>\n",
       "      <th>8</th>\n",
       "      <td>diabetes</td>\n",
       "      <td>categorical/int64</td>\n",
       "    </tr>\n",
       "    <tr>\n",
       "      <th>9</th>\n",
       "      <td>colesterol_total</td>\n",
       "      <td>ordinal/float64</td>\n",
       "    </tr>\n",
       "    <tr>\n",
       "      <th>10</th>\n",
       "      <td>presion_arterial_sistolica</td>\n",
       "      <td>continuous/float64</td>\n",
       "    </tr>\n",
       "    <tr>\n",
       "      <th>11</th>\n",
       "      <td>presion_arterial_diastolica</td>\n",
       "      <td>continuous/float64</td>\n",
       "    </tr>\n",
       "    <tr>\n",
       "      <th>12</th>\n",
       "      <td>imc</td>\n",
       "      <td>continuous/float64</td>\n",
       "    </tr>\n",
       "    <tr>\n",
       "      <th>13</th>\n",
       "      <td>frecuencia_cardiaca</td>\n",
       "      <td>ordinal/float64</td>\n",
       "    </tr>\n",
       "    <tr>\n",
       "      <th>14</th>\n",
       "      <td>glicemia</td>\n",
       "      <td>ordinal/float64</td>\n",
       "    </tr>\n",
       "  </tbody>\n",
       "</table>\n",
       "</div>"
      ],
      "text/plain": [
       "                        Feature             Datatype\n",
       "0             riesgo_eac_decada    categorical/int64\n",
       "1                          sexo    categorical/int64\n",
       "2                          edad        ordinal/int64\n",
       "3                       fumador    categorical/int64\n",
       "4           cigarrillos_por_dia      ordinal/float64\n",
       "5       uso_medicamento_presion  categorical/float64\n",
       "6                           acv    categorical/int64\n",
       "7                  hipertension    categorical/int64\n",
       "8                      diabetes    categorical/int64\n",
       "9              colesterol_total      ordinal/float64\n",
       "10   presion_arterial_sistolica   continuous/float64\n",
       "11  presion_arterial_diastolica   continuous/float64\n",
       "12                          imc   continuous/float64\n",
       "13          frecuencia_cardiaca      ordinal/float64\n",
       "14                     glicemia      ordinal/float64"
      ]
     },
     "execution_count": 17,
     "metadata": {},
     "output_type": "execute_result"
    }
   ],
   "source": [
    "ds.summary()"
   ]
  },
  {
   "cell_type": "code",
   "execution_count": 18,
   "id": "90143811",
   "metadata": {},
   "outputs": [
    {
     "data": {
      "text/plain": [
       "array([ 0., 20., 30., 23., 15.,  9., 10.,  5., 35., 43.,  1., 40.,  3.,\n",
       "        2., nan, 12.,  4., 18., 25., 60., 14., 45.,  8., 50., 13., 11.,\n",
       "        7.,  6., 38., 29., 17., 16., 19., 70.])"
      ]
     },
     "execution_count": 18,
     "metadata": {},
     "output_type": "execute_result"
    }
   ],
   "source": [
    "ds.cigarrillos_por_dia.unique()"
   ]
  },
  {
   "cell_type": "code",
   "execution_count": 19,
   "id": "905089ac",
   "metadata": {},
   "outputs": [
    {
     "data": {
      "text/plain": [
       "sexo                             0\n",
       "edad                             0\n",
       "fumador                          0\n",
       "cigarrillos_por_dia             29\n",
       "uso_medicamento_presion         53\n",
       "acv                              0\n",
       "hipertension                     0\n",
       "diabetes                         0\n",
       "colesterol_total                50\n",
       "presion_arterial_sistolica       0\n",
       "presion_arterial_diastolica      0\n",
       "imc                             19\n",
       "frecuencia_cardiaca              1\n",
       "glicemia                       388\n",
       "riesgo_eac_decada                0\n",
       "dtype: int64"
      ]
     },
     "execution_count": 19,
     "metadata": {},
     "output_type": "execute_result"
    }
   ],
   "source": [
    "ds.isnull().sum()"
   ]
  },
  {
   "cell_type": "code",
   "execution_count": 20,
   "id": "25e6ae08",
   "metadata": {},
   "outputs": [],
   "source": [
    "seleccion_correctos = ds.cigarrillos_por_dia.notnull()"
   ]
  },
  {
   "cell_type": "code",
   "execution_count": 21,
   "id": "3b5443c0",
   "metadata": {},
   "outputs": [],
   "source": [
    "ds = ds[seleccion_correctos]"
   ]
  },
  {
   "cell_type": "code",
   "execution_count": 22,
   "id": "8e8afd57",
   "metadata": {},
   "outputs": [
    {
     "data": {
      "text/plain": [
       "sexo                             0\n",
       "edad                             0\n",
       "fumador                          0\n",
       "cigarrillos_por_dia              0\n",
       "uso_medicamento_presion         53\n",
       "acv                              0\n",
       "hipertension                     0\n",
       "diabetes                         0\n",
       "colesterol_total                50\n",
       "presion_arterial_sistolica       0\n",
       "presion_arterial_diastolica      0\n",
       "imc                             19\n",
       "frecuencia_cardiaca              1\n",
       "glicemia                       384\n",
       "riesgo_eac_decada                0\n",
       "dtype: int64"
      ]
     },
     "execution_count": 22,
     "metadata": {},
     "output_type": "execute_result"
    }
   ],
   "source": [
    "ds.isnull().sum()"
   ]
  },
  {
   "cell_type": "code",
   "execution_count": 23,
   "id": "2ee0adbd",
   "metadata": {},
   "outputs": [],
   "source": [
    "ds = ds[ds.uso_medicamento_presion.notnull()]\n",
    "ds = ds[ds.colesterol_total.notnull()]\n",
    "ds = ds[ds.imc.notnull()]\n",
    "ds = ds[ds.frecuencia_cardiaca.notnull()]"
   ]
  },
  {
   "cell_type": "code",
   "execution_count": 24,
   "id": "353d076d",
   "metadata": {},
   "outputs": [
    {
     "data": {
      "text/plain": [
       "sexo                             0\n",
       "edad                             0\n",
       "fumador                          0\n",
       "cigarrillos_por_dia              0\n",
       "uso_medicamento_presion          0\n",
       "acv                              0\n",
       "hipertension                     0\n",
       "diabetes                         0\n",
       "colesterol_total                 0\n",
       "presion_arterial_sistolica       0\n",
       "presion_arterial_diastolica      0\n",
       "imc                              0\n",
       "frecuencia_cardiaca              0\n",
       "glicemia                       339\n",
       "riesgo_eac_decada                0\n",
       "dtype: int64"
      ]
     },
     "execution_count": 24,
     "metadata": {},
     "output_type": "execute_result"
    }
   ],
   "source": [
    "ds.isnull().sum()"
   ]
  },
  {
   "cell_type": "markdown",
   "id": "61687e39",
   "metadata": {},
   "source": [
    "### 2.4 Tratamiento de datos faltantes"
   ]
  },
  {
   "cell_type": "code",
   "execution_count": 25,
   "id": "8369ba58",
   "metadata": {},
   "outputs": [],
   "source": [
    "personas_con_diabetes = ds[ds.diabetes==1]"
   ]
  },
  {
   "cell_type": "code",
   "execution_count": 26,
   "id": "533d1e60",
   "metadata": {},
   "outputs": [],
   "source": [
    "personas_sin_diabetes = ds[ds.diabetes==0]"
   ]
  },
  {
   "cell_type": "code",
   "execution_count": 27,
   "id": "6bd2890e",
   "metadata": {},
   "outputs": [
    {
     "data": {
      "text/plain": [
       "37    225.0\n",
       "44    215.0\n",
       "56     55.0\n",
       "66    202.0\n",
       "96    126.0\n",
       "Name: glicemia, dtype: float64"
      ]
     },
     "execution_count": 27,
     "metadata": {},
     "output_type": "execute_result"
    }
   ],
   "source": [
    "personas_con_diabetes.glicemia.head()"
   ]
  },
  {
   "cell_type": "code",
   "execution_count": 28,
   "id": "814436ec",
   "metadata": {},
   "outputs": [
    {
     "data": {
      "text/plain": [
       "169.87254901960785"
      ]
     },
     "execution_count": 28,
     "metadata": {},
     "output_type": "execute_result"
    }
   ],
   "source": [
    "personas_con_diabetes.glicemia.mean()"
   ]
  },
  {
   "cell_type": "code",
   "execution_count": 29,
   "id": "d892eea4",
   "metadata": {},
   "outputs": [
    {
     "data": {
      "text/plain": [
       "79.42226487523992"
      ]
     },
     "execution_count": 29,
     "metadata": {},
     "output_type": "execute_result"
    }
   ],
   "source": [
    "personas_sin_diabetes.glicemia.mean()"
   ]
  },
  {
   "cell_type": "code",
   "execution_count": 30,
   "id": "3bf18cba",
   "metadata": {},
   "outputs": [
    {
     "data": {
      "text/plain": [
       "count    3749.000000\n",
       "mean       81.883169\n",
       "std        23.888039\n",
       "min        40.000000\n",
       "25%        71.000000\n",
       "50%        78.000000\n",
       "75%        87.000000\n",
       "max       394.000000\n",
       "Name: glicemia, dtype: float64"
      ]
     },
     "execution_count": 30,
     "metadata": {},
     "output_type": "execute_result"
    }
   ],
   "source": [
    "ds.glicemia.describe()"
   ]
  },
  {
   "cell_type": "code",
   "execution_count": 31,
   "id": "6bc5d3b4",
   "metadata": {},
   "outputs": [
    {
     "data": {
      "text/plain": [
       "0    0.97456\n",
       "1    0.02544\n",
       "Name: diabetes, dtype: float64"
      ]
     },
     "execution_count": 31,
     "metadata": {},
     "output_type": "execute_result"
    }
   ],
   "source": [
    "ds.diabetes.value_counts(normalize=True)"
   ]
  },
  {
   "cell_type": "code",
   "execution_count": 32,
   "id": "608a1eeb",
   "metadata": {},
   "outputs": [
    {
     "data": {
      "text/plain": [
       "(0.0, 400.0)"
      ]
     },
     "execution_count": 32,
     "metadata": {},
     "output_type": "execute_result"
    },
    {
     "data": {
      "image/png": "[encoded data removed]",
      "text/plain": [
       "<Figure size 432x288 with 1 Axes>"
      ]
     },
     "metadata": {
      "needs_background": "light"
     },
     "output_type": "display_data"
    }
   ],
   "source": [
    "import seaborn as sns\n",
    "\n",
    "ax = sns.distplot(personas_con_diabetes.glicemia, norm_hist=False)\n",
    "ax.set_xlim(0,400)"
   ]
  },
  {
   "cell_type": "code",
   "execution_count": 33,
   "id": "dd6b12d1",
   "metadata": {},
   "outputs": [
    {
     "data": {
      "text/plain": [
       "(25.0, 170.0)"
      ]
     },
     "execution_count": 33,
     "metadata": {},
     "output_type": "execute_result"
    },
    {
     "data": {
      "image/png": "[encoded data removed]",
      "text/plain": [
       "<Figure size 432x288 with 1 Axes>"
      ]
     },
     "metadata": {
      "needs_background": "light"
     },
     "output_type": "display_data"
    }
   ],
   "source": [
    "ax = sns.distplot(personas_sin_diabetes.glicemia, norm_hist=False)\n",
    "ax.set_xlim(25,170)"
   ]
  },
  {
   "cell_type": "code",
   "execution_count": 34,
   "id": "8882f676",
   "metadata": {},
   "outputs": [],
   "source": [
    "nulos = ds.glicemia.isnull()"
   ]
  },
  {
   "cell_type": "code",
   "execution_count": 35,
   "id": "d4545773",
   "metadata": {},
   "outputs": [
    {
     "data": {
      "text/plain": [
       "0    337\n",
       "1      2\n",
       "Name: diabetes, dtype: int64"
      ]
     },
     "execution_count": 35,
     "metadata": {},
     "output_type": "execute_result"
    }
   ],
   "source": [
    "ds[nulos].diabetes.value_counts()"
   ]
  },
  {
   "cell_type": "code",
   "execution_count": 36,
   "id": "484244c6",
   "metadata": {},
   "outputs": [
    {
     "data": {
      "text/plain": [
       "81.88316884502534"
      ]
     },
     "execution_count": 36,
     "metadata": {},
     "output_type": "execute_result"
    }
   ],
   "source": [
    "ds.glicemia.mean()"
   ]
  },
  {
   "cell_type": "code",
   "execution_count": 37,
   "id": "0c336a28",
   "metadata": {},
   "outputs": [],
   "source": [
    "ds.fillna({'glicemia':81.8}, inplace=True)"
   ]
  },
  {
   "cell_type": "code",
   "execution_count": 38,
   "id": "42dfddb0",
   "metadata": {},
   "outputs": [
    {
     "data": {
      "text/plain": [
       "sexo                           0\n",
       "edad                           0\n",
       "fumador                        0\n",
       "cigarrillos_por_dia            0\n",
       "uso_medicamento_presion        0\n",
       "acv                            0\n",
       "hipertension                   0\n",
       "diabetes                       0\n",
       "colesterol_total               0\n",
       "presion_arterial_sistolica     0\n",
       "presion_arterial_diastolica    0\n",
       "imc                            0\n",
       "frecuencia_cardiaca            0\n",
       "glicemia                       0\n",
       "riesgo_eac_decada              0\n",
       "dtype: int64"
      ]
     },
     "execution_count": 38,
     "metadata": {},
     "output_type": "execute_result"
    }
   ],
   "source": [
    "ds.isnull().sum()"
   ]
  },
  {
   "cell_type": "code",
   "execution_count": 39,
   "id": "6bd3d62a",
   "metadata": {},
   "outputs": [
    {
     "data": {
      "text/plain": [
       "(4088, 15)"
      ]
     },
     "execution_count": 39,
     "metadata": {},
     "output_type": "execute_result"
    }
   ],
   "source": [
    "ds.shape"
   ]
  },
  {
   "cell_type": "markdown",
   "id": "3d511b9a",
   "metadata": {},
   "source": [
    "## Aula 3"
   ]
  },
  {
   "cell_type": "markdown",
   "id": "8c13883b",
   "metadata": {},
   "source": [
    "### 3.1 Preparando los datos"
   ]
  },
  {
   "cell_type": "code",
   "execution_count": 40,
   "id": "9db9b5b6",
   "metadata": {},
   "outputs": [
    {
     "data": {
      "text/html": [
       "<div>\n",
       "<style scoped>\n",
       "    .dataframe tbody tr th:only-of-type {\n",
       "        vertical-align: middle;\n",
       "    }\n",
       "\n",
       "    .dataframe tbody tr th {\n",
       "        vertical-align: top;\n",
       "    }\n",
       "\n",
       "    .dataframe thead th {\n",
       "        text-align: right;\n",
       "    }\n",
       "</style>\n",
       "<table border=\"1\" class=\"dataframe\">\n",
       "  <thead>\n",
       "    <tr style=\"text-align: right;\">\n",
       "      <th></th>\n",
       "      <th>Feature</th>\n",
       "      <th>Datatype</th>\n",
       "    </tr>\n",
       "  </thead>\n",
       "  <tbody>\n",
       "    <tr>\n",
       "      <th>0</th>\n",
       "      <td>riesgo_eac_decada</td>\n",
       "      <td>categorical/int64</td>\n",
       "    </tr>\n",
       "    <tr>\n",
       "      <th>1</th>\n",
       "      <td>sexo</td>\n",
       "      <td>categorical/int64</td>\n",
       "    </tr>\n",
       "    <tr>\n",
       "      <th>2</th>\n",
       "      <td>edad</td>\n",
       "      <td>ordinal/int64</td>\n",
       "    </tr>\n",
       "    <tr>\n",
       "      <th>3</th>\n",
       "      <td>fumador</td>\n",
       "      <td>categorical/int64</td>\n",
       "    </tr>\n",
       "    <tr>\n",
       "      <th>4</th>\n",
       "      <td>cigarrillos_por_dia</td>\n",
       "      <td>ordinal/float64</td>\n",
       "    </tr>\n",
       "    <tr>\n",
       "      <th>5</th>\n",
       "      <td>uso_medicamento_presion</td>\n",
       "      <td>categorical/float64</td>\n",
       "    </tr>\n",
       "    <tr>\n",
       "      <th>6</th>\n",
       "      <td>acv</td>\n",
       "      <td>categorical/int64</td>\n",
       "    </tr>\n",
       "    <tr>\n",
       "      <th>7</th>\n",
       "      <td>hipertension</td>\n",
       "      <td>categorical/int64</td>\n",
       "    </tr>\n",
       "    <tr>\n",
       "      <th>8</th>\n",
       "      <td>diabetes</td>\n",
       "      <td>categorical/int64</td>\n",
       "    </tr>\n",
       "    <tr>\n",
       "      <th>9</th>\n",
       "      <td>colesterol_total</td>\n",
       "      <td>ordinal/float64</td>\n",
       "    </tr>\n",
       "    <tr>\n",
       "      <th>10</th>\n",
       "      <td>presion_arterial_sistolica</td>\n",
       "      <td>continuous/float64</td>\n",
       "    </tr>\n",
       "    <tr>\n",
       "      <th>11</th>\n",
       "      <td>presion_arterial_diastolica</td>\n",
       "      <td>continuous/float64</td>\n",
       "    </tr>\n",
       "    <tr>\n",
       "      <th>12</th>\n",
       "      <td>imc</td>\n",
       "      <td>continuous/float64</td>\n",
       "    </tr>\n",
       "    <tr>\n",
       "      <th>13</th>\n",
       "      <td>frecuencia_cardiaca</td>\n",
       "      <td>ordinal/float64</td>\n",
       "    </tr>\n",
       "    <tr>\n",
       "      <th>14</th>\n",
       "      <td>glicemia</td>\n",
       "      <td>ordinal/float64</td>\n",
       "    </tr>\n",
       "  </tbody>\n",
       "</table>\n",
       "</div>"
      ],
      "text/plain": [
       "                        Feature             Datatype\n",
       "0             riesgo_eac_decada    categorical/int64\n",
       "1                          sexo    categorical/int64\n",
       "2                          edad        ordinal/int64\n",
       "3                       fumador    categorical/int64\n",
       "4           cigarrillos_por_dia      ordinal/float64\n",
       "5       uso_medicamento_presion  categorical/float64\n",
       "6                           acv    categorical/int64\n",
       "7                  hipertension    categorical/int64\n",
       "8                      diabetes    categorical/int64\n",
       "9              colesterol_total      ordinal/float64\n",
       "10   presion_arterial_sistolica   continuous/float64\n",
       "11  presion_arterial_diastolica   continuous/float64\n",
       "12                          imc   continuous/float64\n",
       "13          frecuencia_cardiaca      ordinal/float64\n",
       "14                     glicemia      ordinal/float64"
      ]
     },
     "execution_count": 40,
     "metadata": {},
     "output_type": "execute_result"
    }
   ],
   "source": [
    "ds.summary()"
   ]
  },
  {
   "cell_type": "code",
   "execution_count": 41,
   "id": "eb802dd4",
   "metadata": {},
   "outputs": [],
   "source": [
    "ds = ds.astype(types={'cigarrillos_por_dia':'int64'})"
   ]
  },
  {
   "cell_type": "code",
   "execution_count": 42,
   "id": "82d89157",
   "metadata": {},
   "outputs": [],
   "source": [
    "ds = ds.astype(types={'uso_medicamento_presion':'int64'})"
   ]
  },
  {
   "cell_type": "code",
   "execution_count": 43,
   "id": "1184e546",
   "metadata": {},
   "outputs": [
    {
     "data": {
      "text/html": [
       "<div>\n",
       "<style scoped>\n",
       "    .dataframe tbody tr th:only-of-type {\n",
       "        vertical-align: middle;\n",
       "    }\n",
       "\n",
       "    .dataframe tbody tr th {\n",
       "        vertical-align: top;\n",
       "    }\n",
       "\n",
       "    .dataframe thead th {\n",
       "        text-align: right;\n",
       "    }\n",
       "</style>\n",
       "<table border=\"1\" class=\"dataframe\">\n",
       "  <thead>\n",
       "    <tr style=\"text-align: right;\">\n",
       "      <th></th>\n",
       "      <th>Feature</th>\n",
       "      <th>Datatype</th>\n",
       "    </tr>\n",
       "  </thead>\n",
       "  <tbody>\n",
       "    <tr>\n",
       "      <th>0</th>\n",
       "      <td>riesgo_eac_decada</td>\n",
       "      <td>categorical/int64</td>\n",
       "    </tr>\n",
       "    <tr>\n",
       "      <th>1</th>\n",
       "      <td>sexo</td>\n",
       "      <td>categorical/int64</td>\n",
       "    </tr>\n",
       "    <tr>\n",
       "      <th>2</th>\n",
       "      <td>edad</td>\n",
       "      <td>ordinal/int64</td>\n",
       "    </tr>\n",
       "    <tr>\n",
       "      <th>3</th>\n",
       "      <td>fumador</td>\n",
       "      <td>categorical/int64</td>\n",
       "    </tr>\n",
       "    <tr>\n",
       "      <th>4</th>\n",
       "      <td>cigarrillos_por_dia</td>\n",
       "      <td>ordinal/int64</td>\n",
       "    </tr>\n",
       "    <tr>\n",
       "      <th>5</th>\n",
       "      <td>uso_medicamento_presion</td>\n",
       "      <td>ordinal/int64</td>\n",
       "    </tr>\n",
       "    <tr>\n",
       "      <th>6</th>\n",
       "      <td>acv</td>\n",
       "      <td>categorical/int64</td>\n",
       "    </tr>\n",
       "    <tr>\n",
       "      <th>7</th>\n",
       "      <td>hipertension</td>\n",
       "      <td>categorical/int64</td>\n",
       "    </tr>\n",
       "    <tr>\n",
       "      <th>8</th>\n",
       "      <td>diabetes</td>\n",
       "      <td>categorical/int64</td>\n",
       "    </tr>\n",
       "    <tr>\n",
       "      <th>9</th>\n",
       "      <td>colesterol_total</td>\n",
       "      <td>ordinal/float64</td>\n",
       "    </tr>\n",
       "    <tr>\n",
       "      <th>10</th>\n",
       "      <td>presion_arterial_sistolica</td>\n",
       "      <td>continuous/float64</td>\n",
       "    </tr>\n",
       "    <tr>\n",
       "      <th>11</th>\n",
       "      <td>presion_arterial_diastolica</td>\n",
       "      <td>continuous/float64</td>\n",
       "    </tr>\n",
       "    <tr>\n",
       "      <th>12</th>\n",
       "      <td>imc</td>\n",
       "      <td>continuous/float64</td>\n",
       "    </tr>\n",
       "    <tr>\n",
       "      <th>13</th>\n",
       "      <td>frecuencia_cardiaca</td>\n",
       "      <td>ordinal/float64</td>\n",
       "    </tr>\n",
       "    <tr>\n",
       "      <th>14</th>\n",
       "      <td>glicemia</td>\n",
       "      <td>continuous/float64</td>\n",
       "    </tr>\n",
       "  </tbody>\n",
       "</table>\n",
       "</div>"
      ],
      "text/plain": [
       "                        Feature            Datatype\n",
       "0             riesgo_eac_decada   categorical/int64\n",
       "1                          sexo   categorical/int64\n",
       "2                          edad       ordinal/int64\n",
       "3                       fumador   categorical/int64\n",
       "4           cigarrillos_por_dia       ordinal/int64\n",
       "5       uso_medicamento_presion       ordinal/int64\n",
       "6                           acv   categorical/int64\n",
       "7                  hipertension   categorical/int64\n",
       "8                      diabetes   categorical/int64\n",
       "9              colesterol_total     ordinal/float64\n",
       "10   presion_arterial_sistolica  continuous/float64\n",
       "11  presion_arterial_diastolica  continuous/float64\n",
       "12                          imc  continuous/float64\n",
       "13          frecuencia_cardiaca     ordinal/float64\n",
       "14                     glicemia  continuous/float64"
      ]
     },
     "execution_count": 43,
     "metadata": {},
     "output_type": "execute_result"
    }
   ],
   "source": [
    "ds.summary()"
   ]
  },
  {
   "cell_type": "markdown",
   "id": "d878739d",
   "metadata": {},
   "source": [
    "### 3.2 Ejecutando transformaciones"
   ]
  },
  {
   "cell_type": "code",
   "execution_count": 44,
   "id": "00ba901e",
   "metadata": {},
   "outputs": [
    {
     "data": {
      "text/plain": [
       "count    4088.000000\n",
       "mean        8.992417\n",
       "std        11.910941\n",
       "min         0.000000\n",
       "25%         0.000000\n",
       "50%         0.000000\n",
       "75%        20.000000\n",
       "max        70.000000\n",
       "Name: cigarrillos_por_dia, dtype: float64"
      ]
     },
     "execution_count": 44,
     "metadata": {},
     "output_type": "execute_result"
    }
   ],
   "source": [
    "ds.cigarrillos_por_dia.describe()"
   ]
  },
  {
   "cell_type": "code",
   "execution_count": 45,
   "id": "17e18c4b",
   "metadata": {},
   "outputs": [
    {
     "data": {
      "text/plain": [
       "(0.0, 70.0)"
      ]
     },
     "execution_count": 45,
     "metadata": {},
     "output_type": "execute_result"
    },
    {
     "data": {
      "image/png": "[encoded data removed]",
      "text/plain": [
       "<Figure size 432x288 with 1 Axes>"
      ]
     },
     "metadata": {
      "needs_background": "light"
     },
     "output_type": "display_data"
    }
   ],
   "source": [
    "ax = sns.distplot(ds.cigarrillos_por_dia, norm_hist=False)\n",
    "ax.set_xlim(0,70)"
   ]
  },
  {
   "cell_type": "code",
   "execution_count": 46,
   "id": "aacd1e9d",
   "metadata": {},
   "outputs": [
    {
     "data": {
      "text/plain": [
       "0    2084\n",
       "1    2004\n",
       "Name: fumador, dtype: int64"
      ]
     },
     "execution_count": 46,
     "metadata": {},
     "output_type": "execute_result"
    }
   ],
   "source": [
    "ds.fumador.value_counts()"
   ]
  },
  {
   "cell_type": "code",
   "execution_count": 47,
   "id": "32ce10d9",
   "metadata": {},
   "outputs": [
    {
     "data": {
      "text/plain": [
       "<AxesSubplot:xlabel='cigarrillos_por_dia'>"
      ]
     },
     "execution_count": 47,
     "metadata": {},
     "output_type": "execute_result"
    },
    {
     "data": {
      "image/png": "[encoded data removed]",
      "text/plain": [
       "<Figure size 432x288 with 1 Axes>"
      ]
     },
     "metadata": {
      "needs_background": "light"
     },
     "output_type": "display_data"
    }
   ],
   "source": [
    "sns.boxplot(ds.cigarrillos_por_dia)"
   ]
  },
  {
   "cell_type": "code",
   "execution_count": 48,
   "id": "a464b707",
   "metadata": {},
   "outputs": [
    {
     "data": {
      "text/plain": [
       "8.992416829745597"
      ]
     },
     "execution_count": 48,
     "metadata": {},
     "output_type": "execute_result"
    }
   ],
   "source": [
    "ds.cigarrillos_por_dia.mean()"
   ]
  },
  {
   "cell_type": "markdown",
   "id": "822cbc48",
   "metadata": {},
   "source": [
    "Definiendo las categorías de acuerdo con la cantidad de cigarrillos consumidos por día:\n",
    "\n",
    "\t0 - no fumador;\n",
    "    \n",
    "\t1 - fumador leve (1 a 10 cigarrillos por día);\n",
    "    \n",
    "\t2 - fumador moderado (11 a 20 cigarrillos por día);\n",
    "    \n",
    "\t3 - fumador severo (más de 20 cigarrillos por día).\n"
   ]
  },
  {
   "cell_type": "code",
   "execution_count": 49,
   "id": "12ca1354",
   "metadata": {},
   "outputs": [],
   "source": [
    "categorias = [0,1,2,3]\n",
    "limites = [-1,1,11,21,71]"
   ]
  },
  {
   "cell_type": "code",
   "execution_count": 50,
   "id": "05da4bb5",
   "metadata": {},
   "outputs": [],
   "source": [
    "categoria_de_fumador = pd.cut(ds.cigarrillos_por_dia, limites, labels=categorias)"
   ]
  },
  {
   "cell_type": "code",
   "execution_count": 51,
   "id": "2da325d0",
   "metadata": {},
   "outputs": [],
   "source": [
    "ds = ds.assign_column('categoria_de_fumador',categoria_de_fumador)"
   ]
  },
  {
   "cell_type": "code",
   "execution_count": 52,
   "id": "db52f58a",
   "metadata": {},
   "outputs": [
    {
     "data": {
      "text/plain": [
       "Index(['sexo', 'edad', 'fumador', 'cigarrillos_por_dia',\n",
       "       'uso_medicamento_presion', 'acv', 'hipertension', 'diabetes',\n",
       "       'colesterol_total', 'presion_arterial_sistolica',\n",
       "       'presion_arterial_diastolica', 'imc', 'frecuencia_cardiaca', 'glicemia',\n",
       "       'riesgo_eac_decada', 'categoria_de_fumador'],\n",
       "      dtype='object')"
      ]
     },
     "execution_count": 52,
     "metadata": {},
     "output_type": "execute_result"
    }
   ],
   "source": [
    "ds.columns"
   ]
  },
  {
   "cell_type": "markdown",
   "id": "1bce0053",
   "metadata": {},
   "source": [
    "### 3.3 Visualizando datos con ADS"
   ]
  },
  {
   "cell_type": "code",
   "execution_count": 53,
   "id": "d32b14ba",
   "metadata": {},
   "outputs": [
    {
     "data": {
      "application/vnd.jupyter.widget-view+json": {
       "model_id": "1d20536f135b4ed993151ff233869425",
       "version_major": 2,
       "version_minor": 0
      },
      "text/plain": [
       "Accordion(children=(HTML(value='<h3>Type: BinaryClassificationDataset</h3><h3>4,088 Rows, 16 Columns</h3><h4>C…"
      ]
     },
     "metadata": {},
     "output_type": "display_data"
    }
   ],
   "source": [
    "ds.show_in_notebook()"
   ]
  },
  {
   "cell_type": "markdown",
   "id": "b002c768",
   "metadata": {},
   "source": [
    "### 3.4 Generando más visualizaciones"
   ]
  },
  {
   "cell_type": "code",
   "execution_count": 54,
   "id": "a4d22b0a",
   "metadata": {},
   "outputs": [
    {
     "data": {
      "text/plain": []
     },
     "execution_count": 54,
     "metadata": {},
     "output_type": "execute_result"
    },
    {
     "data": {
      "image/png": "[encoded data removed]",
      "text/plain": [
       "<Figure size 576x432 with 1 Axes>"
      ]
     },
     "metadata": {},
     "output_type": "display_data"
    }
   ],
   "source": [
    "ds.plot('glicemia')"
   ]
  },
  {
   "cell_type": "code",
   "execution_count": 55,
   "id": "b3563c6c",
   "metadata": {},
   "outputs": [
    {
     "data": {
      "text/plain": []
     },
     "execution_count": 55,
     "metadata": {},
     "output_type": "execute_result"
    },
    {
     "data": {
      "image/png": "[encoded data removed]",
      "text/plain": [
       "<Figure size 576x432 with 1 Axes>"
      ]
     },
     "metadata": {},
     "output_type": "display_data"
    }
   ],
   "source": [
    "ds.plot('diabetes')"
   ]
  },
  {
   "cell_type": "code",
   "execution_count": 56,
   "id": "68a59168",
   "metadata": {},
   "outputs": [
    {
     "data": {
      "text/plain": []
     },
     "execution_count": 56,
     "metadata": {},
     "output_type": "execute_result"
    },
    {
     "data": {
      "image/png": "[encoded data removed]",
      "text/plain": [
       "<Figure size 576x432 with 1 Axes>"
      ]
     },
     "metadata": {},
     "output_type": "display_data"
    }
   ],
   "source": [
    "ds.plot('glicemia','diabetes')"
   ]
  },
  {
   "cell_type": "code",
   "execution_count": 57,
   "id": "a8e805e3",
   "metadata": {},
   "outputs": [
    {
     "data": {
      "text/plain": []
     },
     "execution_count": 57,
     "metadata": {},
     "output_type": "execute_result"
    },
    {
     "data": {
      "image/png": "[encoded data removed]",
      "text/plain": [
       "<Figure size 576x432 with 1 Axes>"
      ]
     },
     "metadata": {},
     "output_type": "display_data"
    }
   ],
   "source": [
    "ds.plot('categoria_de_fumador','acv')"
   ]
  },
  {
   "cell_type": "code",
   "execution_count": 58,
   "id": "5f0dda60",
   "metadata": {},
   "outputs": [],
   "source": [
    "#sns.pairplot(ds)"
   ]
  },
  {
   "cell_type": "code",
   "execution_count": 59,
   "id": "293d8e8d",
   "metadata": {},
   "outputs": [],
   "source": [
    "#pandas_ds = ds.to_pandas()"
   ]
  },
  {
   "cell_type": "code",
   "execution_count": 60,
   "id": "8b931309",
   "metadata": {},
   "outputs": [],
   "source": [
    "#sns.pairplot(pandas_ds)"
   ]
  },
  {
   "cell_type": "markdown",
   "id": "2549abfc",
   "metadata": {},
   "source": [
    "## Aula 4"
   ]
  },
  {
   "cell_type": "markdown",
   "id": "6f03775a",
   "metadata": {},
   "source": [
    "### 4.1 Correlación"
   ]
  },
  {
   "cell_type": "code",
   "execution_count": 61,
   "id": "b1b549de",
   "metadata": {},
   "outputs": [
    {
     "data": {
      "text/html": [
       "<div>\n",
       "<style scoped>\n",
       "    .dataframe tbody tr th:only-of-type {\n",
       "        vertical-align: middle;\n",
       "    }\n",
       "\n",
       "    .dataframe tbody tr th {\n",
       "        vertical-align: top;\n",
       "    }\n",
       "\n",
       "    .dataframe thead th {\n",
       "        text-align: right;\n",
       "    }\n",
       "</style>\n",
       "<table border=\"1\" class=\"dataframe\">\n",
       "  <thead>\n",
       "    <tr style=\"text-align: right;\">\n",
       "      <th></th>\n",
       "      <th>edad</th>\n",
       "      <th>cigarrillos_por_dia</th>\n",
       "      <th>colesterol_total</th>\n",
       "      <th>presion_arterial_sistolica</th>\n",
       "      <th>presion_arterial_diastolica</th>\n",
       "      <th>imc</th>\n",
       "      <th>frecuencia_cardiaca</th>\n",
       "      <th>glicemia</th>\n",
       "    </tr>\n",
       "  </thead>\n",
       "  <tbody>\n",
       "    <tr>\n",
       "      <th>edad</th>\n",
       "      <td>1.000000</td>\n",
       "      <td>-0.190383</td>\n",
       "      <td>0.262911</td>\n",
       "      <td>0.389943</td>\n",
       "      <td>0.203561</td>\n",
       "      <td>0.134536</td>\n",
       "      <td>-0.011746</td>\n",
       "      <td>0.113808</td>\n",
       "    </tr>\n",
       "    <tr>\n",
       "      <th>cigarrillos_por_dia</th>\n",
       "      <td>-0.190383</td>\n",
       "      <td>1.000000</td>\n",
       "      <td>-0.026620</td>\n",
       "      <td>-0.085891</td>\n",
       "      <td>-0.050922</td>\n",
       "      <td>-0.090474</td>\n",
       "      <td>0.071100</td>\n",
       "      <td>-0.052875</td>\n",
       "    </tr>\n",
       "    <tr>\n",
       "      <th>colesterol_total</th>\n",
       "      <td>0.262911</td>\n",
       "      <td>-0.026620</td>\n",
       "      <td>1.000000</td>\n",
       "      <td>0.211712</td>\n",
       "      <td>0.167580</td>\n",
       "      <td>0.121683</td>\n",
       "      <td>0.089519</td>\n",
       "      <td>0.044952</td>\n",
       "    </tr>\n",
       "    <tr>\n",
       "      <th>presion_arterial_sistolica</th>\n",
       "      <td>0.389943</td>\n",
       "      <td>-0.085891</td>\n",
       "      <td>0.211712</td>\n",
       "      <td>1.000000</td>\n",
       "      <td>0.784676</td>\n",
       "      <td>0.329870</td>\n",
       "      <td>0.182966</td>\n",
       "      <td>0.128163</td>\n",
       "    </tr>\n",
       "    <tr>\n",
       "      <th>presion_arterial_diastolica</th>\n",
       "      <td>0.203561</td>\n",
       "      <td>-0.050922</td>\n",
       "      <td>0.167580</td>\n",
       "      <td>0.784676</td>\n",
       "      <td>1.000000</td>\n",
       "      <td>0.382157</td>\n",
       "      <td>0.178012</td>\n",
       "      <td>0.059748</td>\n",
       "    </tr>\n",
       "    <tr>\n",
       "      <th>imc</th>\n",
       "      <td>0.134536</td>\n",
       "      <td>-0.090474</td>\n",
       "      <td>0.121683</td>\n",
       "      <td>0.329870</td>\n",
       "      <td>0.382157</td>\n",
       "      <td>1.000000</td>\n",
       "      <td>0.070806</td>\n",
       "      <td>0.084148</td>\n",
       "    </tr>\n",
       "    <tr>\n",
       "      <th>frecuencia_cardiaca</th>\n",
       "      <td>-0.011746</td>\n",
       "      <td>0.071100</td>\n",
       "      <td>0.089519</td>\n",
       "      <td>0.182966</td>\n",
       "      <td>0.178012</td>\n",
       "      <td>0.070806</td>\n",
       "      <td>1.000000</td>\n",
       "      <td>0.094429</td>\n",
       "    </tr>\n",
       "    <tr>\n",
       "      <th>glicemia</th>\n",
       "      <td>0.113808</td>\n",
       "      <td>-0.052875</td>\n",
       "      <td>0.044952</td>\n",
       "      <td>0.128163</td>\n",
       "      <td>0.059748</td>\n",
       "      <td>0.084148</td>\n",
       "      <td>0.094429</td>\n",
       "      <td>1.000000</td>\n",
       "    </tr>\n",
       "  </tbody>\n",
       "</table>\n",
       "</div>"
      ],
      "text/plain": [
       "                                 edad  cigarrillos_por_dia  colesterol_total  \\\n",
       "edad                         1.000000            -0.190383          0.262911   \n",
       "cigarrillos_por_dia         -0.190383             1.000000         -0.026620   \n",
       "colesterol_total             0.262911            -0.026620          1.000000   \n",
       "presion_arterial_sistolica   0.389943            -0.085891          0.211712   \n",
       "presion_arterial_diastolica  0.203561            -0.050922          0.167580   \n",
       "imc                          0.134536            -0.090474          0.121683   \n",
       "frecuencia_cardiaca         -0.011746             0.071100          0.089519   \n",
       "glicemia                     0.113808            -0.052875          0.044952   \n",
       "\n",
       "                             presion_arterial_sistolica  \\\n",
       "edad                                           0.389943   \n",
       "cigarrillos_por_dia                           -0.085891   \n",
       "colesterol_total                               0.211712   \n",
       "presion_arterial_sistolica                     1.000000   \n",
       "presion_arterial_diastolica                    0.784676   \n",
       "imc                                            0.329870   \n",
       "frecuencia_cardiaca                            0.182966   \n",
       "glicemia                                       0.128163   \n",
       "\n",
       "                             presion_arterial_diastolica       imc  \\\n",
       "edad                                            0.203561  0.134536   \n",
       "cigarrillos_por_dia                            -0.050922 -0.090474   \n",
       "colesterol_total                                0.167580  0.121683   \n",
       "presion_arterial_sistolica                      0.784676  0.329870   \n",
       "presion_arterial_diastolica                     1.000000  0.382157   \n",
       "imc                                             0.382157  1.000000   \n",
       "frecuencia_cardiaca                             0.178012  0.070806   \n",
       "glicemia                                        0.059748  0.084148   \n",
       "\n",
       "                             frecuencia_cardiaca  glicemia  \n",
       "edad                                   -0.011746  0.113808  \n",
       "cigarrillos_por_dia                     0.071100 -0.052875  \n",
       "colesterol_total                        0.089519  0.044952  \n",
       "presion_arterial_sistolica              0.182966  0.128163  \n",
       "presion_arterial_diastolica             0.178012  0.059748  \n",
       "imc                                     0.070806  0.084148  \n",
       "frecuencia_cardiaca                     1.000000  0.094429  \n",
       "glicemia                                0.094429  1.000000  "
      ]
     },
     "execution_count": 61,
     "metadata": {},
     "output_type": "execute_result"
    }
   ],
   "source": [
    "ds.corr()"
   ]
  },
  {
   "cell_type": "code",
   "execution_count": 62,
   "id": "9acfeed5",
   "metadata": {},
   "outputs": [],
   "source": [
    "import matplotlib.pyplot as plt"
   ]
  },
  {
   "cell_type": "code",
   "execution_count": 63,
   "id": "c4da2d5b",
   "metadata": {},
   "outputs": [
    {
     "data": {
      "text/plain": [
       "<AxesSubplot:>"
      ]
     },
     "execution_count": 63,
     "metadata": {},
     "output_type": "execute_result"
    },
    {
     "data": {
      "image/png": "[encoded data removed]",
      "text/plain": [
       "<Figure size 1152x864 with 2 Axes>"
      ]
     },
     "metadata": {},
     "output_type": "display_data"
    }
   ],
   "source": [
    "plt.figure(figsize=[8,6])\n",
    "paleta = sns.color_palette('light:salmon', as_cmap=True)\n",
    "sns.heatmap(ds.corr(),annot=True, cmap=paleta)"
   ]
  },
  {
   "cell_type": "markdown",
   "id": "39a3a738",
   "metadata": {},
   "source": [
    "### 4.2 ADS y sugerencias automáticas"
   ]
  },
  {
   "cell_type": "code",
   "execution_count": 64,
   "id": "92605e3b",
   "metadata": {},
   "outputs": [
    {
     "data": {
      "text/html": [
       "<div>\n",
       "<style scoped>\n",
       "    .dataframe tbody tr th:only-of-type {\n",
       "        vertical-align: middle;\n",
       "    }\n",
       "\n",
       "    .dataframe tbody tr th {\n",
       "        vertical-align: top;\n",
       "    }\n",
       "\n",
       "    .dataframe thead th {\n",
       "        text-align: right;\n",
       "    }\n",
       "</style>\n",
       "<table border=\"1\" class=\"dataframe\">\n",
       "  <thead>\n",
       "    <tr style=\"text-align: right;\">\n",
       "      <th></th>\n",
       "      <th></th>\n",
       "      <th></th>\n",
       "      <th></th>\n",
       "      <th>Code</th>\n",
       "    </tr>\n",
       "    <tr>\n",
       "      <th>Message</th>\n",
       "      <th>Variables</th>\n",
       "      <th>Suggested</th>\n",
       "      <th>Action</th>\n",
       "      <th></th>\n",
       "    </tr>\n",
       "  </thead>\n",
       "  <tbody>\n",
       "    <tr>\n",
       "      <th rowspan=\"3\" valign=\"top\">Strongly correlated with presion_arterial_diastolica(78.47%.)</th>\n",
       "      <th rowspan=\"3\" valign=\"top\">presion_arterial_sistolica</th>\n",
       "      <th rowspan=\"3\" valign=\"top\">Drop presion_arterial_diastolica</th>\n",
       "      <th>Drop presion_arterial_sistolica</th>\n",
       "      <td>.drop_columns([\"presion_arterial_sistolica\"])</td>\n",
       "    </tr>\n",
       "    <tr>\n",
       "      <th>Drop presion_arterial_diastolica</th>\n",
       "      <td>.drop_columns([\"presion_arterial_diastolica\"])</td>\n",
       "    </tr>\n",
       "    <tr>\n",
       "      <th>Do nothing</th>\n",
       "      <td></td>\n",
       "    </tr>\n",
       "    <tr>\n",
       "      <th rowspan=\"3\" valign=\"top\">Imbalanced Target(17.57%)</th>\n",
       "      <th rowspan=\"3\" valign=\"top\">riesgo_eac_decada</th>\n",
       "      <th rowspan=\"3\" valign=\"top\">Do nothing</th>\n",
       "      <th>Do nothing</th>\n",
       "      <td></td>\n",
       "    </tr>\n",
       "    <tr>\n",
       "      <th>Down-sample</th>\n",
       "      <td>.down_sample()</td>\n",
       "    </tr>\n",
       "    <tr>\n",
       "      <th>Up-sample</th>\n",
       "      <td>.up_sample(sampler='default')</td>\n",
       "    </tr>\n",
       "  </tbody>\n",
       "</table>\n",
       "</div>"
      ],
      "text/plain": [
       "                                                                                                                                                                                                      Code\n",
       "Message                                                       Variables                  Suggested                        Action                                                                          \n",
       "Strongly correlated with presion_arterial_diastolica(78.47%.) presion_arterial_sistolica Drop presion_arterial_diastolica Drop presion_arterial_sistolica    .drop_columns([\"presion_arterial_sistolica\"])\n",
       "                                                                                                                          Drop presion_arterial_diastolica  .drop_columns([\"presion_arterial_diastolica\"])\n",
       "                                                                                                                          Do nothing                                                                      \n",
       "Imbalanced Target(17.57%)                                     riesgo_eac_decada          Do nothing                       Do nothing                                                                      \n",
       "                                                                                                                          Down-sample                                                       .down_sample()\n",
       "                                                                                                                          Up-sample                                          .up_sample(sampler='default')"
      ]
     },
     "execution_count": 64,
     "metadata": {},
     "output_type": "execute_result"
    }
   ],
   "source": [
    "ds.suggest_recommendations()"
   ]
  },
  {
   "cell_type": "markdown",
   "id": "bcd8ec67",
   "metadata": {},
   "source": [
    "### 4.3 Aplicando sugerencias"
   ]
  },
  {
   "cell_type": "code",
   "execution_count": 65,
   "id": "e633b810",
   "metadata": {},
   "outputs": [
    {
     "data": {
      "application/vnd.jupyter.widget-view+json": {
       "model_id": "",
       "version_major": 2,
       "version_minor": 0
      },
      "text/plain": [
       "loop1:   0%|          | 0/4 [00:00<?, ?it/s]"
      ]
     },
     "metadata": {},
     "output_type": "display_data"
    },
    {
     "data": {
      "text/html": [
       "<div>\n",
       "<style scoped>\n",
       "    .dataframe tbody tr th:only-of-type {\n",
       "        vertical-align: middle;\n",
       "    }\n",
       "\n",
       "    .dataframe tbody tr th {\n",
       "        vertical-align: top;\n",
       "    }\n",
       "\n",
       "    .dataframe thead th {\n",
       "        text-align: right;\n",
       "    }\n",
       "</style>\n",
       "<table border=\"1\" class=\"dataframe\">\n",
       "  <thead>\n",
       "    <tr style=\"text-align: right;\">\n",
       "      <th></th>\n",
       "      <th>male</th>\n",
       "      <th>age</th>\n",
       "      <th>education</th>\n",
       "      <th>currentSmoker</th>\n",
       "      <th>cigsPerDay</th>\n",
       "      <th>BPMeds</th>\n",
       "      <th>prevalentStroke</th>\n",
       "      <th>prevalentHyp</th>\n",
       "      <th>diabetes</th>\n",
       "      <th>totChol</th>\n",
       "      <th>sysBP</th>\n",
       "      <th>diaBP</th>\n",
       "      <th>BMI</th>\n",
       "      <th>heartRate</th>\n",
       "      <th>glucose</th>\n",
       "      <th>TenYearCHD</th>\n",
       "    </tr>\n",
       "  </thead>\n",
       "  <tbody>\n",
       "    <tr>\n",
       "      <th>0</th>\n",
       "      <td>1</td>\n",
       "      <td>39</td>\n",
       "      <td>4.0</td>\n",
       "      <td>0</td>\n",
       "      <td>0.0</td>\n",
       "      <td>0.0</td>\n",
       "      <td>0</td>\n",
       "      <td>0</td>\n",
       "      <td>0</td>\n",
       "      <td>195.0</td>\n",
       "      <td>106.0</td>\n",
       "      <td>70.0</td>\n",
       "      <td>26.97</td>\n",
       "      <td>80.0</td>\n",
       "      <td>77.0</td>\n",
       "      <td>0</td>\n",
       "    </tr>\n",
       "    <tr>\n",
       "      <th>1</th>\n",
       "      <td>0</td>\n",
       "      <td>46</td>\n",
       "      <td>2.0</td>\n",
       "      <td>0</td>\n",
       "      <td>0.0</td>\n",
       "      <td>0.0</td>\n",
       "      <td>0</td>\n",
       "      <td>0</td>\n",
       "      <td>0</td>\n",
       "      <td>250.0</td>\n",
       "      <td>121.0</td>\n",
       "      <td>81.0</td>\n",
       "      <td>28.73</td>\n",
       "      <td>95.0</td>\n",
       "      <td>76.0</td>\n",
       "      <td>0</td>\n",
       "    </tr>\n",
       "    <tr>\n",
       "      <th>2</th>\n",
       "      <td>1</td>\n",
       "      <td>48</td>\n",
       "      <td>1.0</td>\n",
       "      <td>1</td>\n",
       "      <td>20.0</td>\n",
       "      <td>0.0</td>\n",
       "      <td>0</td>\n",
       "      <td>0</td>\n",
       "      <td>0</td>\n",
       "      <td>245.0</td>\n",
       "      <td>127.5</td>\n",
       "      <td>80.0</td>\n",
       "      <td>25.34</td>\n",
       "      <td>75.0</td>\n",
       "      <td>70.0</td>\n",
       "      <td>0</td>\n",
       "    </tr>\n",
       "    <tr>\n",
       "      <th>3</th>\n",
       "      <td>0</td>\n",
       "      <td>61</td>\n",
       "      <td>3.0</td>\n",
       "      <td>1</td>\n",
       "      <td>30.0</td>\n",
       "      <td>0.0</td>\n",
       "      <td>0</td>\n",
       "      <td>1</td>\n",
       "      <td>0</td>\n",
       "      <td>225.0</td>\n",
       "      <td>150.0</td>\n",
       "      <td>95.0</td>\n",
       "      <td>28.58</td>\n",
       "      <td>65.0</td>\n",
       "      <td>103.0</td>\n",
       "      <td>1</td>\n",
       "    </tr>\n",
       "    <tr>\n",
       "      <th>4</th>\n",
       "      <td>0</td>\n",
       "      <td>46</td>\n",
       "      <td>3.0</td>\n",
       "      <td>1</td>\n",
       "      <td>23.0</td>\n",
       "      <td>0.0</td>\n",
       "      <td>0</td>\n",
       "      <td>0</td>\n",
       "      <td>0</td>\n",
       "      <td>285.0</td>\n",
       "      <td>130.0</td>\n",
       "      <td>84.0</td>\n",
       "      <td>23.10</td>\n",
       "      <td>85.0</td>\n",
       "      <td>85.0</td>\n",
       "      <td>0</td>\n",
       "    </tr>\n",
       "  </tbody>\n",
       "</table>\n",
       "</div>"
      ],
      "text/plain": [
       "   male  age  education  currentSmoker  cigsPerDay  BPMeds  prevalentStroke  \\\n",
       "0     1   39        4.0              0         0.0     0.0                0   \n",
       "1     0   46        2.0              0         0.0     0.0                0   \n",
       "2     1   48        1.0              1        20.0     0.0                0   \n",
       "3     0   61        3.0              1        30.0     0.0                0   \n",
       "4     0   46        3.0              1        23.0     0.0                0   \n",
       "\n",
       "   prevalentHyp  diabetes  totChol  sysBP  diaBP    BMI  heartRate  glucose  \\\n",
       "0             0         0    195.0  106.0   70.0  26.97       80.0     77.0   \n",
       "1             0         0    250.0  121.0   81.0  28.73       95.0     76.0   \n",
       "2             0         0    245.0  127.5   80.0  25.34       75.0     70.0   \n",
       "3             1         0    225.0  150.0   95.0  28.58       65.0    103.0   \n",
       "4             0         0    285.0  130.0   84.0  23.10       85.0     85.0   \n",
       "\n",
       "   TenYearCHD  \n",
       "0           0  \n",
       "1           0  \n",
       "2           0  \n",
       "3           1  \n",
       "4           0  "
      ]
     },
     "execution_count": 65,
     "metadata": {},
     "output_type": "execute_result"
    }
   ],
   "source": [
    "base_original = DatasetFactory.open('framingham.csv', target='TenYearCHD')\n",
    "base_original.head()"
   ]
  },
  {
   "cell_type": "code",
   "execution_count": 66,
   "id": "b2d8ec92",
   "metadata": {},
   "outputs": [
    {
     "data": {
      "text/plain": [
       "Index(['sexo', 'edad', 'escolaridad', 'fumador', 'cigarrillos_por_dia',\n",
       "       'uso_medicamento_presion', 'acv', 'hipertension', 'diabetes',\n",
       "       'colesterol_total', 'presion_arterial_sistolica',\n",
       "       'presion_arterial_diastolica', 'imc', 'frecuencia_cardiaca', 'glicemia',\n",
       "       'riesgo_eac_decada'],\n",
       "      dtype='object')"
      ]
     },
     "execution_count": 66,
     "metadata": {},
     "output_type": "execute_result"
    }
   ],
   "source": [
    "base_original = base_original.rename_columns(dict_ing_esp)\n",
    "base_original.columns"
   ]
  },
  {
   "cell_type": "code",
   "execution_count": 67,
   "id": "0458d678",
   "metadata": {},
   "outputs": [
    {
     "data": {
      "text/html": [
       "<div>\n",
       "<style scoped>\n",
       "    .dataframe tbody tr th:only-of-type {\n",
       "        vertical-align: middle;\n",
       "    }\n",
       "\n",
       "    .dataframe tbody tr th {\n",
       "        vertical-align: top;\n",
       "    }\n",
       "\n",
       "    .dataframe thead th {\n",
       "        text-align: right;\n",
       "    }\n",
       "</style>\n",
       "<table border=\"1\" class=\"dataframe\">\n",
       "  <thead>\n",
       "    <tr style=\"text-align: right;\">\n",
       "      <th></th>\n",
       "      <th></th>\n",
       "      <th></th>\n",
       "      <th></th>\n",
       "      <th>Code</th>\n",
       "    </tr>\n",
       "    <tr>\n",
       "      <th>Message</th>\n",
       "      <th>Variables</th>\n",
       "      <th>Suggested</th>\n",
       "      <th>Action</th>\n",
       "      <th></th>\n",
       "    </tr>\n",
       "  </thead>\n",
       "  <tbody>\n",
       "    <tr>\n",
       "      <th rowspan=\"4\" valign=\"top\">Contains missing values(105)</th>\n",
       "      <th rowspan=\"4\" valign=\"top\">escolaridad</th>\n",
       "      <th rowspan=\"4\" valign=\"top\">Fill missing values with frequent</th>\n",
       "      <th>Drop</th>\n",
       "      <td>.drop_columns([\"escolaridad\"])</td>\n",
       "    </tr>\n",
       "    <tr>\n",
       "      <th>Fill missing values with frequent</th>\n",
       "      <td>.fillna({\"escolaridad\": 1.0})</td>\n",
       "    </tr>\n",
       "    <tr>\n",
       "      <th>Fill missing values with constant</th>\n",
       "      <td>.fillna({\"escolaridad\": \"constant\"})</td>\n",
       "    </tr>\n",
       "    <tr>\n",
       "      <th>Do nothing</th>\n",
       "      <td></td>\n",
       "    </tr>\n",
       "    <tr>\n",
       "      <th rowspan=\"4\" valign=\"top\">Contains missing values(29)</th>\n",
       "      <th rowspan=\"4\" valign=\"top\">cigarrillos_por_dia</th>\n",
       "      <th rowspan=\"4\" valign=\"top\">Fill missing values with frequent</th>\n",
       "      <th>Drop</th>\n",
       "      <td>.drop_columns([\"cigarrillos_por_dia\"])</td>\n",
       "    </tr>\n",
       "    <tr>\n",
       "      <th>Fill missing values with frequent</th>\n",
       "      <td>.fillna({\"cigarrillos_por_dia\": 0.0})</td>\n",
       "    </tr>\n",
       "    <tr>\n",
       "      <th>Fill missing values with constant</th>\n",
       "      <td>.fillna({\"cigarrillos_por_dia\": \"constant\"})</td>\n",
       "    </tr>\n",
       "    <tr>\n",
       "      <th>Do nothing</th>\n",
       "      <td></td>\n",
       "    </tr>\n",
       "    <tr>\n",
       "      <th rowspan=\"4\" valign=\"top\">Contains missing values(53)</th>\n",
       "      <th rowspan=\"4\" valign=\"top\">uso_medicamento_presion</th>\n",
       "      <th rowspan=\"4\" valign=\"top\">Fill missing values with frequent</th>\n",
       "      <th>Drop</th>\n",
       "      <td>.drop_columns([\"uso_medicamento_presion\"])</td>\n",
       "    </tr>\n",
       "    <tr>\n",
       "      <th>Fill missing values with frequent</th>\n",
       "      <td>.fillna({\"uso_medicamento_presion\": 0.0})</td>\n",
       "    </tr>\n",
       "    <tr>\n",
       "      <th>Fill missing values with constant</th>\n",
       "      <td>.fillna({\"uso_medicamento_presion\": \"constant\"})</td>\n",
       "    </tr>\n",
       "    <tr>\n",
       "      <th>Do nothing</th>\n",
       "      <td></td>\n",
       "    </tr>\n",
       "    <tr>\n",
       "      <th rowspan=\"4\" valign=\"top\">Contains missing values(50)</th>\n",
       "      <th rowspan=\"4\" valign=\"top\">colesterol_total</th>\n",
       "      <th rowspan=\"4\" valign=\"top\">Fill missing values with frequent</th>\n",
       "      <th>Drop</th>\n",
       "      <td>.drop_columns([\"colesterol_total\"])</td>\n",
       "    </tr>\n",
       "    <tr>\n",
       "      <th>Fill missing values with frequent</th>\n",
       "      <td>.fillna({\"colesterol_total\": 240.0})</td>\n",
       "    </tr>\n",
       "    <tr>\n",
       "      <th>Fill missing values with constant</th>\n",
       "      <td>.fillna({\"colesterol_total\": \"constant\"})</td>\n",
       "    </tr>\n",
       "    <tr>\n",
       "      <th>Do nothing</th>\n",
       "      <td></td>\n",
       "    </tr>\n",
       "    <tr>\n",
       "      <th rowspan=\"6\" valign=\"top\">Contains missing values(19)</th>\n",
       "      <th rowspan=\"6\" valign=\"top\">imc</th>\n",
       "      <th rowspan=\"6\" valign=\"top\">Fill missing values with mean</th>\n",
       "      <th>Drop</th>\n",
       "      <td>.drop_columns([\"imc\"])</td>\n",
       "    </tr>\n",
       "    <tr>\n",
       "      <th>Fill missing values with mean</th>\n",
       "      <td>.fillna({\"imc\": 25.802})</td>\n",
       "    </tr>\n",
       "    <tr>\n",
       "      <th>Fill missing values with median</th>\n",
       "      <td>.fillna({\"imc\": 25.4})</td>\n",
       "    </tr>\n",
       "    <tr>\n",
       "      <th>Fill missing values with frequent</th>\n",
       "      <td>.fillna({\"imc\": 22.19})</td>\n",
       "    </tr>\n",
       "    <tr>\n",
       "      <th>Fill missing values with constant</th>\n",
       "      <td>.fillna({\"imc\": \"constant\"})</td>\n",
       "    </tr>\n",
       "    <tr>\n",
       "      <th>Do nothing</th>\n",
       "      <td></td>\n",
       "    </tr>\n",
       "    <tr>\n",
       "      <th rowspan=\"4\" valign=\"top\">Contains missing values(1)</th>\n",
       "      <th rowspan=\"4\" valign=\"top\">frecuencia_cardiaca</th>\n",
       "      <th rowspan=\"4\" valign=\"top\">Fill missing values with frequent</th>\n",
       "      <th>Drop</th>\n",
       "      <td>.drop_columns([\"frecuencia_cardiaca\"])</td>\n",
       "    </tr>\n",
       "    <tr>\n",
       "      <th>Fill missing values with frequent</th>\n",
       "      <td>.fillna({\"frecuencia_cardiaca\": 75.0})</td>\n",
       "    </tr>\n",
       "    <tr>\n",
       "      <th>Fill missing values with constant</th>\n",
       "      <td>.fillna({\"frecuencia_cardiaca\": \"constant\"})</td>\n",
       "    </tr>\n",
       "    <tr>\n",
       "      <th>Do nothing</th>\n",
       "      <td></td>\n",
       "    </tr>\n",
       "    <tr>\n",
       "      <th rowspan=\"4\" valign=\"top\">Contains missing values(388)</th>\n",
       "      <th rowspan=\"4\" valign=\"top\">glicemia</th>\n",
       "      <th rowspan=\"4\" valign=\"top\">Fill missing values with frequent</th>\n",
       "      <th>Drop</th>\n",
       "      <td>.drop_columns([\"glicemia\"])</td>\n",
       "    </tr>\n",
       "    <tr>\n",
       "      <th>Fill missing values with frequent</th>\n",
       "      <td>.fillna({\"glicemia\": 75.0})</td>\n",
       "    </tr>\n",
       "    <tr>\n",
       "      <th>Fill missing values with constant</th>\n",
       "      <td>.fillna({\"glicemia\": \"constant\"})</td>\n",
       "    </tr>\n",
       "    <tr>\n",
       "      <th>Do nothing</th>\n",
       "      <td></td>\n",
       "    </tr>\n",
       "    <tr>\n",
       "      <th rowspan=\"3\" valign=\"top\">Strongly correlated with presion_arterial_diastolica(78.40%.)</th>\n",
       "      <th rowspan=\"3\" valign=\"top\">presion_arterial_sistolica</th>\n",
       "      <th rowspan=\"3\" valign=\"top\">Drop presion_arterial_diastolica</th>\n",
       "      <th>Drop presion_arterial_sistolica</th>\n",
       "      <td>.drop_columns([\"presion_arterial_sistolica\"])</td>\n",
       "    </tr>\n",
       "    <tr>\n",
       "      <th>Drop presion_arterial_diastolica</th>\n",
       "      <td>.drop_columns([\"presion_arterial_diastolica\"])</td>\n",
       "    </tr>\n",
       "    <tr>\n",
       "      <th>Do nothing</th>\n",
       "      <td></td>\n",
       "    </tr>\n",
       "    <tr>\n",
       "      <th rowspan=\"3\" valign=\"top\">Imbalanced Target(17.92%)</th>\n",
       "      <th rowspan=\"3\" valign=\"top\">riesgo_eac_decada</th>\n",
       "      <th rowspan=\"3\" valign=\"top\">Do nothing</th>\n",
       "      <th>Do nothing</th>\n",
       "      <td></td>\n",
       "    </tr>\n",
       "    <tr>\n",
       "      <th>Down-sample</th>\n",
       "      <td>.down_sample()</td>\n",
       "    </tr>\n",
       "    <tr>\n",
       "      <th>Up-sample</th>\n",
       "      <td>.up_sample(sampler='default')</td>\n",
       "    </tr>\n",
       "  </tbody>\n",
       "</table>\n",
       "</div>"
      ],
      "text/plain": [
       "                                                                                                                                                                                                          Code\n",
       "Message                                                       Variables                  Suggested                         Action                                                                             \n",
       "Contains missing values(105)                                  escolaridad                Fill missing values with frequent Drop                                                 .drop_columns([\"escolaridad\"])\n",
       "                                                                                                                           Fill missing values with frequent                     .fillna({\"escolaridad\": 1.0})\n",
       "                                                                                                                           Fill missing values with constant              .fillna({\"escolaridad\": \"constant\"})\n",
       "                                                                                                                           Do nothing                                                                         \n",
       "Contains missing values(29)                                   cigarrillos_por_dia        Fill missing values with frequent Drop                                         .drop_columns([\"cigarrillos_por_dia\"])\n",
       "                                                                                                                           Fill missing values with frequent             .fillna({\"cigarrillos_por_dia\": 0.0})\n",
       "                                                                                                                           Fill missing values with constant      .fillna({\"cigarrillos_por_dia\": \"constant\"})\n",
       "                                                                                                                           Do nothing                                                                         \n",
       "Contains missing values(53)                                   uso_medicamento_presion    Fill missing values with frequent Drop                                     .drop_columns([\"uso_medicamento_presion\"])\n",
       "                                                                                                                           Fill missing values with frequent         .fillna({\"uso_medicamento_presion\": 0.0})\n",
       "                                                                                                                           Fill missing values with constant  .fillna({\"uso_medicamento_presion\": \"constant\"})\n",
       "                                                                                                                           Do nothing                                                                         \n",
       "Contains missing values(50)                                   colesterol_total           Fill missing values with frequent Drop                                            .drop_columns([\"colesterol_total\"])\n",
       "                                                                                                                           Fill missing values with frequent              .fillna({\"colesterol_total\": 240.0})\n",
       "                                                                                                                           Fill missing values with constant         .fillna({\"colesterol_total\": \"constant\"})\n",
       "                                                                                                                           Do nothing                                                                         \n",
       "Contains missing values(19)                                   imc                        Fill missing values with mean     Drop                                                         .drop_columns([\"imc\"])\n",
       "                                                                                                                           Fill missing values with mean                              .fillna({\"imc\": 25.802})\n",
       "                                                                                                                           Fill missing values with median                              .fillna({\"imc\": 25.4})\n",
       "                                                                                                                           Fill missing values with frequent                           .fillna({\"imc\": 22.19})\n",
       "                                                                                                                           Fill missing values with constant                      .fillna({\"imc\": \"constant\"})\n",
       "                                                                                                                           Do nothing                                                                         \n",
       "Contains missing values(1)                                    frecuencia_cardiaca        Fill missing values with frequent Drop                                         .drop_columns([\"frecuencia_cardiaca\"])\n",
       "                                                                                                                           Fill missing values with frequent            .fillna({\"frecuencia_cardiaca\": 75.0})\n",
       "                                                                                                                           Fill missing values with constant      .fillna({\"frecuencia_cardiaca\": \"constant\"})\n",
       "                                                                                                                           Do nothing                                                                         \n",
       "Contains missing values(388)                                  glicemia                   Fill missing values with frequent Drop                                                    .drop_columns([\"glicemia\"])\n",
       "                                                                                                                           Fill missing values with frequent                       .fillna({\"glicemia\": 75.0})\n",
       "                                                                                                                           Fill missing values with constant                 .fillna({\"glicemia\": \"constant\"})\n",
       "                                                                                                                           Do nothing                                                                         \n",
       "Strongly correlated with presion_arterial_diastolica(78.40%.) presion_arterial_sistolica Drop presion_arterial_diastolica  Drop presion_arterial_sistolica       .drop_columns([\"presion_arterial_sistolica\"])\n",
       "                                                                                                                           Drop presion_arterial_diastolica     .drop_columns([\"presion_arterial_diastolica\"])\n",
       "                                                                                                                           Do nothing                                                                         \n",
       "Imbalanced Target(17.92%)                                     riesgo_eac_decada          Do nothing                        Do nothing                                                                         \n",
       "                                                                                                                           Down-sample                                                          .down_sample()\n",
       "                                                                                                                           Up-sample                                             .up_sample(sampler='default')"
      ]
     },
     "execution_count": 67,
     "metadata": {},
     "output_type": "execute_result"
    }
   ],
   "source": [
    "base_original.suggest_recommendations()"
   ]
  },
  {
   "cell_type": "code",
   "execution_count": 68,
   "id": "76fe3322",
   "metadata": {},
   "outputs": [
    {
     "data": {
      "application/vnd.jupyter.widget-view+json": {
       "model_id": "",
       "version_major": 2,
       "version_minor": 0
      },
      "text/plain": [
       "loop1:   0%|          | 0/7 [00:00<?, ?it/s]"
      ]
     },
     "metadata": {},
     "output_type": "display_data"
    }
   ],
   "source": [
    "base_original = base_original.auto_transform()\n"
   ]
  },
  {
   "cell_type": "code",
   "execution_count": 69,
   "id": "79145a5e",
   "metadata": {},
   "outputs": [
    {
     "data": {
      "application/vnd.jupyter.widget-view+json": {
       "model_id": "64733cfb1c1f44deb8496ce130a99c7a",
       "version_major": 2,
       "version_minor": 0
      },
      "text/plain": [
       "Accordion(children=(HTML(value='<h3>Type: BinaryClassificationDataset</h3><h3>4,238 Rows, 15 Columns</h3><h4>C…"
      ]
     },
     "metadata": {},
     "output_type": "display_data"
    }
   ],
   "source": [
    "base_original.show_in_notebook()"
   ]
  },
  {
   "cell_type": "markdown",
   "id": "2c89ec10",
   "metadata": {},
   "source": [
    "### 4.4 Comparando las bases"
   ]
  },
  {
   "cell_type": "code",
   "execution_count": 70,
   "id": "5edc3ce5",
   "metadata": {},
   "outputs": [
    {
     "data": {
      "application/vnd.jupyter.widget-view+json": {
       "model_id": "4f28ec03164143f5b47dcf7acbc5f482",
       "version_major": 2,
       "version_minor": 0
      },
      "text/plain": [
       "Accordion(children=(HTML(value='<h3>Type: BinaryClassificationDataset</h3><h3>4,088 Rows, 16 Columns</h3><h4>C…"
      ]
     },
     "metadata": {},
     "output_type": "display_data"
    }
   ],
   "source": [
    "ds.show_in_notebook()"
   ]
  },
  {
   "cell_type": "markdown",
   "id": "63540192",
   "metadata": {},
   "source": [
    "## Aula 5"
   ]
  },
  {
   "cell_type": "markdown",
   "id": "ebabca8d",
   "metadata": {},
   "source": [
    "### 5.1 Balanceo de los datos"
   ]
  },
  {
   "cell_type": "code",
   "execution_count": 71,
   "id": "df02af51",
   "metadata": {},
   "outputs": [
    {
     "data": {
      "image/png": "[encoded data removed]",
      "text/plain": [
       "<Figure size 576x432 with 1 Axes>"
      ]
     },
     "metadata": {},
     "output_type": "display_data"
    }
   ],
   "source": [
    "ds.target.show_in_notebook()"
   ]
  },
  {
   "cell_type": "code",
   "execution_count": 72,
   "id": "3d2ef895",
   "metadata": {},
   "outputs": [
    {
     "data": {
      "text/plain": [
       "0    0.850538\n",
       "1    0.149462\n",
       "Name: riesgo_eac_decada, dtype: float64"
      ]
     },
     "execution_count": 72,
     "metadata": {},
     "output_type": "execute_result"
    }
   ],
   "source": [
    "ds.riesgo_eac_decada.value_counts(normalize=True)"
   ]
  },
  {
   "cell_type": "markdown",
   "id": "93dbbb34",
   "metadata": {},
   "source": [
    "### 5.2 Aplicando el balanceo"
   ]
  },
  {
   "cell_type": "code",
   "execution_count": 73,
   "id": "125e1b5e",
   "metadata": {},
   "outputs": [
    {
     "data": {
      "text/plain": [
       "0    3477\n",
       "1     611\n",
       "Name: riesgo_eac_decada, dtype: int64"
      ]
     },
     "execution_count": 73,
     "metadata": {},
     "output_type": "execute_result"
    }
   ],
   "source": [
    "ds.riesgo_eac_decada.value_counts()"
   ]
  },
  {
   "cell_type": "code",
   "execution_count": 74,
   "id": "48d7513c",
   "metadata": {},
   "outputs": [
    {
     "name": "stdout",
     "output_type": "stream",
     "text": [
      "Requirement already satisfied: imbalanced-learn in ./conda/dataexplorationandmanipulationforcpupython3_7vy/lib/python3.7/site-packages (0.9.0)\n",
      "Requirement already satisfied: scipy>=1.1.0 in ./conda/dataexplorationandmanipulationforcpupython3_7vy/lib/python3.7/site-packages (from imbalanced-learn) (1.7.3)\n",
      "Requirement already satisfied: numpy>=1.14.6 in ./conda/dataexplorationandmanipulationforcpupython3_7vy/lib/python3.7/site-packages (from imbalanced-learn) (1.21.4)\n",
      "Requirement already satisfied: scikit-learn>=1.0.1 in ./conda/dataexplorationandmanipulationforcpupython3_7vy/lib/python3.7/site-packages (from imbalanced-learn) (1.0.2)\n",
      "Requirement already satisfied: threadpoolctl>=2.0.0 in ./conda/dataexplorationandmanipulationforcpupython3_7vy/lib/python3.7/site-packages (from imbalanced-learn) (3.0.0)\n",
      "Requirement already satisfied: joblib>=0.11 in ./conda/dataexplorationandmanipulationforcpupython3_7vy/lib/python3.7/site-packages (from imbalanced-learn) (1.1.0)\n"
     ]
    }
   ],
   "source": [
    "#!pip install imbalanced-learn"
   ]
  },
  {
   "cell_type": "code",
   "execution_count": 75,
   "id": "7f90e278",
   "metadata": {},
   "outputs": [],
   "source": [
    "import imblearn"
   ]
  },
  {
   "cell_type": "code",
   "execution_count": 76,
   "id": "3488ae0b",
   "metadata": {},
   "outputs": [],
   "source": [
    "ds_balanceado = ds.up_sample(sampler='default')"
   ]
  },
  {
   "cell_type": "code",
   "execution_count": 77,
   "id": "5623e0bd",
   "metadata": {},
   "outputs": [
    {
     "data": {
      "application/vnd.jupyter.widget-view+json": {
       "model_id": "29a992fa35ef44dcb2ce102ca9cda06c",
       "version_major": 2,
       "version_minor": 0
      },
      "text/plain": [
       "Accordion(children=(HTML(value='<h3>Type: BinaryClassificationDataset</h3><h3>6,954 Rows, 16 Columns</h3><h4>C…"
      ]
     },
     "metadata": {},
     "output_type": "display_data"
    }
   ],
   "source": [
    "ds_balanceado.show_in_notebook()"
   ]
  },
  {
   "cell_type": "markdown",
   "id": "8367f3ad",
   "metadata": {},
   "source": [
    "### 5.3 Documentación de datos"
   ]
  },
  {
   "cell_type": "code",
   "execution_count": 78,
   "id": "feaf14b3",
   "metadata": {},
   "outputs": [],
   "source": [
    "descripcion = \"\"\"\n",
    "- Información general: Esta base de datos se refiere a un estudio realizado recolectando datos sobre el estado de salud de los pacientes para tratar de clasificar el riesgo de enfermedad coronaria en los próximos 10 años. Para consultar la base original, puede acceder al siguiente [link](https://www.kaggle.com/dileep070/heart-disease-prediction-using-logistic-regression).\n",
    "\n",
    "Los datos fueron modificados con el objetivo de corregir los problemas de la base y dejarla lista para poder realizar modelos empleando Machine Learning.\n",
    "\n",
    "-Tipo de las Columnas:\n",
    "    - 'sexo': booleano;\n",
    "    - 'edad': numérico;\n",
    "    - 'cigarrillos_por_dia': categórico;                                                                   \n",
    "    - 'uso_medicamento_presion': booleano;\n",
    "    - 'acv': booleano;\n",
    "    - 'hipertension': booleano;\n",
    "    - 'diabetes': booleano;\n",
    "    - 'colesterol_total': numérico;\n",
    "    - 'presion_arterial_sistolica': numérico;\n",
    "    - 'presion_arterial_diastolica': numérico;\n",
    "    - 'imc': numérico;\n",
    "    - 'frecuencia_cardiaca': numérico;\n",
    "    - 'glicemia': numérico;\n",
    "    - 'riesgo_eac_decada': booleano.\n",
    "\n",
    "- Detalle de las Columnas:\n",
    "    - 'sexo': Considera masculino como 1 y femenino como 0;\n",
    "    - 'edad': Edad en años completos;\n",
    "    - 'cigarrillos_por_dia': Clasificación de las personas según la cantidad de cigarrillos consumidos por día:\n",
    "        0 - no fumador;\n",
    "        1 - fumador leve (1 a 10 cigarrillos por día);\n",
    "        2 - fumador moderado (11 a 20 cigarrillos por día);\n",
    "        3 - fumador severo (más de 20 cigarrillos por día).\n",
    "    - 'uso_medicamento_presion': Si la persona toma o no medicamentos para la presión;\n",
    "    - 'acv': Si ya tuvo Accidente Cerebro-Vascular;\n",
    "    - 'hipertension': Si la persona sufre de hipertensión;\n",
    "    - 'diabetes': Si la persona es diabética;\n",
    "    - 'colesterol_total': Cantidad de colesterol total;\n",
    "    - 'presion_arterial_sistolica': Presión arterial sistólica medida;\n",
    "    - 'presion_arterial_diastolica': Presión arterial diastólica medida;\n",
    "    - 'imc': Índice de masa corporal;\n",
    "    - 'frecuencia_cardiaca': frecuencia cardíaca en pulsaciones por minuto;\n",
    "    - 'glicemia': Cantidad de glicemia en la sangre,\n",
    "    - 'riesgo_EAC_decada': Clasificación de riesgo para enfermedad coronaria en los próximos 10 años:\n",
    "        0 - No está en el grupo de riesgo;\n",
    "        1 - Está en el grupo de riesgo.\n",
    "\"\"\""
   ]
  },
  {
   "cell_type": "code",
   "execution_count": 79,
   "id": "bb129c82",
   "metadata": {},
   "outputs": [],
   "source": [
    "ds_balanceado.description"
   ]
  },
  {
   "cell_type": "code",
   "execution_count": 81,
   "id": "7c1b650e",
   "metadata": {},
   "outputs": [],
   "source": [
    "ds_balanceado.set_description(descripcion)"
   ]
  },
  {
   "cell_type": "code",
   "execution_count": 82,
   "id": "0e09753a",
   "metadata": {},
   "outputs": [
    {
     "data": {
      "text/plain": [
       "\"\\n- Información general: Esta base de datos se refiere a un estudio realizado recolectando datos sobre el estado de salud de los pacientes para tratar de clasificar el riesgo de enfermedad coronaria en los próximos 10 años. Para consultar la base original, puede acceder al siguiente [link](https://www.kaggle.com/dileep070/heart-disease-prediction-using-logistic-regression).\\n\\nLos datos fueron modificados con el objetivo de corregir los problemas de la base y dejarla lista para poder realizar modelos empleando Machine Learning.\\n\\n-Tipo de las Columnas:\\n    - 'sexo': booleano;\\n    - 'edad': numérico;\\n    - 'cigarrillos_por_dia': categórico;                                                                   \\n    - 'uso_medicamento_presion': booleano;\\n    - 'acv': booleano;\\n    - 'hipertension': booleano;\\n    - 'diabetes': booleano;\\n    - 'colesterol_total': numérico;\\n    - 'presion_arterial_sistolica': numérico;\\n    - 'presion_arterial_diastolica': numérico;\\n    - 'imc': numérico;\\n    - 'frecuencia_cardiaca': numérico;\\n    - 'glicemia': numérico;\\n    - 'riesgo_eac_decada': booleano.\\n\\n- Detalle de las Columnas:\\n    - 'sexo': Considera masculino como 1 y femenino como 0;\\n    - 'edad': Edad en años completos;\\n    - 'cigarrillos_por_dia': Clasificación de las personas según la cantidad de cigarrillos consumidos por día:\\n        0 - no fumador;\\n        1 - fumador leve (1 a 10 cigarrillos por día);\\n        2 - fumador moderado (11 a 20 cigarrillos por día);\\n        3 - fumador severo (más de 20 cigarrillos por día).\\n    - 'uso_medicamento_presion': Si la persona toma o no medicamentos para la presión;\\n    - 'acv': Si ya tuvo Accidente Cerebro-Vascular;\\n    - 'hipertension': Si la persona sufre de hipertensión;\\n    - 'diabetes': Si la persona es diabética;\\n    - 'colesterol_total': Cantidad de colesterol total;\\n    - 'presion_arterial_sistolica': Presión arterial sistólica medida;\\n    - 'presion_arterial_diastolica': Presión arterial diastólica medida;\\n    - 'imc': Índice de masa corporal;\\n    - 'frecuencia_cardiaca': frecuencia cardíaca en pulsaciones por minuto;\\n    - 'glicemia': Cantidad de glicemia en la sangre,\\n    - 'riesgo_EAC_decada': Clasificación de riesgo para enfermedad coronaria en los próximos 10 años:\\n        0 - No está en el grupo de riesgo;\\n        1 - Está en el grupo de riesgo.\\n\""
      ]
     },
     "execution_count": 82,
     "metadata": {},
     "output_type": "execute_result"
    }
   ],
   "source": [
    "ds_balanceado.description"
   ]
  },
  {
   "cell_type": "code",
   "execution_count": 83,
   "id": "1b83fc83",
   "metadata": {},
   "outputs": [
    {
     "data": {
      "application/vnd.jupyter.widget-view+json": {
       "model_id": "ff3600aeb5e140fe8e876d2d9ad23898",
       "version_major": 2,
       "version_minor": 0
      },
      "text/plain": [
       "Accordion(children=(HTML(value=\"<h3>Type: BinaryClassificationDataset</h3><pre>\\n- Información general: Esta b…"
      ]
     },
     "metadata": {},
     "output_type": "display_data"
    }
   ],
   "source": [
    "ds_balanceado.show_in_notebook()"
   ]
  },
  {
   "cell_type": "markdown",
   "id": "638a331a",
   "metadata": {},
   "source": [
    "### 5.4 Generando un CSV"
   ]
  },
  {
   "cell_type": "code",
   "execution_count": 84,
   "id": "195ed6b2",
   "metadata": {},
   "outputs": [],
   "source": [
    "ds_balanceado.to_csv('datos_salud_final.csv', index=False)"
   ]
  },
  {
   "cell_type": "code",
   "execution_count": null,
   "id": "4646c286",
   "metadata": {},
   "outputs": [],
   "source": []
  }
 ],
 "metadata": {
  "kernelspec": {
   "display_name": "Python 3",
   "language": "python",
   "name": "python3"
  },
  "language_info": {
   "codemirror_mode": {
    "name": "ipython",
    "version": 3
   },
   "file_extension": ".py",
   "mimetype": "text/x-python",
   "name": "python",
   "nbconvert_exporter": "python",
   "pygments_lexer": "ipython3",
   "version": "3.11.3"
  }
 },
 "nbformat": 4,
 "nbformat_minor": 5
}
